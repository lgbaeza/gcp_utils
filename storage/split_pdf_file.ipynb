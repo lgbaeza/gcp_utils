{
 "cells": [
  {
   "cell_type": "code",
   "execution_count": 1,
   "id": "749bed04-6287-466f-9c57-abe87456b1ed",
   "metadata": {
    "tags": []
   },
   "outputs": [
    {
     "name": "stdout",
     "output_type": "stream",
     "text": [
      "Collecting PyPDF2\n",
      "  Using cached pypdf2-3.0.1-py3-none-any.whl.metadata (6.8 kB)\n",
      "Using cached pypdf2-3.0.1-py3-none-any.whl (232 kB)\n",
      "Installing collected packages: PyPDF2\n",
      "Successfully installed PyPDF2-3.0.1\n",
      "Note: you may need to restart the kernel to use updated packages.\n"
     ]
    }
   ],
   "source": [
    "pip install PyPDF2"
   ]
  },
  {
   "cell_type": "code",
   "execution_count": 2,
   "id": "918e0552-2f42-444f-af5b-835a1dfc2507",
   "metadata": {
    "tags": []
   },
   "outputs": [],
   "source": [
    "from google.cloud import storage\n",
    "from PyPDF2 import PdfReader, PdfWriter\n",
    "from io import BytesIO "
   ]
  },
  {
   "cell_type": "code",
   "execution_count": 3,
   "id": "cc125e46-1f7f-41bb-8b4e-0fb92dad6052",
   "metadata": {
    "tags": []
   },
   "outputs": [],
   "source": [
    "bucket_name = \"\"\n",
    "source_blob_name = \"filename.pdf\"\n",
    "destination_folder_name = source_blob_name"
   ]
  },
  {
   "cell_type": "code",
   "execution_count": 4,
   "id": "d04af08a-9b36-40f8-9074-210201a03cf2",
   "metadata": {
    "tags": []
   },
   "outputs": [],
   "source": [
    "storage_client = storage.Client()\n",
    "bucket = storage_client.bucket(bucket_name)\n",
    "\n",
    "# Download the source PDF from GCS\n",
    "source_blob = bucket.blob(source_blob_name)\n",
    "pdf_content = source_blob.download_as_bytes()"
   ]
  },
  {
   "cell_type": "code",
   "execution_count": 5,
   "id": "edbba7c8-91c9-4ccc-8bee-bcff247150dd",
   "metadata": {
    "tags": []
   },
   "outputs": [],
   "source": [
    "def split_pdf_in_gcs(bucket_name, source_blob_name, destination_folder_name):\n",
    "    with BytesIO(pdf_content) as pdf_file:\n",
    "        pdf_reader = PdfReader(pdf_file)\n",
    "        num_pages = len(pdf_reader.pages)\n",
    "\n",
    "        # Split and upload each page as a new PDF\n",
    "        for page_num in range(num_pages):\n",
    "            pdf_writer = PdfWriter()\n",
    "            pdf_writer.add_page(pdf_reader.pages[page_num])\n",
    "\n",
    "            # Create a unique name for each page PDF (adjust as needed)\n",
    "            page_blob_name = f\"{destination_folder_name}_page_{page_num + 1}.pdf\"\n",
    "\n",
    "            # Upload the page PDF to GCS\n",
    "            page_blob = bucket.blob(page_blob_name)\n",
    "\n",
    "            with BytesIO() as output_buffer:\n",
    "                pdf_writer.write(output_buffer)  \n",
    "                output_buffer.seek(0)\n",
    "                page_blob.upload_from_file(output_buffer, content_type='application/pdf')\n",
    "                pass\n",
    "\n",
    "            print(f\"Uploaded page {page_num + 1} to GCS: {page_blob_name}\")"
   ]
  },
  {
   "cell_type": "code",
   "execution_count": 6,
   "id": "8572ce3a-7c84-44a6-8c86-ce0e5ad8caba",
   "metadata": {
    "tags": []
   },
   "outputs": [
    {
     "name": "stdout",
     "output_type": "stream",
     "text": [
      "Uploaded page 1 to GCS: scratch/finances_lgb/lgbaeza VISA estado-de-cuenta-24-06-2024 (1).pdf_page_1.pdf\n",
      "Uploaded page 2 to GCS: scratch/finances_lgb/lgbaeza VISA estado-de-cuenta-24-06-2024 (1).pdf_page_2.pdf\n",
      "Uploaded page 3 to GCS: scratch/finances_lgb/lgbaeza VISA estado-de-cuenta-24-06-2024 (1).pdf_page_3.pdf\n",
      "Uploaded page 4 to GCS: scratch/finances_lgb/lgbaeza VISA estado-de-cuenta-24-06-2024 (1).pdf_page_4.pdf\n",
      "Uploaded page 5 to GCS: scratch/finances_lgb/lgbaeza VISA estado-de-cuenta-24-06-2024 (1).pdf_page_5.pdf\n"
     ]
    }
   ],
   "source": [
    "split_pdf_in_gcs(bucket_name, source_blob_name, destination_folder_name)"
   ]
  },
  {
   "cell_type": "code",
   "execution_count": null,
   "id": "b18659f6-9a0d-4f06-b82b-c38096f35379",
   "metadata": {},
   "outputs": [],
   "source": []
  }
 ],
 "metadata": {
  "kernelspec": {
   "display_name": "Python (Local)",
   "language": "python",
   "name": "base"
  },
  "language_info": {
   "codemirror_mode": {
    "name": "ipython",
    "version": 3
   },
   "file_extension": ".py",
   "mimetype": "text/x-python",
   "name": "python",
   "nbconvert_exporter": "python",
   "pygments_lexer": "ipython3",
   "version": "3.10.13"
  }
 },
 "nbformat": 4,
 "nbformat_minor": 5
}
