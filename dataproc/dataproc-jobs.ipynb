{
 "cells": [
  {
   "cell_type": "markdown",
   "id": "1b553a81-d772-4f73-8ef9-d50f6e4ff4b3",
   "metadata": {
    "tags": []
   },
   "source": [
    "# Dataproc Workflow jobs analysis"
   ]
  },
  {
   "cell_type": "markdown",
   "id": "178071c6-aae2-44de-8217-137582515b37",
   "metadata": {},
   "source": [
    "* This code will not run incrementally, but historically\n",
    "* Tables will be recreated at each run"
   ]
  },
  {
   "cell_type": "markdown",
   "id": "9f4ba4c1-4c4d-4052-b16a-9c11d3776515",
   "metadata": {
    "jp-MarkdownHeadingCollapsed": true,
    "tags": []
   },
   "source": [
    "### 1. Install upgrade dependencies"
   ]
  },
  {
   "cell_type": "code",
   "execution_count": null,
   "id": "363aa697-4b9f-49a1-83e3-fc6022b867e3",
   "metadata": {
    "scrolled": true,
    "tags": []
   },
   "outputs": [],
   "source": [
    "pip install google-cloud-dataproc"
   ]
  },
  {
   "cell_type": "code",
   "execution_count": null,
   "id": "c80e7282-68a3-44a8-bada-43bb900d8bf9",
   "metadata": {
    "scrolled": true,
    "tags": []
   },
   "outputs": [],
   "source": [
    "pip install --upgrade google-api-core"
   ]
  },
  {
   "cell_type": "markdown",
   "id": "68c5bab9-d137-4e1d-ae51-24a4adf9f8b9",
   "metadata": {},
   "source": [
    "##### 1.1 RESTART KERNEL"
   ]
  },
  {
   "cell_type": "markdown",
   "id": "36f7f7d5-8bf3-4aae-8106-03ae67f60f22",
   "metadata": {
    "tags": []
   },
   "source": [
    "### 2. Variables and imports"
   ]
  },
  {
   "cell_type": "code",
   "execution_count": 23,
   "id": "2fccea23-bb1d-494a-beff-fa93f9c928de",
   "metadata": {
    "tags": []
   },
   "outputs": [],
   "source": [
    "from google.cloud import dataproc_v1 as dataproc\n",
    "from google.api_core import client_options\n",
    "from google.longrunning.operations_pb2 import ListOperationsRequest\n",
    "from typing import Sequence, Tuple, Union\n",
    "from google.protobuf.json_format import MessageToJson \n",
    "import json\n",
    "import pandas as pd\n",
    "from google.cloud import bigquery"
   ]
  },
  {
   "cell_type": "code",
   "execution_count": 2,
   "id": "7fb0e9a8-4db8-4ab0-a6f8-9edf11c44dcc",
   "metadata": {
    "tags": []
   },
   "outputs": [],
   "source": [
    "PROJECT_ID = \"YOUR_PROJECT_ID\"\n",
    "GCP_REGION = \"us-central1\"\n",
    "BQ_DATASET_NAME = \"dataproc_analysis\"\n",
    "BQ_TABLE_NAME_RAW = \"operations_raw\"\n",
    "BQ_TABLE_NAME_CLEAN = \"operations_clean\"\n",
    "BQ_TABLE_NAME_MODEL = \"operations_model\"\n",
    "BQ_BILLING_DATASET_NAME = \"gcp_billing\"\n",
    "BQ_BILLING_TABLE_NAME = \"gcp_billing_export_resource_v1_019CAE_7D7330_15385C\""
   ]
  },
  {
   "cell_type": "code",
   "execution_count": 24,
   "id": "04544a15-5381-4ac9-a49e-4fbbb2290718",
   "metadata": {
    "tags": []
   },
   "outputs": [],
   "source": [
    "client_options = client_options.ClientOptions(\n",
    "    api_endpoint=f\"{GCP_REGION}-dataproc.googleapis.com:443\"\n",
    ")\n",
    "workflow_template_client = dataproc.WorkflowTemplateServiceClient(client_options=client_options)\n",
    "bq_client = bigquery.Client()"
   ]
  },
  {
   "cell_type": "code",
   "execution_count": 25,
   "id": "2244088f-3581-4f08-b23b-f35c7718750b",
   "metadata": {
    "tags": []
   },
   "outputs": [],
   "source": [
    "def run_bq_query(sql_query):\n",
    "    query_job = bq_client.query(sql_query)\n",
    "    return query_job.result()"
   ]
  },
  {
   "cell_type": "code",
   "execution_count": 26,
   "id": "af04229f-b1f1-428d-a1ba-b86dacfc3cbe",
   "metadata": {
    "tags": []
   },
   "outputs": [],
   "source": [
    "def save_to_bq(table_id, df, schema = None):\n",
    "    job_config = bigquery.LoadJobConfig(\n",
    "        write_disposition=\"WRITE_APPEND\",\n",
    "        schema = schema\n",
    "    )\n",
    "\n",
    "    job = bq_client.load_table_from_dataframe(df, table_id, job_config=job_config) \n",
    "    return job.result()"
   ]
  },
  {
   "cell_type": "code",
   "execution_count": 160,
   "id": "ce2c19be-5ef0-4d04-be49-76cfea9d6c24",
   "metadata": {
    "tags": []
   },
   "outputs": [
    {
     "data": {
      "text/plain": [
       "<google.cloud.bigquery.table._EmptyRowIterator at 0x7f055e66a0b0>"
      ]
     },
     "execution_count": 160,
     "metadata": {},
     "output_type": "execute_result"
    }
   ],
   "source": [
    "SQL_QUERY = f\"\"\"\n",
    "    CREATE OR REPLACE TABLE {BQ_DATASET_NAME}.{BQ_TABLE_NAME_RAW}\n",
    "    (\n",
    "        clusterUuid STRING,\n",
    "        clusterName STRING,\n",
    "        operationType STRING,\n",
    "        status STRING,\n",
    "        statusHistory STRING\n",
    "    );\n",
    "    CREATE OR REPLACE TABLE {BQ_DATASET_NAME}.{BQ_TABLE_NAME_CLEAN}\n",
    "    (\n",
    "        clusterUuid STRING, \n",
    "        clusterName STRING,\n",
    "        operationType STRING,\n",
    "        stateStartTime STRING\n",
    "    );\n",
    "    CREATE OR REPLACE TABLE {BQ_DATASET_NAME}.{BQ_TABLE_NAME_MODEL}\n",
    "    (\n",
    "        clusterUuid STRING, \n",
    "        clusterName STRING,\n",
    "        created TIMESTAMP,\n",
    "        deleted TIMESTAMP,\n",
    "        seconds_elapsed INTEGER,\n",
    "        date DATE,\n",
    "        hour INTEGER\n",
    "    );\n",
    "\"\"\"\n",
    "run_bq_query(SQL_QUERY)"
   ]
  },
  {
   "cell_type": "markdown",
   "id": "b071e7a2-d779-4274-aed6-2176455ec681",
   "metadata": {
    "jp-MarkdownHeadingCollapsed": true,
    "tags": []
   },
   "source": [
    "### 3. List workflow templates"
   ]
  },
  {
   "cell_type": "code",
   "execution_count": 28,
   "id": "8dd84b94-de9d-49bf-aafa-20c4a9cd7507",
   "metadata": {
    "tags": []
   },
   "outputs": [],
   "source": [
    "parent = f\"projects/{PROJECT_ID}/regions/{GCP_REGION}\"\n",
    "request = dataproc.ListWorkflowTemplatesRequest(parent=parent)"
   ]
  },
  {
   "cell_type": "code",
   "execution_count": 29,
   "id": "2f0067ef-416f-4dad-96f7-83463783a1ae",
   "metadata": {},
   "outputs": [],
   "source": [
    "page_result = workflow_template_client.list_workflow_templates(request=request)"
   ]
  },
  {
   "cell_type": "code",
   "execution_count": 30,
   "id": "86548456-13b3-41e0-81b3-9fc7a55c148a",
   "metadata": {},
   "outputs": [
    {
     "data": {
      "text/plain": [
       "[{'name': 'projects/lgbaeza-202310/regions/us-central1/workflowTemplates/template-0d563',\n",
       "  'id': 'template-0d563'},\n",
       " {'name': 'projects/lgbaeza-202310/regions/us-central1/workflowTemplates/template-27b5c',\n",
       "  'id': 'template-27b5c'},\n",
       " {'name': 'projects/lgbaeza-202310/regions/us-central1/workflowTemplates/template-2fd78',\n",
       "  'id': 'template-2fd78'},\n",
       " {'name': 'projects/lgbaeza-202310/regions/us-central1/workflowTemplates/template-702fa',\n",
       "  'id': 'template-702fa'}]"
      ]
     },
     "execution_count": 30,
     "metadata": {},
     "output_type": "execute_result"
    }
   ],
   "source": [
    "workflow_templates = []\n",
    "\n",
    "for response in page_result:\n",
    "    workflow_templates.append({\n",
    "        \"name\": response.name,\n",
    "        \"id\": response.id\n",
    "    })\n",
    "    \n",
    "workflow_templates"
   ]
  },
  {
   "cell_type": "markdown",
   "id": "aae2a7ee-043d-493c-8542-b6952f8abebf",
   "metadata": {
    "tags": []
   },
   "source": [
    "### 4. Get cluster operations and save them into BigQuery"
   ]
  },
  {
   "cell_type": "code",
   "execution_count": 157,
   "id": "032215df-a9f3-4b23-ab5f-a2c97f599833",
   "metadata": {
    "scrolled": true,
    "tags": []
   },
   "outputs": [],
   "source": [
    "def run_extract(filter_string):\n",
    "    operations_count = 0\n",
    "    page_token = \"\"\n",
    "    while True:\n",
    "        operations = []\n",
    "        request = ListOperationsRequest(\n",
    "            name = parent,\n",
    "            page_token = page_token,\n",
    "            filter = filter_string\n",
    "        )\n",
    "        execution_request = workflow_template_client.list_operations(request=request)\n",
    "        for ops in execution_request.operations:\n",
    "            if ops.metadata.type_url == \"type.googleapis.com/google.cloud.dataproc.v1.ClusterOperationMetadata\":\n",
    "                operations_count += 1\n",
    "                cluster_metadata = json.loads(MessageToJson(ops.metadata))\n",
    "                operations.append(cluster_metadata)\n",
    "\n",
    "        df = pd.DataFrame(operations)\n",
    "        df = df.explode(\"statusHistory\")\n",
    "        df[\"statusHistory\"] = df[\"statusHistory\"].apply(json.dumps)\n",
    "        df[\"status\"] = df[\"status\"].apply(json.dumps)\n",
    "        save_to_bq(\n",
    "            table_id = f\"{BQ_DATASET_NAME}.{BQ_TABLE_NAME_RAW}\",\n",
    "            df = df[[\"clusterName\", \"clusterUuid\", \"operationType\", \"statusHistory\", \"status\"]]\n",
    "        )\n",
    "\n",
    "        page_token = execution_request.next_page_token\n",
    "        if page_token == '':\n",
    "            return operations_count"
   ]
  },
  {
   "cell_type": "code",
   "execution_count": 161,
   "id": "c259c696-a1a1-465b-924e-d42f13c6f8c2",
   "metadata": {
    "tags": []
   },
   "outputs": [],
   "source": [
    "operations_count = 0\n",
    "filter_string = \"operationType=CREATE\"\n",
    "\n",
    "operations_count += run_extract(filter_string)\n",
    "\n",
    "filter_string = \"operationType=DELETE\"\n",
    "operations_count += run_extract(filter_string)"
   ]
  },
  {
   "cell_type": "code",
   "execution_count": 162,
   "id": "ea2ad878-7198-4bbf-80a5-fbc55787d88e",
   "metadata": {
    "tags": []
   },
   "outputs": [
    {
     "data": {
      "text/plain": [
       "'84 operations found'"
      ]
     },
     "execution_count": 162,
     "metadata": {},
     "output_type": "execute_result"
    }
   ],
   "source": [
    "f\"{operations_count} operations found\""
   ]
  },
  {
   "cell_type": "markdown",
   "id": "9861b3b0-d79d-42cc-980f-87395592a417",
   "metadata": {},
   "source": [
    "#### 5. Clean operations"
   ]
  },
  {
   "cell_type": "code",
   "execution_count": 163,
   "id": "7af22abb-4ded-4e69-8214-b2fd44f2d4a7",
   "metadata": {
    "scrolled": true,
    "tags": []
   },
   "outputs": [
    {
     "data": {
      "text/plain": [
       "<google.cloud.bigquery.table._EmptyRowIterator at 0x7f055e6697e0>"
      ]
     },
     "execution_count": 163,
     "metadata": {},
     "output_type": "execute_result"
    }
   ],
   "source": [
    "SQL_QUERY = f\"\"\"\n",
    "    INSERT INTO {BQ_DATASET_NAME}.{BQ_TABLE_NAME_CLEAN}\n",
    "      WITH operations_clean AS (\n",
    "        SELECT \n",
    "            clusterUuid\n",
    "            , clusterName\n",
    "            , operationType\n",
    "            , JSON_VALUE(PARSE_JSON(status), '$.state') state\n",
    "            , JSON_VALUE(PARSE_JSON(status), '$.stateStartTime') stateStartTime\n",
    "          FROM {BQ_DATASET_NAME}.{BQ_TABLE_NAME_RAW}\n",
    "      )\n",
    "      , created AS (\n",
    "        SELECT\n",
    "        *\n",
    "        , RANK() OVER ( PARTITION BY clusterUuid ORDER BY stateStartTime ASC) cluster_group\n",
    "        FROM operations_clean \n",
    "        WHERE operationType = 'CREATE'\n",
    "        GROUP BY 1,2,3,4,5\n",
    "        ORDER BY stateStartTime\n",
    "      )\n",
    "      , deleted AS (\n",
    "        SELECT\n",
    "        *\n",
    "        , RANK() OVER ( PARTITION BY clusterUuid ORDER BY stateStartTime DESC ) cluster_group\n",
    "        FROM operations_clean \n",
    "        WHERE operationType = 'DELETE'\n",
    "        GROUP BY 1,2,3,4,5\n",
    "        ORDER BY stateStartTime\n",
    "      )\n",
    "      SELECT clusterUuid, clusterName, operationType, stateStartTime from created\n",
    "      WHERE cluster_group = 1\n",
    "      UNION ALL\n",
    "      SELECT clusterUuid, clusterName, operationType, stateStartTime from deleted\n",
    "      WHERE cluster_group = 1\n",
    "\"\"\"\n",
    "run_bq_query(SQL_QUERY)"
   ]
  },
  {
   "cell_type": "markdown",
   "id": "47dad238-ae05-4154-aa96-4a803ae6a1fe",
   "metadata": {
    "tags": []
   },
   "source": [
    "### 6. Model cluster usage"
   ]
  },
  {
   "cell_type": "code",
   "execution_count": 164,
   "id": "db029f7d-6576-484a-98c2-d03633d9c931",
   "metadata": {},
   "outputs": [
    {
     "data": {
      "text/plain": [
       "<google.cloud.bigquery.table._EmptyRowIterator at 0x7f055e66a5c0>"
      ]
     },
     "execution_count": 164,
     "metadata": {},
     "output_type": "execute_result"
    }
   ],
   "source": [
    "SQL_QUERY = f\"\"\"\n",
    "    INSERT INTO {BQ_DATASET_NAME}.{BQ_TABLE_NAME_MODEL}\n",
    "        WITH cluster_create AS (\n",
    "          SELECT clusterUuid, clusterName, TIMESTAMP(stateStartTime) stateStartTime\n",
    "          FROM {BQ_DATASET_NAME}.{BQ_TABLE_NAME_CLEAN}\n",
    "          WHERE operationType = 'CREATE'\n",
    "        )\n",
    "        , cluster_delete AS (\n",
    "          SELECT clusterUuid, TIMESTAMP(stateStartTime) stateStartTime\n",
    "          FROM {BQ_DATASET_NAME}.{BQ_TABLE_NAME_CLEAN}\n",
    "          WHERE operationType = 'DELETE'\n",
    "        )\n",
    "        SELECT \n",
    "            cluster_create.clusterUuid\n",
    "          , cluster_create.clusterName\n",
    "          , cluster_create.stateStartTime AS created\n",
    "          , cluster_delete.stateStartTime AS deleted\n",
    "          , TIMESTAMP_DIFF(cluster_delete.stateStartTime, cluster_create.stateStartTime, SECOND) AS seconds_elapsed\n",
    "          , extract(DATE from cluster_create.stateStartTime) date\n",
    "          , extract(HOUR from cluster_create.stateStartTime) hour\n",
    "         FROM cluster_create\n",
    "        LEFT JOIN cluster_delete\n",
    "        USING (clusterUuid)\n",
    "        GROUP BY 1,2,3,4\n",
    "\"\"\"\n",
    "run_bq_query(SQL_QUERY)"
   ]
  },
  {
   "cell_type": "markdown",
   "id": "36bfec24-3e78-4e97-93fe-9c26041bc21c",
   "metadata": {},
   "source": [
    "#### 7. Visualize"
   ]
  },
  {
   "cell_type": "markdown",
   "id": "08479090-ad5e-413d-8cf3-3b4bb6c478b6",
   "metadata": {},
   "source": [
    "#### 7.1 Total seconds by time"
   ]
  },
  {
   "cell_type": "code",
   "execution_count": 167,
   "id": "a36d990f-6e2e-4c38-b9d0-e188273433fa",
   "metadata": {
    "tags": []
   },
   "outputs": [],
   "source": [
    "SQL_QUERY = f\"\"\"\n",
    "    SELECT \n",
    "          date\n",
    "        , hour\n",
    "        , concat(date, ' ', hour, ':00') date_hour\n",
    "        , sum(seconds_elapsed) / 60 minutes\n",
    "    FROM {BQ_DATASET_NAME}.{BQ_TABLE_NAME_MODEL}\n",
    "    GROUP BY 1,2,3\n",
    "    ORDER BY 3\n",
    "\"\"\"\n",
    "df = bq_client.query(SQL_QUERY).to_dataframe()"
   ]
  },
  {
   "cell_type": "code",
   "execution_count": 168,
   "id": "866e3cb2-c568-4aea-80a1-5c0641398fe8",
   "metadata": {
    "tags": []
   },
   "outputs": [
    {
     "data": {
      "text/plain": [
       "<Axes: xlabel='date_hour'>"
      ]
     },
     "execution_count": 168,
     "metadata": {},
     "output_type": "execute_result"
    },
    {
     "data": {
      "image/png": "[encoded data removed]",
      "text/plain": [
       "<Figure size 640x480 with 1 Axes>"
      ]
     },
     "metadata": {},
     "output_type": "display_data"
    }
   ],
   "source": [
    "df.plot(kind=\"bar\", x=\"date_hour\", y=\"minutes\")"
   ]
  },
  {
   "cell_type": "markdown",
   "id": "205039f3-6b1b-4557-b1c6-c6866d050534",
   "metadata": {},
   "source": [
    "#### 7.2 Cluster details"
   ]
  },
  {
   "cell_type": "code",
   "execution_count": 169,
   "id": "406d1a6e-03ca-42a0-9875-c0a2f3f0a7b2",
   "metadata": {
    "tags": []
   },
   "outputs": [],
   "source": [
    "SQL_QUERY = f\"\"\"\n",
    "SELECT \n",
    "      date\n",
    "    , hour\n",
    "    , clusterUuid\n",
    "    , clusterName\n",
    "    , seconds_elapsed / 60 minutes\n",
    "FROM {BQ_DATASET_NAME}.{BQ_TABLE_NAME_MODEL}\n",
    "ORDER BY 1,2,3\n",
    "\"\"\"\n",
    "df = bq_client.query(SQL_QUERY).to_dataframe()"
   ]
  },
  {
   "cell_type": "code",
   "execution_count": 170,
   "id": "5bd0d723-4e9b-4a11-9a53-33093108517c",
   "metadata": {
    "tags": []
   },
   "outputs": [
    {
     "data": {
      "text/html": [
       "<div>\n",
       "<style scoped>\n",
       "    .dataframe tbody tr th:only-of-type {\n",
       "        vertical-align: middle;\n",
       "    }\n",
       "\n",
       "    .dataframe tbody tr th {\n",
       "        vertical-align: top;\n",
       "    }\n",
       "\n",
       "    .dataframe thead th {\n",
       "        text-align: right;\n",
       "    }\n",
       "</style>\n",
       "<table border=\"1\" class=\"dataframe\">\n",
       "  <thead>\n",
       "    <tr style=\"text-align: right;\">\n",
       "      <th></th>\n",
       "      <th>date</th>\n",
       "      <th>hour</th>\n",
       "      <th>clusterUuid</th>\n",
       "      <th>clusterName</th>\n",
       "      <th>minutes</th>\n",
       "    </tr>\n",
       "  </thead>\n",
       "  <tbody>\n",
       "    <tr>\n",
       "      <th>0</th>\n",
       "      <td>2023-12-11</td>\n",
       "      <td>19</td>\n",
       "      <td>b82c4657-f903-4d23-bed3-0339fd2bd9c6</td>\n",
       "      <td>cluster-1b43</td>\n",
       "      <td>2.116667</td>\n",
       "    </tr>\n",
       "    <tr>\n",
       "      <th>1</th>\n",
       "      <td>2023-12-15</td>\n",
       "      <td>14</td>\n",
       "      <td>4fb421fd-38ec-40c8-9854-e8a9b31be49b</td>\n",
       "      <td>cluster-7b75</td>\n",
       "      <td>3228.850000</td>\n",
       "    </tr>\n",
       "    <tr>\n",
       "      <th>2</th>\n",
       "      <td>2023-12-17</td>\n",
       "      <td>19</td>\n",
       "      <td>6e1240ed-35b8-4a76-b513-a14ff3d2a18c</td>\n",
       "      <td>cluster-7b75</td>\n",
       "      <td>518361.416667</td>\n",
       "    </tr>\n",
       "    <tr>\n",
       "      <th>3</th>\n",
       "      <td>2023-12-17</td>\n",
       "      <td>23</td>\n",
       "      <td>2de8191e-7e85-447c-986d-ab55058b9c84</td>\n",
       "      <td>srvls-session-0bd5fe97-3fb6-4f84-822a-80615c90...</td>\n",
       "      <td>0.066667</td>\n",
       "    </tr>\n",
       "    <tr>\n",
       "      <th>4</th>\n",
       "      <td>2023-12-17</td>\n",
       "      <td>23</td>\n",
       "      <td>579c8426-e0d0-4797-b89e-91c8b9b1fba4</td>\n",
       "      <td>srvls-session-0db2a939-2ac6-43cf-8ed4-adb38985...</td>\n",
       "      <td>0.066667</td>\n",
       "    </tr>\n",
       "  </tbody>\n",
       "</table>\n",
       "</div>"
      ],
      "text/plain": [
       "         date  hour                           clusterUuid  \\\n",
       "0  2023-12-11    19  b82c4657-f903-4d23-bed3-0339fd2bd9c6   \n",
       "1  2023-12-15    14  4fb421fd-38ec-40c8-9854-e8a9b31be49b   \n",
       "2  2023-12-17    19  6e1240ed-35b8-4a76-b513-a14ff3d2a18c   \n",
       "3  2023-12-17    23  2de8191e-7e85-447c-986d-ab55058b9c84   \n",
       "4  2023-12-17    23  579c8426-e0d0-4797-b89e-91c8b9b1fba4   \n",
       "\n",
       "                                         clusterName        minutes  \n",
       "0                                       cluster-1b43       2.116667  \n",
       "1                                       cluster-7b75    3228.850000  \n",
       "2                                       cluster-7b75  518361.416667  \n",
       "3  srvls-session-0bd5fe97-3fb6-4f84-822a-80615c90...       0.066667  \n",
       "4  srvls-session-0db2a939-2ac6-43cf-8ed4-adb38985...       0.066667  "
      ]
     },
     "execution_count": 170,
     "metadata": {},
     "output_type": "execute_result"
    }
   ],
   "source": [
    "df.head()"
   ]
  },
  {
   "cell_type": "markdown",
   "id": "9da1381a-a5f7-442d-9afd-6795c8b9188f",
   "metadata": {},
   "source": [
    "### 8. Billing information"
   ]
  },
  {
   "cell_type": "markdown",
   "id": "da3ffbf6-a4ed-420a-83bf-1e5240bc0ee1",
   "metadata": {},
   "source": [
    "#### 8.1 Total price"
   ]
  },
  {
   "cell_type": "code",
   "execution_count": 176,
   "id": "c0a93faa-3751-448b-9ba4-2b5aa9d96ff0",
   "metadata": {
    "tags": []
   },
   "outputs": [],
   "source": [
    "SQL_QUERY = f\"\"\"\n",
    "    SELECT \n",
    "      CONCAT(\n",
    "          EXTRACT (DATE FROM usage_start_time),\n",
    "          ' ',\n",
    "          EXTRACT (HOUR FROM usage_start_time),\n",
    "          ' :00'\n",
    "       ) date_hour,\n",
    "      sku.id sku_id, \n",
    "      price.effective_price / price.pricing_unit_quantity effective_price,\n",
    "      SUM(usage.amount_in_pricing_units) amount_in_pricing_units, \n",
    "      SUM(usage.amount_in_pricing_units * price.effective_price / price.pricing_unit_quantity) total_price\n",
    "    FROM {BQ_BILLING_DATASET_NAME}.{BQ_BILLING_TABLE_NAME}\n",
    "    WHERE \n",
    "      service.description = 'Dataproc' \n",
    "      AND sku.description LIKE 'Data Compute Unit (milli) Hours%'\n",
    "    GROUP BY 1,2,3\n",
    "    ORDER BY 1\n",
    "\"\"\"\n",
    "df_billing = bq_client.query(SQL_QUERY).to_dataframe()"
   ]
  },
  {
   "cell_type": "code",
   "execution_count": 177,
   "id": "5a774c45-d631-4d4c-8a95-612001861af7",
   "metadata": {
    "tags": []
   },
   "outputs": [
    {
     "data": {
      "text/plain": [
       "<Axes: xlabel='date_hour'>"
      ]
     },
     "execution_count": 177,
     "metadata": {},
     "output_type": "execute_result"
    },
    {
     "data": {
      "image/png": "[encoded data removed]",
      "text/plain": [
       "<Figure size 640x480 with 1 Axes>"
      ]
     },
     "metadata": {},
     "output_type": "display_data"
    }
   ],
   "source": [
    "df_billing.plot(kind=\"bar\", x=\"date_hour\", y=\"total_price\")"
   ]
  },
  {
   "cell_type": "markdown",
   "id": "68b62d46-88e0-45bd-ae90-3228553077ee",
   "metadata": {},
   "source": [
    "#### 8.2 Billing detail"
   ]
  },
  {
   "cell_type": "code",
   "execution_count": 178,
   "id": "efac01dc-89f7-40de-b2fe-22884fef78cd",
   "metadata": {
    "tags": []
   },
   "outputs": [],
   "source": [
    "SQL_QUERY = f\"\"\"\n",
    "    SELECT \n",
    "      EXTRACT (DATE FROM usage_start_time) date,\n",
    "      EXTRACT (HOUR FROM usage_start_time) hour,\n",
    "      sku.id sku_id, \n",
    "      price.effective_price / price.pricing_unit_quantity effective_price,\n",
    "      SUM(usage.amount_in_pricing_units) amount_in_pricing_units, \n",
    "      SUM(usage.amount_in_pricing_units * price.effective_price / price.pricing_unit_quantity) total_price\n",
    "    FROM {BQ_BILLING_DATASET_NAME}.{BQ_BILLING_TABLE_NAME}\n",
    "    WHERE \n",
    "      service.description = 'Dataproc' \n",
    "      AND sku.description LIKE 'Data Compute Unit (milli) Hours%'\n",
    "    GROUP BY 1,2,3,4\n",
    "    ORDER BY 1,2\n",
    "\"\"\"\n",
    "df_billing = bq_client.query(SQL_QUERY).to_dataframe()"
   ]
  },
  {
   "cell_type": "code",
   "execution_count": 179,
   "id": "953cbf74-ff08-4c0e-abd3-0f44503b15f2",
   "metadata": {
    "tags": []
   },
   "outputs": [
    {
     "data": {
      "text/html": [
       "<div>\n",
       "<style scoped>\n",
       "    .dataframe tbody tr th:only-of-type {\n",
       "        vertical-align: middle;\n",
       "    }\n",
       "\n",
       "    .dataframe tbody tr th {\n",
       "        vertical-align: top;\n",
       "    }\n",
       "\n",
       "    .dataframe thead th {\n",
       "        text-align: right;\n",
       "    }\n",
       "</style>\n",
       "<table border=\"1\" class=\"dataframe\">\n",
       "  <thead>\n",
       "    <tr style=\"text-align: right;\">\n",
       "      <th></th>\n",
       "      <th>date</th>\n",
       "      <th>hour</th>\n",
       "      <th>sku_id</th>\n",
       "      <th>effective_price</th>\n",
       "      <th>amount_in_pricing_units</th>\n",
       "      <th>total_price</th>\n",
       "    </tr>\n",
       "  </thead>\n",
       "  <tbody>\n",
       "    <tr>\n",
       "      <th>0</th>\n",
       "      <td>2023-12-18</td>\n",
       "      <td>1</td>\n",
       "      <td>A486-6040-07FE</td>\n",
       "      <td>0.000089000</td>\n",
       "      <td>5270.261389</td>\n",
       "      <td>0.469053</td>\n",
       "    </tr>\n",
       "    <tr>\n",
       "      <th>1</th>\n",
       "      <td>2023-12-18</td>\n",
       "      <td>2</td>\n",
       "      <td>A486-6040-07FE</td>\n",
       "      <td>0.000089000</td>\n",
       "      <td>23522.042778</td>\n",
       "      <td>2.093462</td>\n",
       "    </tr>\n",
       "    <tr>\n",
       "      <th>2</th>\n",
       "      <td>2023-12-18</td>\n",
       "      <td>3</td>\n",
       "      <td>A486-6040-07FE</td>\n",
       "      <td>0.000089000</td>\n",
       "      <td>992.728333</td>\n",
       "      <td>0.088353</td>\n",
       "    </tr>\n",
       "    <tr>\n",
       "      <th>3</th>\n",
       "      <td>2024-03-21</td>\n",
       "      <td>0</td>\n",
       "      <td>A486-6040-07FE</td>\n",
       "      <td>0.000089000</td>\n",
       "      <td>11721.573333</td>\n",
       "      <td>1.043220</td>\n",
       "    </tr>\n",
       "    <tr>\n",
       "      <th>4</th>\n",
       "      <td>2024-03-21</td>\n",
       "      <td>21</td>\n",
       "      <td>A486-6040-07FE</td>\n",
       "      <td>0.000089000</td>\n",
       "      <td>22043.298611</td>\n",
       "      <td>1.961854</td>\n",
       "    </tr>\n",
       "  </tbody>\n",
       "</table>\n",
       "</div>"
      ],
      "text/plain": [
       "         date  hour          sku_id effective_price  amount_in_pricing_units  \\\n",
       "0  2023-12-18     1  A486-6040-07FE     0.000089000              5270.261389   \n",
       "1  2023-12-18     2  A486-6040-07FE     0.000089000             23522.042778   \n",
       "2  2023-12-18     3  A486-6040-07FE     0.000089000               992.728333   \n",
       "3  2024-03-21     0  A486-6040-07FE     0.000089000             11721.573333   \n",
       "4  2024-03-21    21  A486-6040-07FE     0.000089000             22043.298611   \n",
       "\n",
       "   total_price  \n",
       "0     0.469053  \n",
       "1     2.093462  \n",
       "2     0.088353  \n",
       "3     1.043220  \n",
       "4     1.961854  "
      ]
     },
     "execution_count": 179,
     "metadata": {},
     "output_type": "execute_result"
    }
   ],
   "source": [
    "df_billing.head()"
   ]
  },
  {
   "cell_type": "code",
   "execution_count": null,
   "id": "00f5cd3b-7afd-45b7-8fdd-e50ed5949a6c",
   "metadata": {},
   "outputs": [],
   "source": []
  },
  {
   "cell_type": "code",
   "execution_count": null,
   "id": "ea3eb89d-c3cd-45a6-9799-b511990fd899",
   "metadata": {},
   "outputs": [],
   "source": []
  }
 ],
 "metadata": {
  "environment": {
   "kernel": "conda-base-py",
   "name": "workbench-notebooks.m121",
   "type": "gcloud",
   "uri": "us-docker.pkg.dev/deeplearning-platform-release/gcr.io/workbench-notebooks:m121"
  },
  "kernelspec": {
   "display_name": "Python 3 (ipykernel) (Local)",
   "language": "python",
   "name": "conda-base-py"
  },
  "language_info": {
   "codemirror_mode": {
    "name": "ipython",
    "version": 3
   },
   "file_extension": ".py",
   "mimetype": "text/x-python",
   "name": "python",
   "nbconvert_exporter": "python",
   "pygments_lexer": "ipython3",
   "version": "3.10.14"
  }
 },
 "nbformat": 4,
 "nbformat_minor": 5
}
