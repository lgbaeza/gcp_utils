{
 "cells": [
  {
   "cell_type": "markdown",
   "id": "4ad947f3-f126-40e9-9c0a-76637ffb5b4f",
   "metadata": {},
   "source": [
    "# Audit BigQuery jobs querying data in a cross-project setup\n",
    "\n",
    "Author: Luis Gerardo Baeza\n",
    "\n",
    "Dec 2, 2024\n",
    "\n",
    "Rationale: For large companies with tons of projects, they might need to audit which projects have dependencies between each other. This sample code provide an example of how to achieve this auditing.\n",
    "\n",
    "**Use with caution.** Make sure performance, costs, and security implications are aligned with your organization policies"
   ]
  },
  {
   "cell_type": "markdown",
   "id": "7e153e36-0b06-440a-9431-5b1bbf9e6424",
   "metadata": {
    "tags": []
   },
   "source": [
    "![audit_bq_xproj](audit_bq_xproj.png)"
   ]
  },
  {
   "cell_type": "markdown",
   "id": "885ef585-5f18-4152-96ad-dd2bdeedd280",
   "metadata": {},
   "source": [
    "**Before you run:**\n",
    "* Make sure you are familiar with [Audit Logs in BigQuery](https://cloud.google.com/bigquery/docs/introduction-audit-workloads)\n",
    "* You must [configure a sink in Cloud Logging](https://cloud.google.com/logging/docs/export/configure_export_v2#creating_sink) to send Logs to a table in BigQuery.\n",
    "* Replace **#YOUR_OWN_AUDI_TABLE#** twice with the table ID of your BigQuery table that holds the Audit data. \n"
   ]
  },
  {
   "cell_type": "code",
   "execution_count": null,
   "id": "48bce975-3bd3-463e-bff2-1f81f58cc6bc",
   "metadata": {},
   "outputs": [],
   "source": [
    "%%bigquery\n",
    "\n",
    "SELECT \n",
    "    logs.timestamp\n",
    "    , resource.labels.project_id source_project\n",
    "  , tables.projectId target_project\n",
    "  , tables.tableId\n",
    "  , protopayload_auditlog.resourceName jobId\n",
    "  , protopayload_auditlog.authenticationInfo.principalEmail requestor\n",
    "from `#YOUR_OWN_AUDI_TABLE#` logs,\n",
    "unnest(protopayload_auditlog.servicedata_v1_bigquery.jobGetQueryResultsResponse.job.jobStatistics.referencedTables) as tables\n",
    "WHERE logs.timestamp >= ( CURRENT_TIMESTAMP() - INTERVAL 30 minute )\n",
    "and logs.resource.type = \"bigquery_resource\"\n",
    "and logs.protoPayload_auditlog.serviceName = \"bigquery.googleapis.com\"\n",
    "and logs.protoPayload_auditlog.methodName = \"jobservice.getqueryresults\" # Only get query result method\n",
    "and tables.projectId != resource.labels.project_id # Gets cross-project queries\n",
    "and tables.tableId != '#YOUR_OWN_AUDI_TABLE#' # Avoids retrieving queries to the audit log table\n",
    "order by timestamp desc"
   ]
  },
  {
   "cell_type": "code",
   "execution_count": null,
   "id": "7efaba0e-8801-40ab-93ec-f8f117a79cf9",
   "metadata": {},
   "outputs": [],
   "source": []
  }
 ],
 "metadata": {
  "environment": {
   "kernel": "conda-base-py",
   "name": "workbench-notebooks.m121",
   "type": "gcloud",
   "uri": "us-docker.pkg.dev/deeplearning-platform-release/gcr.io/workbench-notebooks:m121"
  },
  "kernelspec": {
   "display_name": "Python 3 (ipykernel) (Local)",
   "language": "python",
   "name": "conda-base-py"
  },
  "language_info": {
   "codemirror_mode": {
    "name": "ipython",
    "version": 3
   },
   "file_extension": ".py",
   "mimetype": "text/x-python",
   "name": "python",
   "nbconvert_exporter": "python",
   "pygments_lexer": "ipython3",
   "version": "3.10.14"
  }
 },
 "nbformat": 4,
 "nbformat_minor": 5
}
