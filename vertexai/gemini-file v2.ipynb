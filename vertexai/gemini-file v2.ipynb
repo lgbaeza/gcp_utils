{
 "cells": [
  {
   "cell_type": "markdown",
   "id": "630f5223-5e31-435e-96dd-abefbd73cba3",
   "metadata": {},
   "source": [
    "### Setup Env"
   ]
  },
  {
   "cell_type": "code",
   "execution_count": 19,
   "id": "c494c3c3-76a1-46be-a73b-ed53942d947b",
   "metadata": {
    "scrolled": true,
    "tags": []
   },
   "outputs": [
    {
     "name": "stdout",
     "output_type": "stream",
     "text": [
      "Requirement already satisfied: google-cloud-aiplatform in /opt/conda/lib/python3.10/site-packages (1.53.0)\n",
      "Requirement already satisfied: google-api-core!=2.0.*,!=2.1.*,!=2.2.*,!=2.3.*,!=2.4.*,!=2.5.*,!=2.6.*,!=2.7.*,<3.0.0dev,>=1.34.1 in /opt/conda/lib/python3.10/site-packages (from google-api-core[grpc]!=2.0.*,!=2.1.*,!=2.2.*,!=2.3.*,!=2.4.*,!=2.5.*,!=2.6.*,!=2.7.*,<3.0.0dev,>=1.34.1->google-cloud-aiplatform) (2.11.1)\n",
      "Requirement already satisfied: google-auth<3.0.0dev,>=2.14.1 in /opt/conda/lib/python3.10/site-packages (from google-cloud-aiplatform) (2.25.2)\n",
      "Requirement already satisfied: proto-plus<2.0.0dev,>=1.22.0 in /opt/conda/lib/python3.10/site-packages (from google-cloud-aiplatform) (1.23.0)\n",
      "Requirement already satisfied: protobuf!=3.20.0,!=3.20.1,!=4.21.0,!=4.21.1,!=4.21.2,!=4.21.3,!=4.21.4,!=4.21.5,<5.0.0dev,>=3.19.5 in /opt/conda/lib/python3.10/site-packages (from google-cloud-aiplatform) (3.19.6)\n",
      "Requirement already satisfied: packaging>=14.3 in /opt/conda/lib/python3.10/site-packages (from google-cloud-aiplatform) (23.2)\n",
      "Requirement already satisfied: google-cloud-storage<3.0.0dev,>=1.32.0 in /opt/conda/lib/python3.10/site-packages (from google-cloud-aiplatform) (2.13.0)\n",
      "Requirement already satisfied: google-cloud-bigquery!=3.20.0,<4.0.0dev,>=1.15.0 in /opt/conda/lib/python3.10/site-packages (from google-cloud-aiplatform) (3.13.0)\n",
      "Requirement already satisfied: google-cloud-resource-manager<3.0.0dev,>=1.3.3 in /opt/conda/lib/python3.10/site-packages (from google-cloud-aiplatform) (1.11.0)\n",
      "Requirement already satisfied: shapely<3.0.0dev in /opt/conda/lib/python3.10/site-packages (from google-cloud-aiplatform) (2.0.2)\n",
      "Requirement already satisfied: pydantic<3 in /opt/conda/lib/python3.10/site-packages (from google-cloud-aiplatform) (1.10.13)\n",
      "Requirement already satisfied: docstring-parser<1 in /opt/conda/lib/python3.10/site-packages (from google-cloud-aiplatform) (0.15)\n",
      "Requirement already satisfied: googleapis-common-protos<2.0.dev0,>=1.56.2 in /opt/conda/lib/python3.10/site-packages (from google-api-core!=2.0.*,!=2.1.*,!=2.2.*,!=2.3.*,!=2.4.*,!=2.5.*,!=2.6.*,!=2.7.*,<3.0.0dev,>=1.34.1->google-api-core[grpc]!=2.0.*,!=2.1.*,!=2.2.*,!=2.3.*,!=2.4.*,!=2.5.*,!=2.6.*,!=2.7.*,<3.0.0dev,>=1.34.1->google-cloud-aiplatform) (1.62.0)\n",
      "Requirement already satisfied: requests<3.0.0.dev0,>=2.18.0 in /opt/conda/lib/python3.10/site-packages (from google-api-core!=2.0.*,!=2.1.*,!=2.2.*,!=2.3.*,!=2.4.*,!=2.5.*,!=2.6.*,!=2.7.*,<3.0.0dev,>=1.34.1->google-api-core[grpc]!=2.0.*,!=2.1.*,!=2.2.*,!=2.3.*,!=2.4.*,!=2.5.*,!=2.6.*,!=2.7.*,<3.0.0dev,>=1.34.1->google-cloud-aiplatform) (2.31.0)\n",
      "Requirement already satisfied: grpcio<2.0dev,>=1.33.2 in /opt/conda/lib/python3.10/site-packages (from google-api-core[grpc]!=2.0.*,!=2.1.*,!=2.2.*,!=2.3.*,!=2.4.*,!=2.5.*,!=2.6.*,!=2.7.*,<3.0.0dev,>=1.34.1->google-cloud-aiplatform) (1.48.1)\n",
      "Requirement already satisfied: grpcio-status<2.0.dev0,>=1.33.2 in /opt/conda/lib/python3.10/site-packages (from google-api-core[grpc]!=2.0.*,!=2.1.*,!=2.2.*,!=2.3.*,!=2.4.*,!=2.5.*,!=2.6.*,!=2.7.*,<3.0.0dev,>=1.34.1->google-cloud-aiplatform) (1.48.1)\n",
      "Requirement already satisfied: cachetools<6.0,>=2.0.0 in /opt/conda/lib/python3.10/site-packages (from google-auth<3.0.0dev,>=2.14.1->google-cloud-aiplatform) (4.2.4)\n",
      "Requirement already satisfied: pyasn1-modules>=0.2.1 in /opt/conda/lib/python3.10/site-packages (from google-auth<3.0.0dev,>=2.14.1->google-cloud-aiplatform) (0.3.0)\n",
      "Requirement already satisfied: rsa<5,>=3.1.4 in /opt/conda/lib/python3.10/site-packages (from google-auth<3.0.0dev,>=2.14.1->google-cloud-aiplatform) (4.9)\n",
      "Requirement already satisfied: google-cloud-core<3.0.0dev,>=1.6.0 in /opt/conda/lib/python3.10/site-packages (from google-cloud-bigquery!=3.20.0,<4.0.0dev,>=1.15.0->google-cloud-aiplatform) (2.4.1)\n",
      "Requirement already satisfied: google-resumable-media<3.0dev,>=0.6.0 in /opt/conda/lib/python3.10/site-packages (from google-cloud-bigquery!=3.20.0,<4.0.0dev,>=1.15.0->google-cloud-aiplatform) (2.6.0)\n",
      "Requirement already satisfied: python-dateutil<3.0dev,>=2.7.2 in /opt/conda/lib/python3.10/site-packages (from google-cloud-bigquery!=3.20.0,<4.0.0dev,>=1.15.0->google-cloud-aiplatform) (2.8.2)\n",
      "Requirement already satisfied: grpc-google-iam-v1<1.0.0dev,>=0.12.4 in /opt/conda/lib/python3.10/site-packages (from google-cloud-resource-manager<3.0.0dev,>=1.3.3->google-cloud-aiplatform) (0.12.7)\n",
      "Requirement already satisfied: google-crc32c<2.0dev,>=1.0 in /opt/conda/lib/python3.10/site-packages (from google-cloud-storage<3.0.0dev,>=1.32.0->google-cloud-aiplatform) (1.5.0)\n",
      "Requirement already satisfied: typing-extensions>=4.2.0 in /opt/conda/lib/python3.10/site-packages (from pydantic<3->google-cloud-aiplatform) (4.9.0)\n",
      "Requirement already satisfied: numpy>=1.14 in /opt/conda/lib/python3.10/site-packages (from shapely<3.0.0dev->google-cloud-aiplatform) (1.24.4)\n",
      "Requirement already satisfied: six>=1.5.2 in /opt/conda/lib/python3.10/site-packages (from grpcio<2.0dev,>=1.33.2->google-api-core[grpc]!=2.0.*,!=2.1.*,!=2.2.*,!=2.3.*,!=2.4.*,!=2.5.*,!=2.6.*,!=2.7.*,<3.0.0dev,>=1.34.1->google-cloud-aiplatform) (1.16.0)\n",
      "Requirement already satisfied: pyasn1<0.6.0,>=0.4.6 in /opt/conda/lib/python3.10/site-packages (from pyasn1-modules>=0.2.1->google-auth<3.0.0dev,>=2.14.1->google-cloud-aiplatform) (0.5.1)\n",
      "Requirement already satisfied: charset-normalizer<4,>=2 in /opt/conda/lib/python3.10/site-packages (from requests<3.0.0.dev0,>=2.18.0->google-api-core!=2.0.*,!=2.1.*,!=2.2.*,!=2.3.*,!=2.4.*,!=2.5.*,!=2.6.*,!=2.7.*,<3.0.0dev,>=1.34.1->google-api-core[grpc]!=2.0.*,!=2.1.*,!=2.2.*,!=2.3.*,!=2.4.*,!=2.5.*,!=2.6.*,!=2.7.*,<3.0.0dev,>=1.34.1->google-cloud-aiplatform) (3.3.2)\n",
      "Requirement already satisfied: idna<4,>=2.5 in /opt/conda/lib/python3.10/site-packages (from requests<3.0.0.dev0,>=2.18.0->google-api-core!=2.0.*,!=2.1.*,!=2.2.*,!=2.3.*,!=2.4.*,!=2.5.*,!=2.6.*,!=2.7.*,<3.0.0dev,>=1.34.1->google-api-core[grpc]!=2.0.*,!=2.1.*,!=2.2.*,!=2.3.*,!=2.4.*,!=2.5.*,!=2.6.*,!=2.7.*,<3.0.0dev,>=1.34.1->google-cloud-aiplatform) (3.6)\n",
      "Requirement already satisfied: urllib3<3,>=1.21.1 in /opt/conda/lib/python3.10/site-packages (from requests<3.0.0.dev0,>=2.18.0->google-api-core!=2.0.*,!=2.1.*,!=2.2.*,!=2.3.*,!=2.4.*,!=2.5.*,!=2.6.*,!=2.7.*,<3.0.0dev,>=1.34.1->google-api-core[grpc]!=2.0.*,!=2.1.*,!=2.2.*,!=2.3.*,!=2.4.*,!=2.5.*,!=2.6.*,!=2.7.*,<3.0.0dev,>=1.34.1->google-cloud-aiplatform) (1.26.18)\n",
      "Requirement already satisfied: certifi>=2017.4.17 in /opt/conda/lib/python3.10/site-packages (from requests<3.0.0.dev0,>=2.18.0->google-api-core!=2.0.*,!=2.1.*,!=2.2.*,!=2.3.*,!=2.4.*,!=2.5.*,!=2.6.*,!=2.7.*,<3.0.0dev,>=1.34.1->google-api-core[grpc]!=2.0.*,!=2.1.*,!=2.2.*,!=2.3.*,!=2.4.*,!=2.5.*,!=2.6.*,!=2.7.*,<3.0.0dev,>=1.34.1->google-cloud-aiplatform) (2023.11.17)\n",
      "Requirement already satisfied: requests in /opt/conda/lib/python3.10/site-packages (2.31.0)\n",
      "Requirement already satisfied: charset-normalizer<4,>=2 in /opt/conda/lib/python3.10/site-packages (from requests) (3.3.2)\n",
      "Requirement already satisfied: idna<4,>=2.5 in /opt/conda/lib/python3.10/site-packages (from requests) (3.6)\n",
      "Requirement already satisfied: urllib3<3,>=1.21.1 in /opt/conda/lib/python3.10/site-packages (from requests) (1.26.18)\n",
      "Requirement already satisfied: certifi>=2017.4.17 in /opt/conda/lib/python3.10/site-packages (from requests) (2023.11.17)\n"
     ]
    }
   ],
   "source": [
    "!pip install --upgrade google-cloud-aiplatform\n",
    "!pip install requests"
   ]
  },
  {
   "cell_type": "code",
   "execution_count": null,
   "id": "2fd34571-fb4a-4a18-b391-3eb23dc86c03",
   "metadata": {},
   "outputs": [],
   "source": [
    "# Restart kernel"
   ]
  },
  {
   "cell_type": "code",
   "execution_count": 1,
   "id": "3a6dc098-4ecb-429c-8ad9-1fd33224e4ab",
   "metadata": {
    "tags": []
   },
   "outputs": [],
   "source": [
    "import base64\n",
    "from google.cloud import aiplatform\n",
    "import vertexai\n",
    "import vertexai.generative_models "
   ]
  },
  {
   "cell_type": "code",
   "execution_count": 34,
   "id": "fee944b0-dbc3-4002-acb8-2084faa27669",
   "metadata": {
    "tags": []
   },
   "outputs": [],
   "source": [
    "from vertexai.generative_models import GenerativeModel, Part, FinishReason, Image\n",
    "import vertexai.preview.generative_models as generative_models"
   ]
  },
  {
   "cell_type": "code",
   "execution_count": 27,
   "id": "36cb8050-ca44-4696-b329-f30f404cba00",
   "metadata": {
    "tags": []
   },
   "outputs": [],
   "source": [
    "def generate(image1, prompt):\n",
    "  vertexai.init(project=\"lgbaeza-202310\", location=\"us-central1\")\n",
    "  model = GenerativeModel(\n",
    "    \"gemini-1.5-flash-001\",\n",
    "  )\n",
    "  responses = model.generate_content(\n",
    "      [image1, prompt],\n",
    "      generation_config=generation_config,\n",
    "      safety_settings=safety_settings,\n",
    "      stream=True,\n",
    "  )\n",
    "\n",
    "  for response in responses:\n",
    "    print(response.text, end=\"\")\n"
   ]
  },
  {
   "cell_type": "code",
   "execution_count": 26,
   "id": "273ab055-4479-4a69-8da1-a8fe2ec8f9ed",
   "metadata": {
    "tags": []
   },
   "outputs": [],
   "source": [
    "generation_config = {\n",
    "    \"max_output_tokens\": 8192,\n",
    "    \"temperature\": 1,\n",
    "    \"top_p\": 0.95,\n",
    "}\n",
    "\n",
    "safety_settings = {\n",
    "    generative_models.HarmCategory.HARM_CATEGORY_HATE_SPEECH: generative_models.HarmBlockThreshold.BLOCK_MEDIUM_AND_ABOVE,\n",
    "    generative_models.HarmCategory.HARM_CATEGORY_DANGEROUS_CONTENT: generative_models.HarmBlockThreshold.BLOCK_MEDIUM_AND_ABOVE,\n",
    "    generative_models.HarmCategory.HARM_CATEGORY_SEXUALLY_EXPLICIT: generative_models.HarmBlockThreshold.BLOCK_MEDIUM_AND_ABOVE,\n",
    "    generative_models.HarmCategory.HARM_CATEGORY_HARASSMENT: generative_models.HarmBlockThreshold.BLOCK_MEDIUM_AND_ABOVE,\n",
    "}"
   ]
  },
  {
   "cell_type": "markdown",
   "id": "7e103b17-c9e3-4b8b-af81-4bf7ae311693",
   "metadata": {
    "tags": []
   },
   "source": [
    "### Create input file\n",
    "* Create part from b64 data\n",
    "```python\n",
    "text_part = Part.from_data(\n",
    "    mime_type=\"image/jpeg\",\n",
    "    data=base64.b64decode(\"\"\"/9j/4AAQSkZJRgABAQAAAQABAAD/\"\"\")\n",
    "```\n",
    "\n",
    "* Create from image file\n",
    "\n",
    "```python\n",
    "image_part = Part.from_image(Image.load_from_file(\"starwars.jpeg\"))\n",
    "```\n",
    "* Create from image gcs uri\n",
    "\n",
    "```python\n",
    "video_part = Part.from_uri(uri=\"gs://...bucket_name...### Generate text/video.mp4\", mime_type=\"video/mp4\")\n",
    "```\n",
    "\n",
    "* Create a part from a function response\n",
    "```python\n",
    "function_response_part = Part.from_function_response(\n",
    "    name=\"get_current_weather\",\n",
    "    response={\n",
    "        \"content\": {\"weather_there\": \"super nice\"},\n",
    "    }\n",
    ")\n",
    "```"
   ]
  },
  {
   "cell_type": "code",
   "execution_count": 8,
   "id": "8cda056c-cacd-4811-aefe-13ffad0d8148",
   "metadata": {
    "tags": []
   },
   "outputs": [],
   "source": [
    "image1 = Part.from_image(Image.load_from_file(\"starwars.jpeg\"))"
   ]
  },
  {
   "cell_type": "code",
   "execution_count": 22,
   "id": "8ded801b-e2c2-456b-9e4c-c278c2ea04b5",
   "metadata": {
    "tags": []
   },
   "outputs": [],
   "source": [
    "uri = \"gs://lgbaeza-203010/scratch/prueba-recording.mp4\"\n",
    "video_part = Part.from_uri(uri=uri, mime_type=\"video/mp4\")"
   ]
  },
  {
   "cell_type": "code",
   "execution_count": 45,
   "id": "0c45fcb9-2e80-4c9a-a6ae-18f395ee5b60",
   "metadata": {
    "tags": []
   },
   "outputs": [],
   "source": [
    "pdf_file_uri = \"gs://lgbaeza-203010/scratch/choclo.pdf\"\n",
    "pdf_file = Part.from_uri(pdf_file_uri, mime_type=\"application/pdf\")"
   ]
  },
  {
   "cell_type": "markdown",
   "id": "120adc30-002e-4dbd-93fe-906b6f18cccb",
   "metadata": {},
   "source": [
    "### Generate text from image"
   ]
  },
  {
   "cell_type": "code",
   "execution_count": 28,
   "id": "748263df-f1d1-45ec-95ed-909c702fc332",
   "metadata": {
    "tags": []
   },
   "outputs": [
    {
     "name": "stdout",
     "output_type": "stream",
     "text": [
      "The image is a game box for Star Wars: Legion, a miniatures game where players recreate epic battles from the Star Wars universe. The box art shows Darth Vader leading an attack against Rebel soldiers.  On the right side of the box, there are Rebel soldiers shooting back at Vader and his Imperial troops. The box art is designed to be visually exciting and attract attention. The game is made by Fantasy Flight Games, and the box art is designed by Alex Davy."
     ]
    }
   ],
   "source": [
    "prompt = \"\"\"que es lo que ves?\"\"\"\n",
    "generate(image1, prompt)"
   ]
  },
  {
   "cell_type": "markdown",
   "id": "90940c76-fd64-47de-8a90-51de90bdbe11",
   "metadata": {
    "tags": []
   },
   "source": [
    "### Generate tex from video"
   ]
  },
  {
   "cell_type": "code",
   "execution_count": 29,
   "id": "8ef5c3e6-5bf2-4b72-968b-c4607f44b8a6",
   "metadata": {
    "tags": []
   },
   "outputs": [
    {
     "name": "stdout",
     "output_type": "stream",
     "text": [
      "El video muestra a alguien usando una computadora. La persona esta usando un sitio web que probablemente es de Google Cloud. Se puede ver que el sitio web es de Google Cloud porque hay un logo de Google Cloud en la parte superior de la página. La persona parece estar usando el sitio web para aprender sobre Google Cloud y las diferentes funciones que ofrece. La persona también está usando el sitio web para crear un nuevo proyecto. \n"
     ]
    }
   ],
   "source": [
    "prompt = \"\"\"describe en 200 palabras que sucede en el video\"\"\"\n",
    "generate(video_part, prompt)"
   ]
  },
  {
   "cell_type": "markdown",
   "id": "c6903b20-e70b-4194-83b6-cdb3801cf0f1",
   "metadata": {},
   "source": [
    "### Generate text from document"
   ]
  },
  {
   "cell_type": "code",
   "execution_count": 46,
   "id": "09114da8-3b14-41d6-a152-7fbdacaa55a5",
   "metadata": {
    "tags": []
   },
   "outputs": [
    {
     "name": "stdout",
     "output_type": "stream",
     "text": [
      "Este documento es una receta para un pastel de choclo simple. El pastel está hecho con choclos, carne molida, cebolla, ajo, leche y mantequilla. Las instrucciones incluyen cómo preparar el choclo, el relleno, cómo armar el pastel y cómo hornearlo. \n"
     ]
    }
   ],
   "source": [
    "prompt = \"\"\"dame un resumen de qué trata el documento\"\"\"\n",
    "generate(pdf_file, prompt)"
   ]
  },
  {
   "cell_type": "code",
   "execution_count": null,
   "id": "70dcb939-9150-467c-b86d-1f77909f52b4",
   "metadata": {},
   "outputs": [],
   "source": []
  }
 ],
 "metadata": {
  "environment": {
   "kernel": "python3",
   "name": "tf2-cpu.2-11.m114",
   "type": "gcloud",
   "uri": "gcr.io/deeplearning-platform-release/tf2-cpu.2-11:m114"
  },
  "kernelspec": {
   "display_name": "Python 3 (Local)",
   "language": "python",
   "name": "python3"
  },
  "language_info": {
   "codemirror_mode": {
    "name": "ipython",
    "version": 3
   },
   "file_extension": ".py",
   "mimetype": "text/x-python",
   "name": "python",
   "nbconvert_exporter": "python",
   "pygments_lexer": "ipython3",
   "version": "3.10.13"
  }
 },
 "nbformat": 4,
 "nbformat_minor": 5
}
