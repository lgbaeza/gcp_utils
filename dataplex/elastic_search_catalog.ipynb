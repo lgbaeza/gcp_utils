{
 "cells": [
  {
   "cell_type": "markdown",
   "id": "dbfadfbe-7feb-4f1c-9cb0-e27231842941",
   "metadata": {},
   "source": [
    "# Elastic search data catalog into Dataplex"
   ]
  },
  {
   "cell_type": "markdown",
   "id": "c16352e8-02d0-4696-bd47-98b6116c51ee",
   "metadata": {},
   "source": [
    "## Get data from ES"
   ]
  },
  {
   "cell_type": "code",
   "execution_count": 338,
   "id": "2661ec8d-4e3c-4293-aaf4-2e96e97ba8bf",
   "metadata": {},
   "outputs": [
    {
     "data": {
      "text/plain": [
       "'3.10.13 | packaged by conda-forge | (main, Oct 26 2023, 18:07:37) [GCC 12.3.0]'"
      ]
     },
     "execution_count": 338,
     "metadata": {},
     "output_type": "execute_result"
    }
   ],
   "source": [
    "import sys\n",
    "sys.version"
   ]
  },
  {
   "cell_type": "code",
   "execution_count": null,
   "id": "4d460833-9a71-4a41-8d22-7e87f60fe5ca",
   "metadata": {
    "scrolled": true,
    "tags": []
   },
   "outputs": [],
   "source": [
    "pip install google-cloud-dataplex --user"
   ]
  },
  {
   "cell_type": "code",
   "execution_count": null,
   "id": "bfe15529-446d-4fcf-a03e-b5f2b1049e4d",
   "metadata": {
    "scrolled": true,
    "tags": []
   },
   "outputs": [],
   "source": [
    "pip install elasticsearch"
   ]
  },
  {
   "cell_type": "code",
   "execution_count": 399,
   "id": "1771d317-0153-4811-92cf-670ed5415354",
   "metadata": {
    "tags": []
   },
   "outputs": [],
   "source": [
    "from elasticsearch import Elasticsearch\n",
    "import pandas as pd\n",
    "from google.cloud import dataplex_v1\n",
    "from google.cloud.dataplex_v1.types import Entry\n",
    "import time\n",
    "import google.protobuf"
   ]
  },
  {
   "cell_type": "code",
   "execution_count": 453,
   "id": "90e34933-5a2b-4def-b17a-6ced58b67c83",
   "metadata": {
    "tags": []
   },
   "outputs": [],
   "source": [
    "# Elasticsearch Connection Details\n",
    "ES_ENDPOINT = \"https://number.us-central1.gcp.cloud.es.io:443\"\n",
    "API_KEY_ID = \"\" \n",
    "API_KEY = \"\" \n",
    "PROJECT_ID = \"\"\n",
    "LOCATION_ID = \"us-central1\"\n",
    "SAMPLE_SIZE = 5"
   ]
  },
  {
   "cell_type": "code",
   "execution_count": 451,
   "id": "17ff8a70-1563-4189-b151-0f209eeb2b57",
   "metadata": {
    "tags": []
   },
   "outputs": [],
   "source": [
    "es_client = Elasticsearch(\n",
    "    [ES_ENDPOINT],\n",
    "    api_key=(API_KEY_ID, API_KEY),\n",
    "    verify_certs=True \n",
    ")"
   ]
  },
  {
   "cell_type": "code",
   "execution_count": 342,
   "id": "6ef6f82c-c954-4221-9296-1baf602b3b0e",
   "metadata": {
    "tags": []
   },
   "outputs": [],
   "source": [
    "def get_indices():\n",
    "    indices = es_client.indices.get(index=\"*,-.*\")\n",
    "    user_created_indices = []\n",
    "    for index in indices:\n",
    "        if not index.startswith(\".\"):\n",
    "            user_created_indices.append({\n",
    "                \"index\": index,\n",
    "                \"shards\": indices[index][\"settings\"][\"index\"][\"number_of_shards\"],\n",
    "                \"creation_date\": indices[index][\"settings\"][\"index\"][\"creation_date\"],\n",
    "                \"blocks_write\": indices[index][\"settings\"][\"index\"][\"blocks\"][\"write\"],\n",
    "            })\n",
    "    return user_created_indices"
   ]
  },
  {
   "cell_type": "code",
   "execution_count": 343,
   "id": "cd045a6c-0524-42c4-9762-dc6c3488d7c5",
   "metadata": {
    "tags": []
   },
   "outputs": [],
   "source": [
    "def get_index_sample(index_name, size=SAMPLE_SIZE):\n",
    "    search_result = es_client.search(\n",
    "        index=index_name,\n",
    "        body={\"query\": {\"match_all\": {}}, \"size\": size}\n",
    "    )\n",
    "\n",
    "    # Extract documents\n",
    "    documents = search_result['hits']['hits']\n",
    "    documents_return = [doc['_source'] for doc in documents]\n",
    "    return pd.DataFrame(documents_return)"
   ]
  },
  {
   "cell_type": "code",
   "execution_count": 344,
   "id": "10bd83f3-07e1-4d3a-8b86-92e5d830ced0",
   "metadata": {
    "tags": []
   },
   "outputs": [],
   "source": [
    "def get_index_mapping(index_name):\n",
    "    mappings = es_client.indices.get_mapping(index=index_name)\n",
    "    mappings_output = []\n",
    "    for index_name, index_mapping in mappings.items():\n",
    "        for field_name, field_mapping in index_mapping['mappings']['properties'].items():\n",
    "            mappings_output.append({\n",
    "                \"index_name\": index_name,\n",
    "                \"field_name\": field_name,\n",
    "                \"type\": field_mapping[\"type\"]\n",
    "            })\n",
    "    return mappings_output"
   ]
  },
  {
   "cell_type": "markdown",
   "id": "f692afde-b969-42cc-b611-c50cfea2bf0b",
   "metadata": {},
   "source": [
    "## Test"
   ]
  },
  {
   "cell_type": "code",
   "execution_count": 345,
   "id": "c030a432-36ad-4a78-a6de-d2ddc73cc5f5",
   "metadata": {
    "tags": []
   },
   "outputs": [
    {
     "data": {
      "text/plain": [
       "[{'index': 'products',\n",
       "  'shards': '1',\n",
       "  'creation_date': '1721414017156',\n",
       "  'blocks_write': 'false'},\n",
       " {'index': 'security_events',\n",
       "  'shards': '1',\n",
       "  'creation_date': '1721414299237',\n",
       "  'blocks_write': 'true'}]"
      ]
     },
     "execution_count": 345,
     "metadata": {},
     "output_type": "execute_result"
    }
   ],
   "source": [
    "indices = get_indices()\n",
    "indices"
   ]
  },
  {
   "cell_type": "code",
   "execution_count": null,
   "id": "aa7d366a-f77b-4ea6-bbad-7f00a76fcede",
   "metadata": {},
   "outputs": [],
   "source": []
  },
  {
   "cell_type": "code",
   "execution_count": null,
   "id": "81454561-0c95-48d1-bf5c-7ffe18c53ee7",
   "metadata": {},
   "outputs": [],
   "source": []
  },
  {
   "cell_type": "code",
   "execution_count": null,
   "id": "d8efd33c-9890-4c15-969c-311a2cbba4ed",
   "metadata": {},
   "outputs": [],
   "source": []
  },
  {
   "cell_type": "markdown",
   "id": "131fb074-22fe-4b06-9747-5bb81ef9cedd",
   "metadata": {
    "tags": []
   },
   "source": [
    "## Ingest in dataplex"
   ]
  },
  {
   "cell_type": "code",
   "execution_count": 452,
   "id": "3034e3cd-5144-45b8-b2fa-c55f818df479",
   "metadata": {
    "tags": []
   },
   "outputs": [],
   "source": [
    "DATAPLEX_GROUP_ID = \"elasticsearch\"\n",
    "DATAPLEX_ENTRY_TYPE_ID = \"elasticsearch-index\"\n",
    "DATAPLEX_ENTRY_TYPE_NAME = \"Elasticsearch Index\"\n",
    "DATAPLEX_SYSTEM = \"Elasticsearch\"\n",
    "DATAPLEX_TYPE_DISPLAY = \"Elasticsearch index\"\n",
    "DATAPLEX_TYPE_DESCRIPTION = ES_ENDPOINT\n",
    "DATAPLEX_ASPECT_TYPE_ID = \"index-schema\""
   ]
  },
  {
   "cell_type": "code",
   "execution_count": 354,
   "id": "3b76d2c6-91d1-4872-83c9-4e2246412c31",
   "metadata": {
    "tags": []
   },
   "outputs": [],
   "source": [
    "parent_project = f\"projects/{PROJECT_ID}/locations/{LOCATION_ID}\"\n",
    "parent_group = f\"projects/{PROJECT_ID}/locations/{LOCATION_ID}/entryGroups/{entry_group_id}\"\n",
    "dplx_client = dataplex_v1.CatalogServiceClient()"
   ]
  },
  {
   "cell_type": "markdown",
   "id": "9d978741-3c68-4731-9152-e59c3006aade",
   "metadata": {},
   "source": [
    "### Dataplex setup for Elasticsearch catalog items"
   ]
  },
  {
   "cell_type": "markdown",
   "id": "3bc01376-6e45-4dc6-9d43-ab2ba868e727",
   "metadata": {},
   "source": [
    "### Aspect type"
   ]
  },
  {
   "cell_type": "code",
   "execution_count": 389,
   "id": "6cee1146-ef35-4b45-8494-7c0e9f317c8a",
   "metadata": {
    "tags": []
   },
   "outputs": [
    {
     "data": {
      "text/plain": [
       "<google.api_core.operation.Operation at 0x7f8f2e74e7a0>"
      ]
     },
     "execution_count": 389,
     "metadata": {},
     "output_type": "execute_result"
    }
   ],
   "source": []
  },
  {
   "cell_type": "code",
   "execution_count": 444,
   "id": "1310f8bb-4ffb-44cb-823d-c55d3db42422",
   "metadata": {
    "tags": []
   },
   "outputs": [],
   "source": [
    "def dataplex_elastic_setup(parent_project, entry_group_id, \n",
    "                           entry_type_id, entry_type_name, \n",
    "                           type_system, type_display, type_description,\n",
    "                          aspect_type_id):\n",
    "    \n",
    "    # Aspect type\n",
    "    attribute_fields = dataplex_v1.types.AspectType.MetadataTemplate(\n",
    "        name = \"Attribute\",\n",
    "        type_ = \"record\",\n",
    "        index = 1,\n",
    "        constraints = dataplex_v1.types.AspectType.MetadataTemplate.Constraints(required=True),\n",
    "        record_fields = [\n",
    "            dataplex_v1.types.AspectType.MetadataTemplate(\n",
    "                name = \"Name\",\n",
    "                type_ = \"string\",\n",
    "                index = 1,\n",
    "                constraints = dataplex_v1.types.AspectType.MetadataTemplate.Constraints(required=True)\n",
    "            ),\n",
    "            dataplex_v1.types.AspectType.MetadataTemplate(\n",
    "                name = \"DataType\",\n",
    "                type_ = \"string\",\n",
    "                index = 2,\n",
    "                constraints = dataplex_v1.types.AspectType.MetadataTemplate.Constraints(required=True)\n",
    "            )\n",
    "        ]\n",
    "    )\n",
    "\n",
    "    index_fields = [\n",
    "        dataplex_v1.types.AspectType.MetadataTemplate(\n",
    "            name = \"Attributes\",\n",
    "            type_ = \"array\",\n",
    "            index = 1,\n",
    "            constraints = dataplex_v1.types.AspectType.MetadataTemplate.Constraints(required=True),\n",
    "            array_items = attribute_fields\n",
    "        ),\n",
    "        dataplex_v1.types.AspectType.MetadataTemplate(\n",
    "            name = \"Shards\",\n",
    "            type_ = \"string\",\n",
    "            index = 2,\n",
    "            constraints = dataplex_v1.types.AspectType.MetadataTemplate.Constraints(required=True),\n",
    "        ),\n",
    "        dataplex_v1.types.AspectType.MetadataTemplate(\n",
    "            name = \"CreationDate\",\n",
    "            type_ = \"string\",\n",
    "            index = 3,\n",
    "            constraints = dataplex_v1.types.AspectType.MetadataTemplate.Constraints(required=True),\n",
    "        ),\n",
    "        dataplex_v1.types.AspectType.MetadataTemplate(\n",
    "            name = \"BlocksWrite\",\n",
    "            type_ = \"string\",\n",
    "            index = 4,\n",
    "            constraints = dataplex_v1.types.AspectType.MetadataTemplate.Constraints(required=True),\n",
    "        )\n",
    "    ]\n",
    "\n",
    "    aspect_type = dataplex_v1.types.AspectType(\n",
    "        metadata_template = dataplex_v1.types.AspectType.MetadataTemplate(\n",
    "            name = \"Index\",\n",
    "            type_ = \"record\",\n",
    "            record_fields = index_fields\n",
    "        )\n",
    "    )\n",
    "\n",
    "    try:\n",
    "        dplx_client.create_aspect_type(\n",
    "            parent = f\"projects/{PROJECT_ID}/locations/global\",\n",
    "            aspect_type_id = DATAPLEX_ASPECT_TYPE_ID,\n",
    "            aspect_type = aspect_type\n",
    "        )\n",
    "        time.sleep(2)\n",
    "    except Exception as ex:\n",
    "        print(\"Aspect Type exists, skipping...\")\n",
    "\n",
    "    \n",
    "    # Entry Group - Container for indexes\n",
    "    entry_group = dataplex_v1.types.EntryGroup(\n",
    "        description = type_description\n",
    "    )\n",
    "    \n",
    "    try:\n",
    "        dplx_client.create_entry_group(\n",
    "            parent = parent_project,\n",
    "            entry_group_id = entry_group_id,\n",
    "            entry_group = entry_group\n",
    "        )\n",
    "        time.sleep(2)\n",
    "    except Exception as ex:\n",
    "        print(\"Entry Group exists, skipping...\")\n",
    "    \n",
    "    \n",
    "    # Entry type, to map an index into the catalog\n",
    "    entry_type_id = entry_type_id\n",
    "    entry_type = dataplex_v1.types.EntryType(\n",
    "        type_aliases = [\"TABLE\"],\n",
    "        display_name = type_display,\n",
    "        system = type_system,\n",
    "        description = type_description,\n",
    "        required_aspects = [\n",
    "            dataplex_v1.types.EntryType.AspectInfo(\n",
    "                type_=f\"projects/{PROJECT_ID}/locations/global/aspectTypes/{aspect_type_id}\"\n",
    "        )]\n",
    "    )\n",
    "    \n",
    "\n",
    "    try:\n",
    "        dplx_client.create_entry_type(\n",
    "            entry_type = entry_type,\n",
    "            parent = f\"projects/{PROJECT_ID}/locations/global\",\n",
    "            entry_type_id = entry_type_id\n",
    "        )\n",
    "        time.sleep(2)\n",
    "    except Exception as ex:\n",
    "        print(\"Entry Type exists, skipping...\")\n"
   ]
  },
  {
   "cell_type": "code",
   "execution_count": 445,
   "id": "2171b430-3c4b-43a3-9c7d-82628df4902b",
   "metadata": {
    "tags": []
   },
   "outputs": [
    {
     "name": "stdout",
     "output_type": "stream",
     "text": [
      "Aspect Type exists, skipping...\n",
      "Entry Group exists, skipping...\n",
      "Entry Type exists, skipping...\n"
     ]
    }
   ],
   "source": [
    "dataplex_elastic_setup(parent_project=parent_project, entry_group_id=DATAPLEX_GROUP_ID, \n",
    "                       entry_type_id=DATAPLEX_ENTRY_TYPE_ID, entry_type_name=DATAPLEX_ENTRY_TYPE_NAME,\n",
    "                        type_system=DATAPLEX_SYSTEM, type_display=DATAPLEX_TYPE_DISPLAY,\n",
    "                       type_description=DATAPLEX_TYPE_DESCRIPTION, \n",
    "                       aspect_type_id=DATAPLEX_ASPECT_TYPE_ID)"
   ]
  },
  {
   "cell_type": "markdown",
   "id": "1529de4c-960b-4fab-b10e-a25d7647244e",
   "metadata": {
    "tags": []
   },
   "source": [
    "### List entries"
   ]
  },
  {
   "cell_type": "code",
   "execution_count": 439,
   "id": "cc84ce54-02c5-4dc6-9130-4ee421d9c3e5",
   "metadata": {
    "tags": []
   },
   "outputs": [
    {
     "name": "stdout",
     "output_type": "stream",
     "text": [
      "[]\n"
     ]
    }
   ],
   "source": [
    "current_dplx_entries = []\n",
    "for entry in dplx_client.list_entries(parent=parent_group):\n",
    "    if entry.entry_type[entry.entry_type.rindex(\"/\")+1:] != \"entrygroup\":\n",
    "        entry_id = entry.name[entry.name.rindex(\"/\")+1:]\n",
    "        current_dplx_entries.append(entry_id)\n",
    "        \n",
    "print(current_dplx_entries)"
   ]
  },
  {
   "cell_type": "markdown",
   "id": "cac2f163-dfa4-4857-9f2c-75baefa2310d",
   "metadata": {},
   "source": [
    "### Create entry"
   ]
  },
  {
   "cell_type": "code",
   "execution_count": 446,
   "id": "d7dd778a-d35e-480b-a792-d4640341262a",
   "metadata": {
    "tags": []
   },
   "outputs": [],
   "source": [
    "def create_dataplex_entry(entry_id, aspects, system, description, entry_type_id):\n",
    "    entry_name = f\"elasticsearch.cloud.es/{entry_id}\"\n",
    "\n",
    "    entry_source = dataplex_v1.types.EntrySource(\n",
    "        system = system,\n",
    "        display_name = entry_id,\n",
    "        description = description\n",
    "    )\n",
    "    \n",
    "    entry = dataplex_v1.types.Entry(\n",
    "        name = entry_id,\n",
    "        entry_type = f\"projects/{PROJECT_ID}/locations/global/entryTypes/{entry_type_id}\",\n",
    "        entry_source = entry_source,\n",
    "        aspects = aspects\n",
    "    )\n",
    "    \n",
    "    try:\n",
    "        dplx_client.create_entry(\n",
    "            parent = parent_group,\n",
    "            entry_id = entry_name,\n",
    "            entry = entry\n",
    "        )\n",
    "    except Exception as ex:\n",
    "        print(f\"Entry {entry_id} exists, skipping...\")"
   ]
  },
  {
   "cell_type": "code",
   "execution_count": 447,
   "id": "5af885f5-e9d6-4e22-9e15-10e2cbdb91e9",
   "metadata": {
    "tags": []
   },
   "outputs": [],
   "source": [
    "for index in indices:\n",
    "    index_name = index[\"index\"]\n",
    "    \n",
    "    schema = google.protobuf.struct_pb2.ListValue()\n",
    "    schema.values.extend([\n",
    "        google.protobuf.struct_pb2.Value(struct_value=col1)\n",
    "    ])\n",
    "    \n",
    "    attributes=get_index_mapping(index_name)\n",
    "    for attr in attributes:\n",
    "        col = google.protobuf.struct_pb2.Struct()\n",
    "        col[\"Name\"] = attr[\"field_name\"]\n",
    "        col[\"DataType\"] = attr[\"type\"]\n",
    "        schema.append(col)\n",
    "    \n",
    "    aspect_data = google.protobuf.struct_pb2.Struct()\n",
    "    aspect_data[\"Attributes\"] = schema\n",
    "    aspect_data[\"Shards\"] = index[\"shards\"]\n",
    "    aspect_data[\"CreationDate\"] = index[\"creation_date\"]\n",
    "    aspect_data[\"BlocksWrite\"] = index[\"blocks_write\"]\n",
    "    \n",
    "    aspect_data = dataplex_v1.types.Aspect(data = aspect_data)\n",
    "    aspects = {f\"{PROJECT_ID}.global.{DATAPLEX_ASPECT_TYPE_ID}\": aspect_data}\n",
    "    \n",
    "    if index_name not in current_dplx_entries:\n",
    "        print(f\"##### {index_name} #####\")\n",
    "        create_dataplex_entry(entry_id=index_name, aspects=aspects,\n",
    "                              system=DATAPLEX_TYPE_SYSTEM, \n",
    "                              description=index[\"creation_date\"],\n",
    "                             entry_type_id=DATAPLEX_ENTRY_TYPE_ID)\n",
    "        current_dplx_entries.append(index_name)"
   ]
  }
 ],
 "metadata": {
  "kernelspec": {
   "display_name": "Python (Local)",
   "language": "python",
   "name": "base"
  },
  "language_info": {
   "codemirror_mode": {
    "name": "ipython",
    "version": 3
   },
   "file_extension": ".py",
   "mimetype": "text/x-python",
   "name": "python",
   "nbconvert_exporter": "python",
   "pygments_lexer": "ipython3",
   "version": "3.10.13"
  }
 },
 "nbformat": 4,
 "nbformat_minor": 5
}
