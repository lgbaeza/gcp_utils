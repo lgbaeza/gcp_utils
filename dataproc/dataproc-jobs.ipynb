{
 "cells": [
  {
   "cell_type": "markdown",
   "id": "1b553a81-d772-4f73-8ef9-d50f6e4ff4b3",
   "metadata": {
    "tags": []
   },
   "source": [
    "<h1>\n",
    "    <img src=\"dataproc-jobs-logo.png\" alt=\"drawing\" width=\"50\"/> \n",
    "    Dataproc usage analysis\n",
    "</h1>"
   ]
  },
  {
   "cell_type": "markdown",
   "id": "fa475167-86b3-45b4-abdc-1629de214578",
   "metadata": {},
   "source": [
    "This sample demonstrates how to analyse Dataproc usage and billing. It uses the [JobController Python client](https://cloud.google.com/python/docs/reference/dataproc/latest/google.cloud.dataproc_v1.services.job_controller.JobControllerClient#google_cloud_dataproc_v1_services_job_controller_JobControllerClient_list_operations) to retrieve the service operations of type [dataproc.v1.ClusterOperationMetadata](https://cloud.google.com/python/docs/reference/dataproc/5.16.0/google.cloud.dataproc_v1.types.ClusterOperationMetadata). This operation logs cluster creation and deletion events. In addition, it uses the billing data exported in BigQuery to provide further insights about the usage cost.\n",
    "\n",
    "#### Reference architecture implementation\n",
    "![dataproc-jobs-architecture.png](dataproc-jobs-architecture.png)"
   ]
  },
  {
   "cell_type": "markdown",
   "id": "178071c6-aae2-44de-8217-137582515b37",
   "metadata": {},
   "source": [
    "Pre-requisites:\n",
    "* [Billing export setup to BigQuery](https://cloud.google.com/billing/docs/how-to/export-data-bigquery)\n",
    "* [Create a BigQuery dataset named **dataproc_analysis**](https://cloud.google.com/bigquery/docs/datasets#console)\n",
    "* [BigQueryDataViewer role](https://cloud.google.com/bigquery/docs/access-control#dataset_level) at the Billing export dataset\n",
    "* [BigQueryDataEditor role](https://cloud.google.com/bigquery/docs/access-control#dataset_level) at the **dataproc_analysis** dataset\n",
    "* Dataproc [operations.list](https://cloud.google.com/dataproc/docs/concepts/iam/iam#operations_methods_required_permissions) and [workflowTemplates.list](https://cloud.google.com/dataproc/docs/concepts/iam/iam#workflow_templates_methods_required_permissions) IAM permissions\n",
    "\n",
    "Considerations:\n",
    "* This code will not retrieve nor ingest data incrementally, but historically. Then it will filter from the specified date.\n",
    "* Tables will be re-created at each run\n",
    "* Code provided as a sample, not ready to production. Review with your organization"
   ]
  },
  {
   "cell_type": "markdown",
   "id": "9f4ba4c1-4c4d-4052-b16a-9c11d3776515",
   "metadata": {
    "jp-MarkdownHeadingCollapsed": true,
    "tags": []
   },
   "source": [
    "### 1. Install upgrade dependencies"
   ]
  },
  {
   "cell_type": "code",
   "execution_count": 1,
   "id": "363aa697-4b9f-49a1-83e3-fc6022b867e3",
   "metadata": {
    "scrolled": true,
    "tags": []
   },
   "outputs": [
    {
     "name": "stdout",
     "output_type": "stream",
     "text": [
      "Requirement already satisfied: google-cloud-dataproc in /opt/conda/lib/python3.10/site-packages (5.17.0)\n",
      "Requirement already satisfied: google-api-core!=2.0.*,!=2.1.*,!=2.10.*,!=2.2.*,!=2.3.*,!=2.4.*,!=2.5.*,!=2.6.*,!=2.7.*,!=2.8.*,!=2.9.*,<3.0.0dev,>=1.34.1 in /opt/conda/lib/python3.10/site-packages (from google-api-core[grpc]!=2.0.*,!=2.1.*,!=2.10.*,!=2.2.*,!=2.3.*,!=2.4.*,!=2.5.*,!=2.6.*,!=2.7.*,!=2.8.*,!=2.9.*,<3.0.0dev,>=1.34.1->google-cloud-dataproc) (2.24.1)\n",
      "Requirement already satisfied: google-auth!=2.24.0,!=2.25.0,<3.0.0dev,>=2.14.1 in /opt/conda/lib/python3.10/site-packages (from google-cloud-dataproc) (2.38.0)\n",
      "Requirement already satisfied: proto-plus<2.0.0dev,>=1.22.3 in /opt/conda/lib/python3.10/site-packages (from google-cloud-dataproc) (1.23.0)\n",
      "Requirement already satisfied: protobuf!=4.21.0,!=4.21.1,!=4.21.2,!=4.21.3,!=4.21.4,!=4.21.5,<6.0.0dev,>=3.20.2 in /opt/conda/lib/python3.10/site-packages (from google-cloud-dataproc) (3.20.3)\n",
      "Requirement already satisfied: grpc-google-iam-v1<1.0.0dev,>=0.12.4 in /opt/conda/lib/python3.10/site-packages (from google-cloud-dataproc) (0.13.0)\n",
      "Requirement already satisfied: googleapis-common-protos<2.0.dev0,>=1.56.2 in /opt/conda/lib/python3.10/site-packages (from google-api-core!=2.0.*,!=2.1.*,!=2.10.*,!=2.2.*,!=2.3.*,!=2.4.*,!=2.5.*,!=2.6.*,!=2.7.*,!=2.8.*,!=2.9.*,<3.0.0dev,>=1.34.1->google-api-core[grpc]!=2.0.*,!=2.1.*,!=2.10.*,!=2.2.*,!=2.3.*,!=2.4.*,!=2.5.*,!=2.6.*,!=2.7.*,!=2.8.*,!=2.9.*,<3.0.0dev,>=1.34.1->google-cloud-dataproc) (1.63.0)\n",
      "Requirement already satisfied: requests<3.0.0.dev0,>=2.18.0 in /opt/conda/lib/python3.10/site-packages (from google-api-core!=2.0.*,!=2.1.*,!=2.10.*,!=2.2.*,!=2.3.*,!=2.4.*,!=2.5.*,!=2.6.*,!=2.7.*,!=2.8.*,!=2.9.*,<3.0.0dev,>=1.34.1->google-api-core[grpc]!=2.0.*,!=2.1.*,!=2.10.*,!=2.2.*,!=2.3.*,!=2.4.*,!=2.5.*,!=2.6.*,!=2.7.*,!=2.8.*,!=2.9.*,<3.0.0dev,>=1.34.1->google-cloud-dataproc) (2.31.0)\n",
      "Requirement already satisfied: grpcio<2.0dev,>=1.33.2 in /opt/conda/lib/python3.10/site-packages (from google-api-core[grpc]!=2.0.*,!=2.1.*,!=2.10.*,!=2.2.*,!=2.3.*,!=2.4.*,!=2.5.*,!=2.6.*,!=2.7.*,!=2.8.*,!=2.9.*,<3.0.0dev,>=1.34.1->google-cloud-dataproc) (1.63.0)\n",
      "Requirement already satisfied: grpcio-status<2.0.dev0,>=1.33.2 in /opt/conda/lib/python3.10/site-packages (from google-api-core[grpc]!=2.0.*,!=2.1.*,!=2.10.*,!=2.2.*,!=2.3.*,!=2.4.*,!=2.5.*,!=2.6.*,!=2.7.*,!=2.8.*,!=2.9.*,<3.0.0dev,>=1.34.1->google-cloud-dataproc) (1.48.2)\n",
      "Requirement already satisfied: cachetools<6.0,>=2.0.0 in /opt/conda/lib/python3.10/site-packages (from google-auth!=2.24.0,!=2.25.0,<3.0.0dev,>=2.14.1->google-cloud-dataproc) (5.3.3)\n",
      "Requirement already satisfied: pyasn1-modules>=0.2.1 in /opt/conda/lib/python3.10/site-packages (from google-auth!=2.24.0,!=2.25.0,<3.0.0dev,>=2.14.1->google-cloud-dataproc) (0.4.0)\n",
      "Requirement already satisfied: rsa<5,>=3.1.4 in /opt/conda/lib/python3.10/site-packages (from google-auth!=2.24.0,!=2.25.0,<3.0.0dev,>=2.14.1->google-cloud-dataproc) (4.9)\n",
      "Requirement already satisfied: pyasn1<0.7.0,>=0.4.6 in /opt/conda/lib/python3.10/site-packages (from pyasn1-modules>=0.2.1->google-auth!=2.24.0,!=2.25.0,<3.0.0dev,>=2.14.1->google-cloud-dataproc) (0.6.0)\n",
      "Requirement already satisfied: charset-normalizer<4,>=2 in /opt/conda/lib/python3.10/site-packages (from requests<3.0.0.dev0,>=2.18.0->google-api-core!=2.0.*,!=2.1.*,!=2.10.*,!=2.2.*,!=2.3.*,!=2.4.*,!=2.5.*,!=2.6.*,!=2.7.*,!=2.8.*,!=2.9.*,<3.0.0dev,>=1.34.1->google-api-core[grpc]!=2.0.*,!=2.1.*,!=2.10.*,!=2.2.*,!=2.3.*,!=2.4.*,!=2.5.*,!=2.6.*,!=2.7.*,!=2.8.*,!=2.9.*,<3.0.0dev,>=1.34.1->google-cloud-dataproc) (3.3.2)\n",
      "Requirement already satisfied: idna<4,>=2.5 in /opt/conda/lib/python3.10/site-packages (from requests<3.0.0.dev0,>=2.18.0->google-api-core!=2.0.*,!=2.1.*,!=2.10.*,!=2.2.*,!=2.3.*,!=2.4.*,!=2.5.*,!=2.6.*,!=2.7.*,!=2.8.*,!=2.9.*,<3.0.0dev,>=1.34.1->google-api-core[grpc]!=2.0.*,!=2.1.*,!=2.10.*,!=2.2.*,!=2.3.*,!=2.4.*,!=2.5.*,!=2.6.*,!=2.7.*,!=2.8.*,!=2.9.*,<3.0.0dev,>=1.34.1->google-cloud-dataproc) (3.7)\n",
      "Requirement already satisfied: urllib3<3,>=1.21.1 in /opt/conda/lib/python3.10/site-packages (from requests<3.0.0.dev0,>=2.18.0->google-api-core!=2.0.*,!=2.1.*,!=2.10.*,!=2.2.*,!=2.3.*,!=2.4.*,!=2.5.*,!=2.6.*,!=2.7.*,!=2.8.*,!=2.9.*,<3.0.0dev,>=1.34.1->google-api-core[grpc]!=2.0.*,!=2.1.*,!=2.10.*,!=2.2.*,!=2.3.*,!=2.4.*,!=2.5.*,!=2.6.*,!=2.7.*,!=2.8.*,!=2.9.*,<3.0.0dev,>=1.34.1->google-cloud-dataproc) (1.26.18)\n",
      "Requirement already satisfied: certifi>=2017.4.17 in /opt/conda/lib/python3.10/site-packages (from requests<3.0.0.dev0,>=2.18.0->google-api-core!=2.0.*,!=2.1.*,!=2.10.*,!=2.2.*,!=2.3.*,!=2.4.*,!=2.5.*,!=2.6.*,!=2.7.*,!=2.8.*,!=2.9.*,<3.0.0dev,>=1.34.1->google-api-core[grpc]!=2.0.*,!=2.1.*,!=2.10.*,!=2.2.*,!=2.3.*,!=2.4.*,!=2.5.*,!=2.6.*,!=2.7.*,!=2.8.*,!=2.9.*,<3.0.0dev,>=1.34.1->google-cloud-dataproc) (2024.2.2)\n",
      "Note: you may need to restart the kernel to use updated packages.\n"
     ]
    }
   ],
   "source": [
    "pip install google-cloud-dataproc"
   ]
  },
  {
   "cell_type": "code",
   "execution_count": 2,
   "id": "c80e7282-68a3-44a8-bada-43bb900d8bf9",
   "metadata": {
    "scrolled": true,
    "tags": []
   },
   "outputs": [
    {
     "name": "stdout",
     "output_type": "stream",
     "text": [
      "Requirement already satisfied: google-api-core in /opt/conda/lib/python3.10/site-packages (2.24.1)\n",
      "Requirement already satisfied: googleapis-common-protos<2.0.dev0,>=1.56.2 in /opt/conda/lib/python3.10/site-packages (from google-api-core) (1.63.0)\n",
      "Requirement already satisfied: protobuf!=3.20.0,!=3.20.1,!=4.21.0,!=4.21.1,!=4.21.2,!=4.21.3,!=4.21.4,!=4.21.5,<6.0.0.dev0,>=3.19.5 in /opt/conda/lib/python3.10/site-packages (from google-api-core) (3.20.3)\n",
      "Requirement already satisfied: proto-plus<2.0.0dev,>=1.22.3 in /opt/conda/lib/python3.10/site-packages (from google-api-core) (1.23.0)\n",
      "Requirement already satisfied: google-auth<3.0.dev0,>=2.14.1 in /opt/conda/lib/python3.10/site-packages (from google-api-core) (2.38.0)\n",
      "Requirement already satisfied: requests<3.0.0.dev0,>=2.18.0 in /opt/conda/lib/python3.10/site-packages (from google-api-core) (2.31.0)\n",
      "Requirement already satisfied: cachetools<6.0,>=2.0.0 in /opt/conda/lib/python3.10/site-packages (from google-auth<3.0.dev0,>=2.14.1->google-api-core) (5.3.3)\n",
      "Requirement already satisfied: pyasn1-modules>=0.2.1 in /opt/conda/lib/python3.10/site-packages (from google-auth<3.0.dev0,>=2.14.1->google-api-core) (0.4.0)\n",
      "Requirement already satisfied: rsa<5,>=3.1.4 in /opt/conda/lib/python3.10/site-packages (from google-auth<3.0.dev0,>=2.14.1->google-api-core) (4.9)\n",
      "Requirement already satisfied: charset-normalizer<4,>=2 in /opt/conda/lib/python3.10/site-packages (from requests<3.0.0.dev0,>=2.18.0->google-api-core) (3.3.2)\n",
      "Requirement already satisfied: idna<4,>=2.5 in /opt/conda/lib/python3.10/site-packages (from requests<3.0.0.dev0,>=2.18.0->google-api-core) (3.7)\n",
      "Requirement already satisfied: urllib3<3,>=1.21.1 in /opt/conda/lib/python3.10/site-packages (from requests<3.0.0.dev0,>=2.18.0->google-api-core) (1.26.18)\n",
      "Requirement already satisfied: certifi>=2017.4.17 in /opt/conda/lib/python3.10/site-packages (from requests<3.0.0.dev0,>=2.18.0->google-api-core) (2024.2.2)\n",
      "Requirement already satisfied: pyasn1<0.7.0,>=0.4.6 in /opt/conda/lib/python3.10/site-packages (from pyasn1-modules>=0.2.1->google-auth<3.0.dev0,>=2.14.1->google-api-core) (0.6.0)\n",
      "Note: you may need to restart the kernel to use updated packages.\n"
     ]
    }
   ],
   "source": [
    "pip install --upgrade google-api-core"
   ]
  },
  {
   "cell_type": "markdown",
   "id": "36f7f7d5-8bf3-4aae-8106-03ae67f60f22",
   "metadata": {
    "tags": []
   },
   "source": [
    "### 2. Imports and variables"
   ]
  },
  {
   "cell_type": "markdown",
   "id": "68c5bab9-d137-4e1d-ae51-24a4adf9f8b9",
   "metadata": {},
   "source": [
    "##### 2.1 RESTART KERNEL"
   ]
  },
  {
   "cell_type": "code",
   "execution_count": 3,
   "id": "2fccea23-bb1d-494a-beff-fa93f9c928de",
   "metadata": {
    "tags": []
   },
   "outputs": [],
   "source": [
    "from google.cloud import dataproc_v1 as dataproc\n",
    "from google.api_core import client_options\n",
    "from google.longrunning.operations_pb2 import ListOperationsRequest\n",
    "from typing import Sequence, Tuple, Union\n",
    "from google.protobuf.json_format import MessageToJson \n",
    "import json\n",
    "import pandas as pd\n",
    "from google.cloud import bigquery\n",
    "import time"
   ]
  },
  {
   "cell_type": "markdown",
   "id": "0a59f01f-d0ae-49d9-b344-a1703c842f93",
   "metadata": {},
   "source": [
    "**2.2 Provide your own setup**"
   ]
  },
  {
   "cell_type": "code",
   "execution_count": 4,
   "id": "7fb0e9a8-4db8-4ab0-a6f8-9edf11c44dcc",
   "metadata": {
    "tags": []
   },
   "outputs": [],
   "source": [
    "PROJECT_ID = \"\" # Your own GCP project ID\n",
    "GCP_REGION = \"us-central1\" # Your region\n",
    "BQ_BILLING_DATASET_NAME = \"gcp_billing\"\n",
    "BQ_BILLING_TABLE_NAME = \"gcp_billing_export_resource_v1_019CAE_7D7330_15385C\"\n",
    "\n",
    "# Set reporting start date \n",
    "START_DATE = \"2024-03-01\""
   ]
  },
  {
   "cell_type": "code",
   "execution_count": 5,
   "id": "4f477fc4-28a3-4f70-aac2-6100e9175315",
   "metadata": {},
   "outputs": [],
   "source": [
    "# Do not change, unless necesary\n",
    "BQ_DATASET_NAME = \"dataproc_analysis\"\n",
    "BQ_TABLE_NAME_RAW = \"operations_raw\"\n",
    "BQ_TABLE_NAME_CLEAN = \"operations_clean\"\n",
    "BQ_TABLE_NAME_MODEL = \"operations_model\"\n",
    "BQ_BILLING_TABLE_VIEW = \"billing_model\""
   ]
  },
  {
   "cell_type": "code",
   "execution_count": 6,
   "id": "04544a15-5381-4ac9-a49e-4fbbb2290718",
   "metadata": {
    "tags": []
   },
   "outputs": [],
   "source": [
    "client_options = client_options.ClientOptions(\n",
    "    api_endpoint=f\"{GCP_REGION}-dataproc.googleapis.com:443\"\n",
    ")\n",
    "workflow_template_client = dataproc.WorkflowTemplateServiceClient(client_options=client_options)\n",
    "bq_client = bigquery.Client()"
   ]
  },
  {
   "cell_type": "code",
   "execution_count": 7,
   "id": "2244088f-3581-4f08-b23b-f35c7718750b",
   "metadata": {
    "tags": []
   },
   "outputs": [],
   "source": [
    "def run_bq_query(sql_query):\n",
    "    query_job = bq_client.query(sql_query)\n",
    "    return query_job.result()"
   ]
  },
  {
   "cell_type": "code",
   "execution_count": 8,
   "id": "af04229f-b1f1-428d-a1ba-b86dacfc3cbe",
   "metadata": {
    "tags": []
   },
   "outputs": [],
   "source": [
    "def save_to_bq(table_id, df, schema = None):\n",
    "    job_config = bigquery.LoadJobConfig(\n",
    "        write_disposition=\"WRITE_APPEND\",\n",
    "        schema = schema\n",
    "    )\n",
    "\n",
    "    job = bq_client.load_table_from_dataframe(df, table_id, job_config=job_config) \n",
    "    return job.result()"
   ]
  },
  {
   "cell_type": "code",
   "execution_count": 9,
   "id": "ce2c19be-5ef0-4d04-be49-76cfea9d6c24",
   "metadata": {
    "tags": []
   },
   "outputs": [
    {
     "data": {
      "text/plain": [
       "<google.cloud.bigquery.table._EmptyRowIterator at 0x7f5e568bc190>"
      ]
     },
     "execution_count": 9,
     "metadata": {},
     "output_type": "execute_result"
    }
   ],
   "source": [
    "SQL_QUERY = f\"\"\"\n",
    "    CREATE OR REPLACE TABLE {BQ_DATASET_NAME}.{BQ_TABLE_NAME_RAW}\n",
    "    (\n",
    "        clusterUuid STRING,\n",
    "        clusterName STRING,\n",
    "        operationType STRING,\n",
    "        status STRING,\n",
    "        master_instances STRING,\n",
    "        master_machine_type STRING,\n",
    "        worker_instances STRING,\n",
    "        worker_machine_type STRING\n",
    "    );\n",
    "    CREATE OR REPLACE TABLE {BQ_DATASET_NAME}.{BQ_TABLE_NAME_CLEAN}\n",
    "    (\n",
    "        clusterUuid STRING, \n",
    "        clusterName STRING,\n",
    "        operationType STRING,\n",
    "        stateStartTime STRING,\n",
    "        master_instances STRING,\n",
    "        master_machine_type STRING,\n",
    "        worker_instances STRING,\n",
    "        worker_machine_type STRING\n",
    "    );\n",
    "    CREATE OR REPLACE TABLE {BQ_DATASET_NAME}.{BQ_TABLE_NAME_MODEL}\n",
    "    (\n",
    "        clusterUuid STRING, \n",
    "        clusterName STRING,\n",
    "        created TIMESTAMP,\n",
    "        deleted TIMESTAMP,\n",
    "        date DATE,\n",
    "        hour INTEGER,\n",
    "        master_instances STRING,\n",
    "        master_machine_type STRING,\n",
    "        worker_instances STRING,\n",
    "        worker_machine_type STRING,\n",
    "        seconds_elapsed INTEGER,\n",
    "    );\n",
    "\"\"\"\n",
    "run_bq_query(SQL_QUERY)"
   ]
  },
  {
   "cell_type": "markdown",
   "id": "b071e7a2-d779-4274-aed6-2176455ec681",
   "metadata": {
    "tags": []
   },
   "source": [
    "### 3. List workflow templates"
   ]
  },
  {
   "cell_type": "code",
   "execution_count": 10,
   "id": "8dd84b94-de9d-49bf-aafa-20c4a9cd7507",
   "metadata": {
    "tags": []
   },
   "outputs": [],
   "source": [
    "parent = f\"projects/{PROJECT_ID}/regions/{GCP_REGION}\"\n",
    "request = dataproc.ListWorkflowTemplatesRequest(parent=parent)"
   ]
  },
  {
   "cell_type": "code",
   "execution_count": 11,
   "id": "2f0067ef-416f-4dad-96f7-83463783a1ae",
   "metadata": {
    "scrolled": true,
    "tags": []
   },
   "outputs": [],
   "source": [
    "page_result = workflow_template_client.list_workflow_templates(request=request)"
   ]
  },
  {
   "cell_type": "code",
   "execution_count": 12,
   "id": "86548456-13b3-41e0-81b3-9fc7a55c148a",
   "metadata": {},
   "outputs": [],
   "source": [
    "workflow_templates = []\n",
    "\n",
    "for response in page_result:\n",
    "    workflow_templates.append({\n",
    "        \"name\": response.name,\n",
    "        \"id\": response.id\n",
    "    })"
   ]
  },
  {
   "cell_type": "markdown",
   "id": "aae2a7ee-043d-493c-8542-b6952f8abebf",
   "metadata": {
    "tags": []
   },
   "source": [
    "### 4. Get cluster operations and save them into BigQuery"
   ]
  },
  {
   "cell_type": "code",
   "execution_count": 13,
   "id": "bfa59c96-60c7-49a1-9ca3-0fc946fd1cb0",
   "metadata": {
    "tags": []
   },
   "outputs": [],
   "source": [
    "def format_ops_data(ops):\n",
    "    cluster_metadata = json.loads(MessageToJson(ops.metadata))\n",
    "    ops = json.loads(MessageToJson(ops))\n",
    "    \n",
    "    response = ops.get(\"response\", None)\n",
    "    config = response.get(\"config\", None) if response is not None else None\n",
    "\n",
    "    # Master\n",
    "    master_config = config.get(\"masterConfig\", {\"masterConfig\": None}) if config is not None else None\n",
    "    master_num_instances = master_config.get(\"numInstances\", \"\") if master_config is not None else \"\"\n",
    "    master_machineType = master_config.get(\"machineTypeUri\", \"\") if master_config is not None else \"\"\n",
    "    master_mathineType = master_machineType[master_machineType.rindex('/')+1:] if master_machineType != \"\" else \"\"\n",
    "\n",
    "    # Worker\n",
    "    worker_config = config.get(\"workerConfig\", {\"workerConfig\": None}) if config is not None else None\n",
    "    worker_num_instances = worker_config.get(\"numInstances\", \"\") if worker_config is not None else \"\"\n",
    "    worker_machineType = master_config.get(\"machineTypeUri\", \"\") if worker_config is not None else \"\"\n",
    "    worker_machineType = worker_machineType[worker_machineType.rindex('/')+1:] if worker_machineType != \"\" else \"\"\n",
    "    \n",
    "    return {\n",
    "        \"clusterName\": cluster_metadata[\"clusterName\"], \n",
    "        \"clusterUuid\": cluster_metadata[\"clusterUuid\"], \n",
    "        \"operationType\": cluster_metadata[\"operationType\"], \n",
    "        \"status\": cluster_metadata[\"status\"],\n",
    "        \"master_instances\": str(master_num_instances),\n",
    "        \"master_machine_type\": master_mathineType,\n",
    "        \"worker_instances\": str(worker_num_instances),\n",
    "        \"worker_machine_type\": worker_machineType,\n",
    "    }"
   ]
  },
  {
   "cell_type": "code",
   "execution_count": 14,
   "id": "032215df-a9f3-4b23-ab5f-a2c97f599833",
   "metadata": {
    "scrolled": true,
    "tags": []
   },
   "outputs": [],
   "source": [
    "def run_extract(filter_string):\n",
    "    parent = f\"projects/{PROJECT_ID}/regions/{GCP_REGION}/operations\"\n",
    "    operations_count = 0\n",
    "    page_token = \"\"\n",
    "    while True:\n",
    "        time.sleep(0.5)\n",
    "        operations = []\n",
    "        request = ListOperationsRequest(\n",
    "            name = parent,\n",
    "            page_token = page_token,\n",
    "            filter = filter_string\n",
    "        )\n",
    "        execution_request = workflow_template_client.list_operations(request=request)\n",
    "        for ops in execution_request.operations:\n",
    "            if ops.metadata.type_url == \"type.googleapis.com/google.cloud.dataproc.v1.ClusterOperationMetadata\":\n",
    "                operations_count += 1\n",
    "                cluster_metadata = format_ops_data(ops)\n",
    "                operations.append(cluster_metadata)\n",
    "\n",
    "        df = pd.DataFrame(operations)\n",
    "        df[\"status\"] = df[\"status\"].apply(json.dumps)\n",
    "        save_to_bq(\n",
    "            table_id = f\"{BQ_DATASET_NAME}.{BQ_TABLE_NAME_RAW}\",\n",
    "            df = df\n",
    "        )\n",
    "\n",
    "        page_token = execution_request.next_page_token\n",
    "        if page_token == '':\n",
    "            return operations_count"
   ]
  },
  {
   "cell_type": "code",
   "execution_count": 15,
   "id": "c259c696-a1a1-465b-924e-d42f13c6f8c2",
   "metadata": {
    "scrolled": true,
    "tags": []
   },
   "outputs": [],
   "source": [
    "operations_count = 0\n",
    "filter_string = \"operationType=CREATE\"\n",
    "operations_count += run_extract(filter_string)\n",
    "\n",
    "filter_string = \"operationType=DELETE\"\n",
    "operations_count += run_extract(filter_string)"
   ]
  },
  {
   "cell_type": "code",
   "execution_count": 16,
   "id": "ea2ad878-7198-4bbf-80a5-fbc55787d88e",
   "metadata": {
    "tags": []
   },
   "outputs": [
    {
     "data": {
      "text/plain": [
       "'86 operations found'"
      ]
     },
     "execution_count": 16,
     "metadata": {},
     "output_type": "execute_result"
    }
   ],
   "source": [
    "f\"{operations_count} operations found\""
   ]
  },
  {
   "cell_type": "markdown",
   "id": "9861b3b0-d79d-42cc-980f-87395592a417",
   "metadata": {
    "tags": []
   },
   "source": [
    "### 5. Clean operations"
   ]
  },
  {
   "cell_type": "code",
   "execution_count": 17,
   "id": "7af22abb-4ded-4e69-8214-b2fd44f2d4a7",
   "metadata": {
    "scrolled": true,
    "tags": []
   },
   "outputs": [
    {
     "data": {
      "text/plain": [
       "<google.cloud.bigquery.table._EmptyRowIterator at 0x7f5e54783670>"
      ]
     },
     "execution_count": 17,
     "metadata": {},
     "output_type": "execute_result"
    }
   ],
   "source": [
    "SQL_QUERY = f\"\"\"\n",
    "    INSERT INTO {BQ_DATASET_NAME}.{BQ_TABLE_NAME_CLEAN}\n",
    "      WITH operations_clean AS (\n",
    "        SELECT \n",
    "            clusterUuid\n",
    "            , clusterName\n",
    "            , operationType\n",
    "            , JSON_VALUE(PARSE_JSON(status), '$.stateStartTime') stateStartTime\n",
    "            , master_instances\n",
    "            , master_machine_type\n",
    "            , worker_instances\n",
    "            , worker_machine_type\n",
    "          FROM {BQ_DATASET_NAME}.{BQ_TABLE_NAME_RAW}\n",
    "          WHERE \n",
    "              --JSON_VALUE(PARSE_JSON(status), '$.innerState') = 'DONE'\n",
    "              JSON_VALUE(PARSE_JSON(status), '$.state') = 'DONE'\n",
    "      )\n",
    "      , created AS (\n",
    "        SELECT\n",
    "            *\n",
    "            , RANK() OVER ( PARTITION BY clusterUuid ORDER BY stateStartTime ASC) cluster_group\n",
    "        FROM operations_clean \n",
    "        WHERE \n",
    "            operationType = 'CREATE'\n",
    "            AND DATE(stateStartTime) >= DATE('{START_DATE}')\n",
    "        GROUP BY ALL\n",
    "        ORDER BY stateStartTime\n",
    "      )\n",
    "      , deleted AS (\n",
    "        SELECT\n",
    "        *\n",
    "        , RANK() OVER ( PARTITION BY clusterUuid ORDER BY stateStartTime DESC ) cluster_group\n",
    "        FROM operations_clean \n",
    "        WHERE operationType = 'DELETE' AND clusterUuid IN (SELECT clusterUuid FROM created GROUP BY 1)\n",
    "        GROUP BY ALL\n",
    "        ORDER BY stateStartTime\n",
    "      )\n",
    "      SELECT \n",
    "          * EXCEPT (cluster_group)\n",
    "      FROM created\n",
    "      WHERE cluster_group = 1\n",
    "      UNION ALL\n",
    "      SELECT \n",
    "          * EXCEPT (cluster_group)\n",
    "      FROM deleted\n",
    "      WHERE cluster_group = 1\n",
    "\"\"\"\n",
    "run_bq_query(SQL_QUERY)"
   ]
  },
  {
   "cell_type": "markdown",
   "id": "47dad238-ae05-4154-aa96-4a803ae6a1fe",
   "metadata": {
    "tags": []
   },
   "source": [
    "### 6. Model cluster usage"
   ]
  },
  {
   "cell_type": "code",
   "execution_count": 18,
   "id": "db029f7d-6576-484a-98c2-d03633d9c931",
   "metadata": {},
   "outputs": [
    {
     "data": {
      "text/plain": [
       "<google.cloud.bigquery.table._EmptyRowIterator at 0x7f5e54783190>"
      ]
     },
     "execution_count": 18,
     "metadata": {},
     "output_type": "execute_result"
    }
   ],
   "source": [
    "SQL_QUERY = f\"\"\"\n",
    "    INSERT INTO {BQ_DATASET_NAME}.{BQ_TABLE_NAME_MODEL}\n",
    "        WITH cluster_create AS (\n",
    "          SELECT \n",
    "              clusterUuid, clusterName, TIMESTAMP(stateStartTime) stateStartTime,\n",
    "              master_instances, master_machine_type, worker_instances, worker_machine_type\n",
    "          FROM {BQ_DATASET_NAME}.{BQ_TABLE_NAME_CLEAN}\n",
    "          WHERE operationType = 'CREATE'\n",
    "        )\n",
    "        , cluster_delete AS (\n",
    "          SELECT clusterUuid, TIMESTAMP(stateStartTime) stateStartTime\n",
    "          FROM {BQ_DATASET_NAME}.{BQ_TABLE_NAME_CLEAN}\n",
    "          WHERE operationType = 'DELETE'\n",
    "        )\n",
    "        SELECT \n",
    "            cluster_create.clusterUuid\n",
    "          , cluster_create.clusterName\n",
    "          , cluster_create.stateStartTime AS created\n",
    "          , cluster_delete.stateStartTime AS deleted\n",
    "          , extract(DATE from cluster_create.stateStartTime) date\n",
    "          , extract(HOUR from cluster_create.stateStartTime) hour\n",
    "          , master_instances\n",
    "          , master_machine_type\n",
    "          , worker_instances\n",
    "          , worker_machine_type\n",
    "          , TIMESTAMP_DIFF(cluster_delete.stateStartTime, cluster_create.stateStartTime, SECOND) AS seconds_elapsed\n",
    "         FROM cluster_create\n",
    "        LEFT JOIN cluster_delete\n",
    "        USING (clusterUuid)\n",
    "        GROUP BY 1,2,3,4,5,6,7,8,9,10\n",
    "\"\"\"\n",
    "run_bq_query(SQL_QUERY)"
   ]
  },
  {
   "cell_type": "markdown",
   "id": "36bfec24-3e78-4e97-93fe-9c26041bc21c",
   "metadata": {
    "tags": []
   },
   "source": [
    "### 7. Visualize"
   ]
  },
  {
   "cell_type": "markdown",
   "id": "08479090-ad5e-413d-8cf3-3b4bb6c478b6",
   "metadata": {},
   "source": [
    "#### 7.1 Total seconds by time"
   ]
  },
  {
   "cell_type": "code",
   "execution_count": 19,
   "id": "a36d990f-6e2e-4c38-b9d0-e188273433fa",
   "metadata": {
    "tags": []
   },
   "outputs": [],
   "source": [
    "SQL_QUERY = f\"\"\"\n",
    "    SELECT \n",
    "          date\n",
    "        , hour\n",
    "        , concat(date, ' ', hour, ':00') date_hour\n",
    "        , sum(seconds_elapsed) / 60 minutes\n",
    "    FROM {BQ_DATASET_NAME}.{BQ_TABLE_NAME_MODEL}\n",
    "    GROUP BY 1,2,3\n",
    "    ORDER BY 3\n",
    "\"\"\"\n",
    "df = bq_client.query(SQL_QUERY).to_dataframe()"
   ]
  },
  {
   "cell_type": "code",
   "execution_count": 20,
   "id": "866e3cb2-c568-4aea-80a1-5c0641398fe8",
   "metadata": {
    "tags": []
   },
   "outputs": [
    {
     "data": {
      "text/plain": [
       "<Axes: xlabel='date_hour'>"
      ]
     },
     "execution_count": 20,
     "metadata": {},
     "output_type": "execute_result"
    },
    {
     "data": {
      "image/png": "[encoded data removed]",
      "text/plain": [
       "<Figure size 640x480 with 1 Axes>"
      ]
     },
     "metadata": {},
     "output_type": "display_data"
    }
   ],
   "source": [
    "df.plot(kind=\"bar\", x=\"date_hour\", y=\"minutes\")"
   ]
  },
  {
   "cell_type": "markdown",
   "id": "205039f3-6b1b-4557-b1c6-c6866d050534",
   "metadata": {},
   "source": [
    "#### 7.2 Cluster details"
   ]
  },
  {
   "cell_type": "code",
   "execution_count": 21,
   "id": "406d1a6e-03ca-42a0-9875-c0a2f3f0a7b2",
   "metadata": {
    "tags": []
   },
   "outputs": [],
   "source": [
    "SQL_QUERY = f\"\"\"\n",
    "SELECT \n",
    "      date\n",
    "    , hour\n",
    "    , clusterUuid\n",
    "    , clusterName\n",
    "    , seconds_elapsed / 60 minutes\n",
    "FROM {BQ_DATASET_NAME}.{BQ_TABLE_NAME_MODEL}\n",
    "ORDER BY 1,2,3\n",
    "\"\"\"\n",
    "df = bq_client.query(SQL_QUERY).to_dataframe()"
   ]
  },
  {
   "cell_type": "code",
   "execution_count": 22,
   "id": "5bd0d723-4e9b-4a11-9a53-33093108517c",
   "metadata": {
    "tags": []
   },
   "outputs": [
    {
     "data": {
      "text/html": [
       "<div>\n",
       "<style scoped>\n",
       "    .dataframe tbody tr th:only-of-type {\n",
       "        vertical-align: middle;\n",
       "    }\n",
       "\n",
       "    .dataframe tbody tr th {\n",
       "        vertical-align: top;\n",
       "    }\n",
       "\n",
       "    .dataframe thead th {\n",
       "        text-align: right;\n",
       "    }\n",
       "</style>\n",
       "<table border=\"1\" class=\"dataframe\">\n",
       "  <thead>\n",
       "    <tr style=\"text-align: right;\">\n",
       "      <th></th>\n",
       "      <th>date</th>\n",
       "      <th>hour</th>\n",
       "      <th>clusterUuid</th>\n",
       "      <th>clusterName</th>\n",
       "      <th>minutes</th>\n",
       "    </tr>\n",
       "  </thead>\n",
       "  <tbody>\n",
       "    <tr>\n",
       "      <th>0</th>\n",
       "      <td>2024-03-21</td>\n",
       "      <td>0</td>\n",
       "      <td>7c7f0f34-76e5-422b-9b10-27c319dea982</td>\n",
       "      <td>srvls-session-7ae4c720-8e54-477e-b33b-a9cecc62...</td>\n",
       "      <td>2.383333</td>\n",
       "    </tr>\n",
       "    <tr>\n",
       "      <th>1</th>\n",
       "      <td>2024-03-21</td>\n",
       "      <td>0</td>\n",
       "      <td>f177a280-8efc-42fe-885d-edc8ff76f64c</td>\n",
       "      <td>srvls-session-0b40ab36-883c-4ec1-93f5-43efb647...</td>\n",
       "      <td>30.166667</td>\n",
       "    </tr>\n",
       "    <tr>\n",
       "      <th>2</th>\n",
       "      <td>2024-03-21</td>\n",
       "      <td>21</td>\n",
       "      <td>199a2ebc-e287-40a8-a7e6-701042cd6663</td>\n",
       "      <td>srvls-session-8f4207ee-921a-4593-86b5-ead3d406...</td>\n",
       "      <td>30.366667</td>\n",
       "    </tr>\n",
       "    <tr>\n",
       "      <th>3</th>\n",
       "      <td>2024-04-22</td>\n",
       "      <td>15</td>\n",
       "      <td>08273726-b69e-488a-a813-c0e287b9bf0b</td>\n",
       "      <td>srvls-session-d6c9fdd2-b4d5-49ad-9853-fd283347...</td>\n",
       "      <td>10.366667</td>\n",
       "    </tr>\n",
       "    <tr>\n",
       "      <th>4</th>\n",
       "      <td>2024-05-29</td>\n",
       "      <td>20</td>\n",
       "      <td>fc36f463-6de5-4f4d-972a-7e7a0cccdaa0</td>\n",
       "      <td>srvls-session-d9f26ba6-6140-47f6-9f6d-c3c17da5...</td>\n",
       "      <td>30.066667</td>\n",
       "    </tr>\n",
       "  </tbody>\n",
       "</table>\n",
       "</div>"
      ],
      "text/plain": [
       "         date  hour                           clusterUuid  \\\n",
       "0  2024-03-21     0  7c7f0f34-76e5-422b-9b10-27c319dea982   \n",
       "1  2024-03-21     0  f177a280-8efc-42fe-885d-edc8ff76f64c   \n",
       "2  2024-03-21    21  199a2ebc-e287-40a8-a7e6-701042cd6663   \n",
       "3  2024-04-22    15  08273726-b69e-488a-a813-c0e287b9bf0b   \n",
       "4  2024-05-29    20  fc36f463-6de5-4f4d-972a-7e7a0cccdaa0   \n",
       "\n",
       "                                         clusterName    minutes  \n",
       "0  srvls-session-7ae4c720-8e54-477e-b33b-a9cecc62...   2.383333  \n",
       "1  srvls-session-0b40ab36-883c-4ec1-93f5-43efb647...  30.166667  \n",
       "2  srvls-session-8f4207ee-921a-4593-86b5-ead3d406...  30.366667  \n",
       "3  srvls-session-d6c9fdd2-b4d5-49ad-9853-fd283347...  10.366667  \n",
       "4  srvls-session-d9f26ba6-6140-47f6-9f6d-c3c17da5...  30.066667  "
      ]
     },
     "execution_count": 22,
     "metadata": {},
     "output_type": "execute_result"
    }
   ],
   "source": [
    "df.head()"
   ]
  },
  {
   "cell_type": "markdown",
   "id": "9da1381a-a5f7-442d-9afd-6795c8b9188f",
   "metadata": {
    "tags": []
   },
   "source": [
    "### 8. Billing information"
   ]
  },
  {
   "cell_type": "markdown",
   "id": "da3ffbf6-a4ed-420a-83bf-1e5240bc0ee1",
   "metadata": {},
   "source": [
    "#### 8.1 Total price"
   ]
  },
  {
   "cell_type": "code",
   "execution_count": 23,
   "id": "c0a93faa-3751-448b-9ba4-2b5aa9d96ff0",
   "metadata": {
    "tags": []
   },
   "outputs": [],
   "source": [
    "SQL_QUERY = f\"\"\"\n",
    "    SELECT \n",
    "      CONCAT(\n",
    "          EXTRACT (DATE FROM usage_start_time),\n",
    "          ' ',\n",
    "          EXTRACT (HOUR FROM usage_start_time),\n",
    "          ' :00'\n",
    "       ) date_hour,\n",
    "      sku.id sku_id, \n",
    "      price.effective_price / price.pricing_unit_quantity effective_price,\n",
    "      SUM(usage.amount_in_pricing_units) amount_in_pricing_units, \n",
    "      SUM(usage.amount_in_pricing_units * price.effective_price / price.pricing_unit_quantity) total_price\n",
    "    FROM {BQ_BILLING_DATASET_NAME}.{BQ_BILLING_TABLE_NAME}\n",
    "    WHERE \n",
    "      service.description = 'Dataproc' \n",
    "      AND sku.description LIKE 'Data Compute Unit (milli) Hours%'\n",
    "      AND DATE(usage_start_time) >= DATE('{START_DATE}')\n",
    "    GROUP BY 1,2,3\n",
    "    ORDER BY 1\n",
    "\"\"\"\n",
    "df_billing = bq_client.query(SQL_QUERY).to_dataframe()"
   ]
  },
  {
   "cell_type": "code",
   "execution_count": 24,
   "id": "5a774c45-d631-4d4c-8a95-612001861af7",
   "metadata": {
    "tags": []
   },
   "outputs": [
    {
     "data": {
      "text/plain": [
       "<Axes: xlabel='date_hour'>"
      ]
     },
     "execution_count": 24,
     "metadata": {},
     "output_type": "execute_result"
    },
    {
     "data": {
      "image/png": "[encoded data removed]",
      "text/plain": [
       "<Figure size 640x480 with 1 Axes>"
      ]
     },
     "metadata": {},
     "output_type": "display_data"
    }
   ],
   "source": [
    "df_billing.plot(kind=\"bar\", x=\"date_hour\", y=\"total_price\")"
   ]
  },
  {
   "cell_type": "markdown",
   "id": "68b62d46-88e0-45bd-ae90-3228553077ee",
   "metadata": {},
   "source": [
    "#### 8.2 Billing detail"
   ]
  },
  {
   "cell_type": "code",
   "execution_count": 25,
   "id": "efac01dc-89f7-40de-b2fe-22884fef78cd",
   "metadata": {
    "tags": []
   },
   "outputs": [],
   "source": [
    "SQL_QUERY = f\"\"\"\n",
    "    CREATE OR REPLACE MATERIALIZED VIEW {BQ_DATASET_NAME}.{BQ_BILLING_TABLE_VIEW} AS\n",
    "    SELECT \n",
    "      EXTRACT (DATE FROM usage_start_time) date,\n",
    "      EXTRACT (HOUR FROM usage_start_time) hour,\n",
    "      sku.id sku_id, \n",
    "      sku.description sku_description, \n",
    "      price.effective_price / price.pricing_unit_quantity effective_price,\n",
    "      SUM(usage.amount_in_pricing_units) amount_in_pricing_units, \n",
    "      SUM(usage.amount_in_pricing_units * price.effective_price / price.pricing_unit_quantity) total_price\n",
    "    FROM {BQ_BILLING_DATASET_NAME}.{BQ_BILLING_TABLE_NAME}\n",
    "    WHERE \n",
    "      service.description = 'Dataproc' \n",
    "      AND sku.description LIKE 'Data Compute Unit (milli) Hours%'\n",
    "      AND DATE(usage_start_time) >= DATE('{START_DATE}')\n",
    "    GROUP BY 1,2,3,4,5;\n",
    "    \n",
    "    SELECT * FROM {BQ_DATASET_NAME}.{BQ_BILLING_TABLE_VIEW} ORDER BY 1,2;\n",
    "\"\"\"\n",
    "df_billing = bq_client.query(SQL_QUERY).to_dataframe()"
   ]
  },
  {
   "cell_type": "code",
   "execution_count": 26,
   "id": "953cbf74-ff08-4c0e-abd3-0f44503b15f2",
   "metadata": {
    "scrolled": true,
    "tags": []
   },
   "outputs": [
    {
     "data": {
      "text/html": [
       "<div>\n",
       "<style scoped>\n",
       "    .dataframe tbody tr th:only-of-type {\n",
       "        vertical-align: middle;\n",
       "    }\n",
       "\n",
       "    .dataframe tbody tr th {\n",
       "        vertical-align: top;\n",
       "    }\n",
       "\n",
       "    .dataframe thead th {\n",
       "        text-align: right;\n",
       "    }\n",
       "</style>\n",
       "<table border=\"1\" class=\"dataframe\">\n",
       "  <thead>\n",
       "    <tr style=\"text-align: right;\">\n",
       "      <th></th>\n",
       "      <th>date</th>\n",
       "      <th>hour</th>\n",
       "      <th>sku_id</th>\n",
       "      <th>sku_description</th>\n",
       "      <th>effective_price</th>\n",
       "      <th>amount_in_pricing_units</th>\n",
       "      <th>total_price</th>\n",
       "    </tr>\n",
       "  </thead>\n",
       "  <tbody>\n",
       "    <tr>\n",
       "      <th>0</th>\n",
       "      <td>2024-03-21</td>\n",
       "      <td>0</td>\n",
       "      <td>A486-6040-07FE</td>\n",
       "      <td>Data Compute Unit (milli) Hours - Dataproc Ser...</td>\n",
       "      <td>0.000089000</td>\n",
       "      <td>11721.573333</td>\n",
       "      <td>1.043220</td>\n",
       "    </tr>\n",
       "    <tr>\n",
       "      <th>1</th>\n",
       "      <td>2024-03-21</td>\n",
       "      <td>21</td>\n",
       "      <td>A486-6040-07FE</td>\n",
       "      <td>Data Compute Unit (milli) Hours - Dataproc Ser...</td>\n",
       "      <td>0.000089000</td>\n",
       "      <td>22043.298611</td>\n",
       "      <td>1.961854</td>\n",
       "    </tr>\n",
       "    <tr>\n",
       "      <th>2</th>\n",
       "      <td>2024-03-23</td>\n",
       "      <td>0</td>\n",
       "      <td>A065-18C2-08FA</td>\n",
       "      <td>Data Compute Unit (milli) Hours - Dataproc Ser...</td>\n",
       "      <td>0.000100232</td>\n",
       "      <td>10963.938611</td>\n",
       "      <td>1.098937</td>\n",
       "    </tr>\n",
       "    <tr>\n",
       "      <th>3</th>\n",
       "      <td>2024-03-23</td>\n",
       "      <td>1</td>\n",
       "      <td>A065-18C2-08FA</td>\n",
       "      <td>Data Compute Unit (milli) Hours - Dataproc Ser...</td>\n",
       "      <td>0.000100232</td>\n",
       "      <td>11849.999167</td>\n",
       "      <td>1.187749</td>\n",
       "    </tr>\n",
       "    <tr>\n",
       "      <th>4</th>\n",
       "      <td>2024-03-23</td>\n",
       "      <td>2</td>\n",
       "      <td>A065-18C2-08FA</td>\n",
       "      <td>Data Compute Unit (milli) Hours - Dataproc Ser...</td>\n",
       "      <td>0.000100232</td>\n",
       "      <td>11850.000000</td>\n",
       "      <td>1.187749</td>\n",
       "    </tr>\n",
       "    <tr>\n",
       "      <th>5</th>\n",
       "      <td>2024-03-23</td>\n",
       "      <td>3</td>\n",
       "      <td>A065-18C2-08FA</td>\n",
       "      <td>Data Compute Unit (milli) Hours - Dataproc Ser...</td>\n",
       "      <td>0.000100232</td>\n",
       "      <td>11850.000000</td>\n",
       "      <td>1.187749</td>\n",
       "    </tr>\n",
       "    <tr>\n",
       "      <th>6</th>\n",
       "      <td>2024-03-23</td>\n",
       "      <td>4</td>\n",
       "      <td>A065-18C2-08FA</td>\n",
       "      <td>Data Compute Unit (milli) Hours - Dataproc Ser...</td>\n",
       "      <td>0.000100232</td>\n",
       "      <td>11850.000000</td>\n",
       "      <td>1.187749</td>\n",
       "    </tr>\n",
       "    <tr>\n",
       "      <th>7</th>\n",
       "      <td>2024-03-23</td>\n",
       "      <td>5</td>\n",
       "      <td>A065-18C2-08FA</td>\n",
       "      <td>Data Compute Unit (milli) Hours - Dataproc Ser...</td>\n",
       "      <td>0.000100232</td>\n",
       "      <td>11850.000000</td>\n",
       "      <td>1.187749</td>\n",
       "    </tr>\n",
       "    <tr>\n",
       "      <th>8</th>\n",
       "      <td>2024-03-23</td>\n",
       "      <td>6</td>\n",
       "      <td>A065-18C2-08FA</td>\n",
       "      <td>Data Compute Unit (milli) Hours - Dataproc Ser...</td>\n",
       "      <td>0.000100232</td>\n",
       "      <td>11850.000000</td>\n",
       "      <td>1.187749</td>\n",
       "    </tr>\n",
       "    <tr>\n",
       "      <th>9</th>\n",
       "      <td>2024-03-23</td>\n",
       "      <td>7</td>\n",
       "      <td>A065-18C2-08FA</td>\n",
       "      <td>Data Compute Unit (milli) Hours - Dataproc Ser...</td>\n",
       "      <td>0.000100232</td>\n",
       "      <td>11850.000000</td>\n",
       "      <td>1.187749</td>\n",
       "    </tr>\n",
       "    <tr>\n",
       "      <th>10</th>\n",
       "      <td>2024-03-23</td>\n",
       "      <td>8</td>\n",
       "      <td>A065-18C2-08FA</td>\n",
       "      <td>Data Compute Unit (milli) Hours - Dataproc Ser...</td>\n",
       "      <td>0.000100232</td>\n",
       "      <td>11850.000000</td>\n",
       "      <td>1.187749</td>\n",
       "    </tr>\n",
       "    <tr>\n",
       "      <th>11</th>\n",
       "      <td>2024-03-23</td>\n",
       "      <td>9</td>\n",
       "      <td>A065-18C2-08FA</td>\n",
       "      <td>Data Compute Unit (milli) Hours - Dataproc Ser...</td>\n",
       "      <td>0.000100232</td>\n",
       "      <td>11850.000000</td>\n",
       "      <td>1.187749</td>\n",
       "    </tr>\n",
       "    <tr>\n",
       "      <th>12</th>\n",
       "      <td>2024-03-23</td>\n",
       "      <td>10</td>\n",
       "      <td>A065-18C2-08FA</td>\n",
       "      <td>Data Compute Unit (milli) Hours - Dataproc Ser...</td>\n",
       "      <td>0.000100232</td>\n",
       "      <td>11850.000000</td>\n",
       "      <td>1.187749</td>\n",
       "    </tr>\n",
       "    <tr>\n",
       "      <th>13</th>\n",
       "      <td>2024-03-23</td>\n",
       "      <td>11</td>\n",
       "      <td>A065-18C2-08FA</td>\n",
       "      <td>Data Compute Unit (milli) Hours - Dataproc Ser...</td>\n",
       "      <td>0.000100232</td>\n",
       "      <td>11850.000000</td>\n",
       "      <td>1.187749</td>\n",
       "    </tr>\n",
       "    <tr>\n",
       "      <th>14</th>\n",
       "      <td>2024-03-23</td>\n",
       "      <td>12</td>\n",
       "      <td>A065-18C2-08FA</td>\n",
       "      <td>Data Compute Unit (milli) Hours - Dataproc Ser...</td>\n",
       "      <td>0.000100232</td>\n",
       "      <td>11850.000000</td>\n",
       "      <td>1.187749</td>\n",
       "    </tr>\n",
       "    <tr>\n",
       "      <th>15</th>\n",
       "      <td>2024-03-23</td>\n",
       "      <td>13</td>\n",
       "      <td>A065-18C2-08FA</td>\n",
       "      <td>Data Compute Unit (milli) Hours - Dataproc Ser...</td>\n",
       "      <td>0.000100232</td>\n",
       "      <td>11850.000000</td>\n",
       "      <td>1.187749</td>\n",
       "    </tr>\n",
       "    <tr>\n",
       "      <th>16</th>\n",
       "      <td>2024-03-23</td>\n",
       "      <td>14</td>\n",
       "      <td>A065-18C2-08FA</td>\n",
       "      <td>Data Compute Unit (milli) Hours - Dataproc Ser...</td>\n",
       "      <td>0.000100232</td>\n",
       "      <td>11850.000000</td>\n",
       "      <td>1.187749</td>\n",
       "    </tr>\n",
       "    <tr>\n",
       "      <th>17</th>\n",
       "      <td>2024-03-23</td>\n",
       "      <td>15</td>\n",
       "      <td>A065-18C2-08FA</td>\n",
       "      <td>Data Compute Unit (milli) Hours - Dataproc Ser...</td>\n",
       "      <td>0.000100232</td>\n",
       "      <td>11850.000000</td>\n",
       "      <td>1.187749</td>\n",
       "    </tr>\n",
       "    <tr>\n",
       "      <th>18</th>\n",
       "      <td>2024-03-23</td>\n",
       "      <td>16</td>\n",
       "      <td>A065-18C2-08FA</td>\n",
       "      <td>Data Compute Unit (milli) Hours - Dataproc Ser...</td>\n",
       "      <td>0.000100232</td>\n",
       "      <td>11850.000000</td>\n",
       "      <td>1.187749</td>\n",
       "    </tr>\n",
       "    <tr>\n",
       "      <th>19</th>\n",
       "      <td>2024-03-23</td>\n",
       "      <td>17</td>\n",
       "      <td>A065-18C2-08FA</td>\n",
       "      <td>Data Compute Unit (milli) Hours - Dataproc Ser...</td>\n",
       "      <td>0.000100232</td>\n",
       "      <td>11850.000000</td>\n",
       "      <td>1.187749</td>\n",
       "    </tr>\n",
       "    <tr>\n",
       "      <th>20</th>\n",
       "      <td>2024-03-23</td>\n",
       "      <td>18</td>\n",
       "      <td>A065-18C2-08FA</td>\n",
       "      <td>Data Compute Unit (milli) Hours - Dataproc Ser...</td>\n",
       "      <td>0.000100232</td>\n",
       "      <td>11850.000000</td>\n",
       "      <td>1.187749</td>\n",
       "    </tr>\n",
       "    <tr>\n",
       "      <th>21</th>\n",
       "      <td>2024-03-23</td>\n",
       "      <td>19</td>\n",
       "      <td>A065-18C2-08FA</td>\n",
       "      <td>Data Compute Unit (milli) Hours - Dataproc Ser...</td>\n",
       "      <td>0.000100232</td>\n",
       "      <td>11850.000000</td>\n",
       "      <td>1.187749</td>\n",
       "    </tr>\n",
       "    <tr>\n",
       "      <th>22</th>\n",
       "      <td>2024-03-23</td>\n",
       "      <td>20</td>\n",
       "      <td>A065-18C2-08FA</td>\n",
       "      <td>Data Compute Unit (milli) Hours - Dataproc Ser...</td>\n",
       "      <td>0.000100232</td>\n",
       "      <td>11850.000000</td>\n",
       "      <td>1.187749</td>\n",
       "    </tr>\n",
       "    <tr>\n",
       "      <th>23</th>\n",
       "      <td>2024-03-23</td>\n",
       "      <td>21</td>\n",
       "      <td>A065-18C2-08FA</td>\n",
       "      <td>Data Compute Unit (milli) Hours - Dataproc Ser...</td>\n",
       "      <td>0.000100232</td>\n",
       "      <td>11850.000000</td>\n",
       "      <td>1.187749</td>\n",
       "    </tr>\n",
       "    <tr>\n",
       "      <th>24</th>\n",
       "      <td>2024-03-23</td>\n",
       "      <td>22</td>\n",
       "      <td>A065-18C2-08FA</td>\n",
       "      <td>Data Compute Unit (milli) Hours - Dataproc Ser...</td>\n",
       "      <td>0.000100232</td>\n",
       "      <td>11850.000000</td>\n",
       "      <td>1.187749</td>\n",
       "    </tr>\n",
       "    <tr>\n",
       "      <th>25</th>\n",
       "      <td>2024-03-23</td>\n",
       "      <td>23</td>\n",
       "      <td>A065-18C2-08FA</td>\n",
       "      <td>Data Compute Unit (milli) Hours - Dataproc Ser...</td>\n",
       "      <td>0.000100232</td>\n",
       "      <td>11850.000000</td>\n",
       "      <td>1.187749</td>\n",
       "    </tr>\n",
       "    <tr>\n",
       "      <th>26</th>\n",
       "      <td>2024-03-24</td>\n",
       "      <td>0</td>\n",
       "      <td>A065-18C2-08FA</td>\n",
       "      <td>Data Compute Unit (milli) Hours - Dataproc Ser...</td>\n",
       "      <td>0.000100232</td>\n",
       "      <td>2229.268889</td>\n",
       "      <td>0.223444</td>\n",
       "    </tr>\n",
       "    <tr>\n",
       "      <th>27</th>\n",
       "      <td>2024-04-22</td>\n",
       "      <td>15</td>\n",
       "      <td>A486-6040-07FE</td>\n",
       "      <td>Data Compute Unit (milli) Hours - Dataproc Ser...</td>\n",
       "      <td>0.000089000</td>\n",
       "      <td>3556.234722</td>\n",
       "      <td>0.316505</td>\n",
       "    </tr>\n",
       "    <tr>\n",
       "      <th>28</th>\n",
       "      <td>2024-04-22</td>\n",
       "      <td>15</td>\n",
       "      <td>A065-18C2-08FA</td>\n",
       "      <td>Data Compute Unit (milli) Hours - Dataproc Ser...</td>\n",
       "      <td>0.000100232</td>\n",
       "      <td>2910.310278</td>\n",
       "      <td>0.291706</td>\n",
       "    </tr>\n",
       "    <tr>\n",
       "      <th>29</th>\n",
       "      <td>2024-04-22</td>\n",
       "      <td>16</td>\n",
       "      <td>A486-6040-07FE</td>\n",
       "      <td>Data Compute Unit (milli) Hours - Dataproc Ser...</td>\n",
       "      <td>0.000089000</td>\n",
       "      <td>1058.423889</td>\n",
       "      <td>0.094200</td>\n",
       "    </tr>\n",
       "    <tr>\n",
       "      <th>30</th>\n",
       "      <td>2024-04-22</td>\n",
       "      <td>16</td>\n",
       "      <td>A065-18C2-08FA</td>\n",
       "      <td>Data Compute Unit (milli) Hours - Dataproc Ser...</td>\n",
       "      <td>0.000100232</td>\n",
       "      <td>2979.960278</td>\n",
       "      <td>0.298687</td>\n",
       "    </tr>\n",
       "    <tr>\n",
       "      <th>31</th>\n",
       "      <td>2024-05-29</td>\n",
       "      <td>20</td>\n",
       "      <td>A486-6040-07FE</td>\n",
       "      <td>Data Compute Unit (milli) Hours - Dataproc Ser...</td>\n",
       "      <td>0.000089000</td>\n",
       "      <td>21327.533889</td>\n",
       "      <td>1.898151</td>\n",
       "    </tr>\n",
       "    <tr>\n",
       "      <th>32</th>\n",
       "      <td>2024-06-04</td>\n",
       "      <td>13</td>\n",
       "      <td>A486-6040-07FE</td>\n",
       "      <td>Data Compute Unit (milli) Hours - Dataproc Ser...</td>\n",
       "      <td>0.000089000</td>\n",
       "      <td>1936.050833</td>\n",
       "      <td>0.172309</td>\n",
       "    </tr>\n",
       "    <tr>\n",
       "      <th>33</th>\n",
       "      <td>2024-06-04</td>\n",
       "      <td>14</td>\n",
       "      <td>A486-6040-07FE</td>\n",
       "      <td>Data Compute Unit (milli) Hours - Dataproc Ser...</td>\n",
       "      <td>0.000089000</td>\n",
       "      <td>6321.680556</td>\n",
       "      <td>0.562630</td>\n",
       "    </tr>\n",
       "    <tr>\n",
       "      <th>34</th>\n",
       "      <td>2024-06-18</td>\n",
       "      <td>12</td>\n",
       "      <td>A486-6040-07FE</td>\n",
       "      <td>Data Compute Unit (milli) Hours - Dataproc Ser...</td>\n",
       "      <td>0.000089000</td>\n",
       "      <td>13069.699444</td>\n",
       "      <td>1.163203</td>\n",
       "    </tr>\n",
       "    <tr>\n",
       "      <th>35</th>\n",
       "      <td>2024-11-27</td>\n",
       "      <td>14</td>\n",
       "      <td>A486-6040-07FE</td>\n",
       "      <td>Data Compute Unit (milli) Hours - Dataproc Ser...</td>\n",
       "      <td>0.000089000</td>\n",
       "      <td>21816.631944</td>\n",
       "      <td>1.941680</td>\n",
       "    </tr>\n",
       "    <tr>\n",
       "      <th>36</th>\n",
       "      <td>2025-02-12</td>\n",
       "      <td>17</td>\n",
       "      <td>EC7A-EF05-537E</td>\n",
       "      <td>Data Compute Unit (milli) Hours - Dataproc Ser...</td>\n",
       "      <td>0.000060000</td>\n",
       "      <td>607.366944</td>\n",
       "      <td>0.036442</td>\n",
       "    </tr>\n",
       "    <tr>\n",
       "      <th>37</th>\n",
       "      <td>2025-02-12</td>\n",
       "      <td>18</td>\n",
       "      <td>EC7A-EF05-537E</td>\n",
       "      <td>Data Compute Unit (milli) Hours - Dataproc Ser...</td>\n",
       "      <td>0.000060000</td>\n",
       "      <td>594.935278</td>\n",
       "      <td>0.035696</td>\n",
       "    </tr>\n",
       "  </tbody>\n",
       "</table>\n",
       "</div>"
      ],
      "text/plain": [
       "          date  hour          sku_id  \\\n",
       "0   2024-03-21     0  A486-6040-07FE   \n",
       "1   2024-03-21    21  A486-6040-07FE   \n",
       "2   2024-03-23     0  A065-18C2-08FA   \n",
       "3   2024-03-23     1  A065-18C2-08FA   \n",
       "4   2024-03-23     2  A065-18C2-08FA   \n",
       "5   2024-03-23     3  A065-18C2-08FA   \n",
       "6   2024-03-23     4  A065-18C2-08FA   \n",
       "7   2024-03-23     5  A065-18C2-08FA   \n",
       "8   2024-03-23     6  A065-18C2-08FA   \n",
       "9   2024-03-23     7  A065-18C2-08FA   \n",
       "10  2024-03-23     8  A065-18C2-08FA   \n",
       "11  2024-03-23     9  A065-18C2-08FA   \n",
       "12  2024-03-23    10  A065-18C2-08FA   \n",
       "13  2024-03-23    11  A065-18C2-08FA   \n",
       "14  2024-03-23    12  A065-18C2-08FA   \n",
       "15  2024-03-23    13  A065-18C2-08FA   \n",
       "16  2024-03-23    14  A065-18C2-08FA   \n",
       "17  2024-03-23    15  A065-18C2-08FA   \n",
       "18  2024-03-23    16  A065-18C2-08FA   \n",
       "19  2024-03-23    17  A065-18C2-08FA   \n",
       "20  2024-03-23    18  A065-18C2-08FA   \n",
       "21  2024-03-23    19  A065-18C2-08FA   \n",
       "22  2024-03-23    20  A065-18C2-08FA   \n",
       "23  2024-03-23    21  A065-18C2-08FA   \n",
       "24  2024-03-23    22  A065-18C2-08FA   \n",
       "25  2024-03-23    23  A065-18C2-08FA   \n",
       "26  2024-03-24     0  A065-18C2-08FA   \n",
       "27  2024-04-22    15  A486-6040-07FE   \n",
       "28  2024-04-22    15  A065-18C2-08FA   \n",
       "29  2024-04-22    16  A486-6040-07FE   \n",
       "30  2024-04-22    16  A065-18C2-08FA   \n",
       "31  2024-05-29    20  A486-6040-07FE   \n",
       "32  2024-06-04    13  A486-6040-07FE   \n",
       "33  2024-06-04    14  A486-6040-07FE   \n",
       "34  2024-06-18    12  A486-6040-07FE   \n",
       "35  2024-11-27    14  A486-6040-07FE   \n",
       "36  2025-02-12    17  EC7A-EF05-537E   \n",
       "37  2025-02-12    18  EC7A-EF05-537E   \n",
       "\n",
       "                                      sku_description effective_price  \\\n",
       "0   Data Compute Unit (milli) Hours - Dataproc Ser...     0.000089000   \n",
       "1   Data Compute Unit (milli) Hours - Dataproc Ser...     0.000089000   \n",
       "2   Data Compute Unit (milli) Hours - Dataproc Ser...     0.000100232   \n",
       "3   Data Compute Unit (milli) Hours - Dataproc Ser...     0.000100232   \n",
       "4   Data Compute Unit (milli) Hours - Dataproc Ser...     0.000100232   \n",
       "5   Data Compute Unit (milli) Hours - Dataproc Ser...     0.000100232   \n",
       "6   Data Compute Unit (milli) Hours - Dataproc Ser...     0.000100232   \n",
       "7   Data Compute Unit (milli) Hours - Dataproc Ser...     0.000100232   \n",
       "8   Data Compute Unit (milli) Hours - Dataproc Ser...     0.000100232   \n",
       "9   Data Compute Unit (milli) Hours - Dataproc Ser...     0.000100232   \n",
       "10  Data Compute Unit (milli) Hours - Dataproc Ser...     0.000100232   \n",
       "11  Data Compute Unit (milli) Hours - Dataproc Ser...     0.000100232   \n",
       "12  Data Compute Unit (milli) Hours - Dataproc Ser...     0.000100232   \n",
       "13  Data Compute Unit (milli) Hours - Dataproc Ser...     0.000100232   \n",
       "14  Data Compute Unit (milli) Hours - Dataproc Ser...     0.000100232   \n",
       "15  Data Compute Unit (milli) Hours - Dataproc Ser...     0.000100232   \n",
       "16  Data Compute Unit (milli) Hours - Dataproc Ser...     0.000100232   \n",
       "17  Data Compute Unit (milli) Hours - Dataproc Ser...     0.000100232   \n",
       "18  Data Compute Unit (milli) Hours - Dataproc Ser...     0.000100232   \n",
       "19  Data Compute Unit (milli) Hours - Dataproc Ser...     0.000100232   \n",
       "20  Data Compute Unit (milli) Hours - Dataproc Ser...     0.000100232   \n",
       "21  Data Compute Unit (milli) Hours - Dataproc Ser...     0.000100232   \n",
       "22  Data Compute Unit (milli) Hours - Dataproc Ser...     0.000100232   \n",
       "23  Data Compute Unit (milli) Hours - Dataproc Ser...     0.000100232   \n",
       "24  Data Compute Unit (milli) Hours - Dataproc Ser...     0.000100232   \n",
       "25  Data Compute Unit (milli) Hours - Dataproc Ser...     0.000100232   \n",
       "26  Data Compute Unit (milli) Hours - Dataproc Ser...     0.000100232   \n",
       "27  Data Compute Unit (milli) Hours - Dataproc Ser...     0.000089000   \n",
       "28  Data Compute Unit (milli) Hours - Dataproc Ser...     0.000100232   \n",
       "29  Data Compute Unit (milli) Hours - Dataproc Ser...     0.000089000   \n",
       "30  Data Compute Unit (milli) Hours - Dataproc Ser...     0.000100232   \n",
       "31  Data Compute Unit (milli) Hours - Dataproc Ser...     0.000089000   \n",
       "32  Data Compute Unit (milli) Hours - Dataproc Ser...     0.000089000   \n",
       "33  Data Compute Unit (milli) Hours - Dataproc Ser...     0.000089000   \n",
       "34  Data Compute Unit (milli) Hours - Dataproc Ser...     0.000089000   \n",
       "35  Data Compute Unit (milli) Hours - Dataproc Ser...     0.000089000   \n",
       "36  Data Compute Unit (milli) Hours - Dataproc Ser...     0.000060000   \n",
       "37  Data Compute Unit (milli) Hours - Dataproc Ser...     0.000060000   \n",
       "\n",
       "    amount_in_pricing_units  total_price  \n",
       "0              11721.573333     1.043220  \n",
       "1              22043.298611     1.961854  \n",
       "2              10963.938611     1.098937  \n",
       "3              11849.999167     1.187749  \n",
       "4              11850.000000     1.187749  \n",
       "5              11850.000000     1.187749  \n",
       "6              11850.000000     1.187749  \n",
       "7              11850.000000     1.187749  \n",
       "8              11850.000000     1.187749  \n",
       "9              11850.000000     1.187749  \n",
       "10             11850.000000     1.187749  \n",
       "11             11850.000000     1.187749  \n",
       "12             11850.000000     1.187749  \n",
       "13             11850.000000     1.187749  \n",
       "14             11850.000000     1.187749  \n",
       "15             11850.000000     1.187749  \n",
       "16             11850.000000     1.187749  \n",
       "17             11850.000000     1.187749  \n",
       "18             11850.000000     1.187749  \n",
       "19             11850.000000     1.187749  \n",
       "20             11850.000000     1.187749  \n",
       "21             11850.000000     1.187749  \n",
       "22             11850.000000     1.187749  \n",
       "23             11850.000000     1.187749  \n",
       "24             11850.000000     1.187749  \n",
       "25             11850.000000     1.187749  \n",
       "26              2229.268889     0.223444  \n",
       "27              3556.234722     0.316505  \n",
       "28              2910.310278     0.291706  \n",
       "29              1058.423889     0.094200  \n",
       "30              2979.960278     0.298687  \n",
       "31             21327.533889     1.898151  \n",
       "32              1936.050833     0.172309  \n",
       "33              6321.680556     0.562630  \n",
       "34             13069.699444     1.163203  \n",
       "35             21816.631944     1.941680  \n",
       "36               607.366944     0.036442  \n",
       "37               594.935278     0.035696  "
      ]
     },
     "execution_count": 26,
     "metadata": {},
     "output_type": "execute_result"
    }
   ],
   "source": [
    "df_billing.head(200)"
   ]
  },
  {
   "cell_type": "markdown",
   "id": "45429e85-6532-4d97-b8d7-eb205ff98787",
   "metadata": {},
   "source": [
    "### 9. Visualize in Looker Studio"
   ]
  },
  {
   "cell_type": "markdown",
   "id": "a3bc00d4-65d6-4f9f-a1b0-159ef7882972",
   "metadata": {},
   "source": [
    "With the modeled tables generated in your dataset **dataproc_analysis** [operations_model, billing_,model], you can now generate the following dashboard in Looker Studio to provide business users visibility about Dataproc cluster usage and billing."
   ]
  },
  {
   "cell_type": "markdown",
   "id": "90b7f661-0a47-4bec-a5fe-69217176cdbc",
   "metadata": {},
   "source": [
    "![dataproc-jobs.png](dataproc-jobs.png)"
   ]
  },
  {
   "cell_type": "code",
   "execution_count": null,
   "id": "4e518fb2-36da-43d7-90f4-beb78042903a",
   "metadata": {},
   "outputs": [],
   "source": []
  }
 ],
 "metadata": {
  "environment": {
   "kernel": "conda-base-py",
   "name": "workbench-notebooks.m121",
   "type": "gcloud",
   "uri": "us-docker.pkg.dev/deeplearning-platform-release/gcr.io/workbench-notebooks:m121"
  },
  "kernelspec": {
   "display_name": "Python 3 (ipykernel) (Local)",
   "language": "python",
   "name": "conda-base-py"
  },
  "language_info": {
   "codemirror_mode": {
    "name": "ipython",
    "version": 3
   },
   "file_extension": ".py",
   "mimetype": "text/x-python",
   "name": "python",
   "nbconvert_exporter": "python",
   "pygments_lexer": "ipython3",
   "version": "3.10.14"
  }
 },
 "nbformat": 4,
 "nbformat_minor": 5
}
