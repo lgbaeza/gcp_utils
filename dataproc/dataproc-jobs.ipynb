{
 "cells": [
  {
   "cell_type": "markdown",
   "id": "1b553a81-d772-4f73-8ef9-d50f6e4ff4b3",
   "metadata": {
    "tags": []
   },
   "source": [
    "# Dataproc Workflow jobs analysis"
   ]
  },
  {
   "cell_type": "markdown",
   "id": "178071c6-aae2-44de-8217-137582515b37",
   "metadata": {},
   "source": [
    "* This code will not run incrementally, but historically\n",
    "* Tables will be recreated at each run"
   ]
  },
  {
   "cell_type": "markdown",
   "id": "9f4ba4c1-4c4d-4052-b16a-9c11d3776515",
   "metadata": {},
   "source": [
    "### 1. Install upgrade dependencies"
   ]
  },
  {
   "cell_type": "code",
   "execution_count": 17,
   "id": "363aa697-4b9f-49a1-83e3-fc6022b867e3",
   "metadata": {
    "scrolled": true,
    "tags": []
   },
   "outputs": [
    {
     "name": "stdout",
     "output_type": "stream",
     "text": [
      "Note: you may need to restart the kernel to use updated packages.\n"
     ]
    }
   ],
   "source": [
    "pip install google-cloud-dataproc"
   ]
  },
  {
   "cell_type": "code",
   "execution_count": 211,
   "id": "c80e7282-68a3-44a8-bada-43bb900d8bf9",
   "metadata": {
    "scrolled": true,
    "tags": []
   },
   "outputs": [
    {
     "name": "stdout",
     "output_type": "stream",
     "text": [
      "Note: you may need to restart the kernel to use updated packages.\n"
     ]
    }
   ],
   "source": [
    "pip install --upgrade google-api-core"
   ]
  },
  {
   "cell_type": "markdown",
   "id": "68c5bab9-d137-4e1d-ae51-24a4adf9f8b9",
   "metadata": {},
   "source": [
    "##### 1.1 RESTART KERNEL"
   ]
  },
  {
   "cell_type": "markdown",
   "id": "36f7f7d5-8bf3-4aae-8106-03ae67f60f22",
   "metadata": {},
   "source": [
    "### 2. Variables and imports"
   ]
  },
  {
   "cell_type": "code",
   "execution_count": 3,
   "id": "2fccea23-bb1d-494a-beff-fa93f9c928de",
   "metadata": {
    "tags": []
   },
   "outputs": [],
   "source": [
    "from google.cloud import dataproc_v1 as dataproc\n",
    "from google.api_core import client_options\n",
    "from google.longrunning.operations_pb2 import ListOperationsRequest\n",
    "from typing import Sequence, Tuple, Union\n",
    "from google.protobuf.json_format import MessageToJson \n",
    "import json\n",
    "import pandas as pd\n",
    "from google.cloud import bigquery"
   ]
  },
  {
   "cell_type": "code",
   "execution_count": 18,
   "id": "7fb0e9a8-4db8-4ab0-a6f8-9edf11c44dcc",
   "metadata": {
    "tags": []
   },
   "outputs": [],
   "source": [
    "PROJECT_ID = \"YOUR_OWN_PROJECT_ID\"\n",
    "GCP_REGION = \"us-central1\"\n",
    "BQ_DATASET_NAME = \"dataproc_analysis\"\n",
    "BQ_TABLE_NAME_RAW = \"operations_raw\"\n",
    "BQ_TABLE_NAME_CLEAN = \"operations_clean\"\n",
    "BQ_TABLE_NAME_MODEL = \"operations_model\""
   ]
  },
  {
   "cell_type": "code",
   "execution_count": 5,
   "id": "04544a15-5381-4ac9-a49e-4fbbb2290718",
   "metadata": {
    "tags": []
   },
   "outputs": [],
   "source": [
    "client_options = client_options.ClientOptions(\n",
    "    api_endpoint=f\"{GCP_REGION}-dataproc.googleapis.com:443\"\n",
    ")\n",
    "workflow_template_client = dataproc.WorkflowTemplateServiceClient(client_options=client_options)\n",
    "bq_client = bigquery.Client()"
   ]
  },
  {
   "cell_type": "code",
   "execution_count": 6,
   "id": "2244088f-3581-4f08-b23b-f35c7718750b",
   "metadata": {
    "tags": []
   },
   "outputs": [],
   "source": [
    "def run_bq_query(sql_query):\n",
    "    query_job = bq_client.query(sql_query)\n",
    "    return query_job.result()"
   ]
  },
  {
   "cell_type": "code",
   "execution_count": 7,
   "id": "af04229f-b1f1-428d-a1ba-b86dacfc3cbe",
   "metadata": {
    "tags": []
   },
   "outputs": [],
   "source": [
    "def save_to_bq(table_id, df, schema = None):\n",
    "    job_config = bigquery.LoadJobConfig(\n",
    "        write_disposition=\"WRITE_APPEND\",\n",
    "        schema = schema\n",
    "    )\n",
    "\n",
    "    job = bq_client.load_table_from_dataframe(df, table_id, job_config=job_config) \n",
    "    return job.result()"
   ]
  },
  {
   "cell_type": "code",
   "execution_count": 29,
   "id": "ce2c19be-5ef0-4d04-be49-76cfea9d6c24",
   "metadata": {
    "tags": []
   },
   "outputs": [
    {
     "data": {
      "text/plain": [
       "<google.cloud.bigquery.table._EmptyRowIterator at 0x7f0c6d101900>"
      ]
     },
     "execution_count": 29,
     "metadata": {},
     "output_type": "execute_result"
    }
   ],
   "source": [
    "SQL_QUERY = f\"\"\"\n",
    "    CREATE OR REPLACE TABLE {BQ_DATASET_NAME}.{BQ_TABLE_NAME_RAW}\n",
    "    (\n",
    "        clusterUuid STRING,\n",
    "        clusterName STRING,\n",
    "        operationType STRING,\n",
    "        status STRING,\n",
    "        statusHistory STRING\n",
    "    );\n",
    "    CREATE OR REPLACE TABLE {BQ_DATASET_NAME}.{BQ_TABLE_NAME_CLEAN}\n",
    "    (\n",
    "        clusterUuid STRING, \n",
    "        clusterName STRING,\n",
    "        operationType STRING,\n",
    "        stateStartTime STRING\n",
    "    );\n",
    "    CREATE OR REPLACE TABLE {BQ_DATASET_NAME}.{BQ_TABLE_NAME_MODEL}\n",
    "    (\n",
    "        clusterUuid STRING, \n",
    "        clusterName STRING,\n",
    "        created TIMESTAMP,\n",
    "        deleted TIMESTAMP,\n",
    "        seconds_elapsed INTEGER,\n",
    "        date DATE,\n",
    "        hour INTEGER\n",
    "    );\n",
    "\"\"\"\n",
    "run_bq_query(SQL_QUERY)"
   ]
  },
  {
   "cell_type": "markdown",
   "id": "b071e7a2-d779-4274-aed6-2176455ec681",
   "metadata": {
    "jp-MarkdownHeadingCollapsed": true,
    "tags": []
   },
   "source": [
    "### 3. List workflow templates"
   ]
  },
  {
   "cell_type": "code",
   "execution_count": 10,
   "id": "8dd84b94-de9d-49bf-aafa-20c4a9cd7507",
   "metadata": {
    "tags": []
   },
   "outputs": [],
   "source": [
    "parent = f\"projects/{PROJECT_ID}/regions/{GCP_REGION}\"\n",
    "request = dataproc.ListWorkflowTemplatesRequest(parent=parent)"
   ]
  },
  {
   "cell_type": "code",
   "execution_count": 11,
   "id": "2f0067ef-416f-4dad-96f7-83463783a1ae",
   "metadata": {},
   "outputs": [],
   "source": [
    "page_result = workflow_template_client.list_workflow_templates(request=request)"
   ]
  },
  {
   "cell_type": "code",
   "execution_count": 13,
   "id": "86548456-13b3-41e0-81b3-9fc7a55c148a",
   "metadata": {},
   "outputs": [
    {
     "data": {
      "text/plain": [
       "[{'name': 'projects/lgbaeza-202310/regions/us-central1/workflowTemplates/template-27b5c',\n",
       "  'id': 'template-27b5c'}]"
      ]
     },
     "execution_count": 13,
     "metadata": {},
     "output_type": "execute_result"
    }
   ],
   "source": [
    "workflow_templates = []\n",
    "\n",
    "for response in page_result:\n",
    "    workflow_templates.append({\n",
    "        \"name\": response.name,\n",
    "        \"id\": response.id\n",
    "    })\n",
    "    \n",
    "workflow_templates"
   ]
  },
  {
   "cell_type": "markdown",
   "id": "aae2a7ee-043d-493c-8542-b6952f8abebf",
   "metadata": {
    "tags": []
   },
   "source": [
    "### 4. Get cluster operations and save them into BigQuery"
   ]
  },
  {
   "cell_type": "code",
   "execution_count": 21,
   "id": "c259c696-a1a1-465b-924e-d42f13c6f8c2",
   "metadata": {
    "tags": []
   },
   "outputs": [],
   "source": [
    "parent = f\"projects/{PROJECT_ID}/regions/{GCP_REGION}/operations\"\n",
    "request = ListOperationsRequest(\n",
    "    name=parent\n",
    ")"
   ]
  },
  {
   "cell_type": "code",
   "execution_count": 22,
   "id": "032215df-a9f3-4b23-ab5f-a2c97f599833",
   "metadata": {
    "tags": []
   },
   "outputs": [],
   "source": [
    "operations = []\n",
    "\n",
    "nextPageToken = \"start\"\n",
    "while nextPageToken != \"\":\n",
    "    execution_request = workflow_template_client.list_operations(request=request)\n",
    "    for ops in execution_request.operations:\n",
    "        if ops.metadata.type_url == \"type.googleapis.com/google.cloud.dataproc.v1.ClusterOperationMetadata\":\n",
    "            cluster_metadata = json.loads(MessageToJson(ops.metadata))\n",
    "            operations.append(cluster_metadata)\n",
    "\n",
    "    df = pd.DataFrame(operations)\n",
    "    df = df.explode(\"statusHistory\")\n",
    "    df[\"statusHistory\"] = df[\"statusHistory\"].apply(json.dumps)\n",
    "    df[\"status\"] = df[\"status\"].apply(json.dumps)\n",
    "    save_to_bq(\n",
    "        table_id = f\"{BQ_DATASET_NAME}.{BQ_TABLE_NAME_RAW}\",\n",
    "        df = df[[\"clusterName\", \"clusterUuid\", \"operationType\", \"statusHistory\", \"status\"]]\n",
    "    )\n",
    "    \n",
    "    try:\n",
    "        nextPageToken = execution_request.nextPageToken\n",
    "    except:\n",
    "        nextPageToken = \"\""
   ]
  },
  {
   "cell_type": "markdown",
   "id": "9861b3b0-d79d-42cc-980f-87395592a417",
   "metadata": {},
   "source": [
    "#### 5. Clean operations"
   ]
  },
  {
   "cell_type": "code",
   "execution_count": 25,
   "id": "7af22abb-4ded-4e69-8214-b2fd44f2d4a7",
   "metadata": {
    "scrolled": true,
    "tags": []
   },
   "outputs": [
    {
     "data": {
      "text/plain": [
       "<google.cloud.bigquery.table._EmptyRowIterator at 0x7f0c6d2829e0>"
      ]
     },
     "execution_count": 25,
     "metadata": {},
     "output_type": "execute_result"
    }
   ],
   "source": [
    "SQL_QUERY = f\"\"\"\n",
    "    INSERT INTO {BQ_DATASET_NAME}.{BQ_TABLE_NAME_CLEAN}\n",
    "      WITH operations_clean AS (\n",
    "        SELECT \n",
    "            clusterUuid\n",
    "            , clusterName\n",
    "            , operationType\n",
    "            , JSON_VALUE(PARSE_JSON(status), '$.state') state\n",
    "            , JSON_VALUE(PARSE_JSON(status), '$.stateStartTime') stateStartTime\n",
    "          FROM {BQ_DATASET_NAME}.{BQ_TABLE_NAME_RAW}\n",
    "      )\n",
    "      , created AS (\n",
    "        SELECT\n",
    "        *\n",
    "        , RANK() OVER ( PARTITION BY clusterUuid ORDER BY stateStartTime ASC) cluster_group\n",
    "        FROM operations_clean \n",
    "        WHERE operationType = 'CREATE'\n",
    "        GROUP BY 1,2,3,4,5\n",
    "        ORDER BY stateStartTime\n",
    "      )\n",
    "      , deleted AS (\n",
    "        SELECT\n",
    "        *\n",
    "        , RANK() OVER ( PARTITION BY clusterUuid ORDER BY stateStartTime DESC ) cluster_group\n",
    "        FROM operations_clean \n",
    "        WHERE operationType = 'DELETE'\n",
    "        GROUP BY 1,2,3,4,5\n",
    "        ORDER BY stateStartTime\n",
    "      )\n",
    "      SELECT clusterUuid, clusterName, operationType, stateStartTime from created\n",
    "      WHERE cluster_group = 1\n",
    "      UNION ALL\n",
    "      SELECT clusterUuid, clusterName, operationType, stateStartTime from deleted\n",
    "      WHERE cluster_group = 1\n",
    "\"\"\"\n",
    "run_bq_query(SQL_QUERY)"
   ]
  },
  {
   "cell_type": "markdown",
   "id": "47dad238-ae05-4154-aa96-4a803ae6a1fe",
   "metadata": {},
   "source": [
    "### 6. Model cluster usage"
   ]
  },
  {
   "cell_type": "code",
   "execution_count": 30,
   "id": "db029f7d-6576-484a-98c2-d03633d9c931",
   "metadata": {},
   "outputs": [
    {
     "data": {
      "text/plain": [
       "<google.cloud.bigquery.table._EmptyRowIterator at 0x7f0c6c8a6140>"
      ]
     },
     "execution_count": 30,
     "metadata": {},
     "output_type": "execute_result"
    }
   ],
   "source": [
    "SQL_QUERY = f\"\"\"\n",
    "    INSERT INTO {BQ_DATASET_NAME}.{BQ_TABLE_NAME_MODEL}\n",
    "        WITH cluster_create AS (\n",
    "          SELECT clusterUuid, clusterName, TIMESTAMP(stateStartTime) stateStartTime\n",
    "          FROM {BQ_DATASET_NAME}.{BQ_TABLE_NAME_CLEAN}\n",
    "          WHERE operationType = 'CREATE'\n",
    "        )\n",
    "        , cluster_delete AS (\n",
    "          SELECT clusterUuid, TIMESTAMP(stateStartTime) stateStartTime\n",
    "          FROM {BQ_DATASET_NAME}.{BQ_TABLE_NAME_CLEAN}\n",
    "          WHERE operationType = 'DELETE'\n",
    "        )\n",
    "        SELECT \n",
    "            cluster_create.clusterUuid\n",
    "          , cluster_create.clusterName\n",
    "          , cluster_create.stateStartTime AS created\n",
    "          , cluster_delete.stateStartTime AS deleted\n",
    "          , TIMESTAMP_DIFF(cluster_delete.stateStartTime, cluster_create.stateStartTime, SECOND) AS seconds_elapsed\n",
    "          , extract(DATE from cluster_create.stateStartTime) date\n",
    "          , extract(HOUR from cluster_create.stateStartTime) hour\n",
    "         FROM cluster_create\n",
    "        LEFT JOIN cluster_delete\n",
    "        USING (clusterUuid)\n",
    "        GROUP BY 1,2,3,4\n",
    "\"\"\"\n",
    "run_bq_query(SQL_QUERY)"
   ]
  },
  {
   "cell_type": "markdown",
   "id": "36bfec24-3e78-4e97-93fe-9c26041bc21c",
   "metadata": {},
   "source": [
    "#### 7. Visualize"
   ]
  },
  {
   "cell_type": "markdown",
   "id": "08479090-ad5e-413d-8cf3-3b4bb6c478b6",
   "metadata": {},
   "source": [
    "#### 7.1 Total seconds by time"
   ]
  },
  {
   "cell_type": "code",
   "execution_count": 47,
   "id": "a36d990f-6e2e-4c38-b9d0-e188273433fa",
   "metadata": {
    "tags": []
   },
   "outputs": [],
   "source": [
    "SQL_QUERY = f\"\"\"\n",
    "    SELECT \n",
    "          date\n",
    "        , hour\n",
    "        , concat(date, ' ', hour, ':00') date_hour\n",
    "        , sum(seconds_elapsed) seconds\n",
    "    FROM {BQ_DATASET_NAME}.{BQ_TABLE_NAME_MODEL}\n",
    "    GROUP BY 1,2,3\n",
    "    ORDER BY 3\n",
    "\"\"\"\n",
    "df = bq_client.query(SQL_QUERY).to_dataframe()"
   ]
  },
  {
   "cell_type": "code",
   "execution_count": 48,
   "id": "866e3cb2-c568-4aea-80a1-5c0641398fe8",
   "metadata": {
    "tags": []
   },
   "outputs": [
    {
     "data": {
      "text/plain": [
       "<Axes: xlabel='date_hour'>"
      ]
     },
     "execution_count": 48,
     "metadata": {},
     "output_type": "execute_result"
    },
    {
     "data": {
      "image/png": "[encoded data removed]",
      "text/plain": [
       "<Figure size 640x480 with 1 Axes>"
      ]
     },
     "metadata": {},
     "output_type": "display_data"
    }
   ],
   "source": [
    "df.plot(kind=\"bar\", x=\"date_hour\", y=\"seconds\")"
   ]
  },
  {
   "cell_type": "markdown",
   "id": "205039f3-6b1b-4557-b1c6-c6866d050534",
   "metadata": {},
   "source": [
    "#### 7.2 Cluster details"
   ]
  },
  {
   "cell_type": "code",
   "execution_count": 58,
   "id": "406d1a6e-03ca-42a0-9875-c0a2f3f0a7b2",
   "metadata": {
    "tags": []
   },
   "outputs": [],
   "source": [
    "SQL_QUERY = f\"\"\"\n",
    "SELECT \n",
    "      date\n",
    "    , hour\n",
    "    , clusterUuid\n",
    "    , clusterName\n",
    "    , seconds_elapsed\n",
    "FROM {BQ_DATASET_NAME}.{BQ_TABLE_NAME_MODEL}\n",
    "ORDER BY 1,2,3\n",
    "\"\"\"\n",
    "df = bq_client.query(SQL_QUERY).to_dataframe()"
   ]
  },
  {
   "cell_type": "code",
   "execution_count": 59,
   "id": "5bd0d723-4e9b-4a11-9a53-33093108517c",
   "metadata": {
    "tags": []
   },
   "outputs": [
    {
     "data": {
      "text/html": [
       "<div>\n",
       "<style scoped>\n",
       "    .dataframe tbody tr th:only-of-type {\n",
       "        vertical-align: middle;\n",
       "    }\n",
       "\n",
       "    .dataframe tbody tr th {\n",
       "        vertical-align: top;\n",
       "    }\n",
       "\n",
       "    .dataframe thead th {\n",
       "        text-align: right;\n",
       "    }\n",
       "</style>\n",
       "<table border=\"1\" class=\"dataframe\">\n",
       "  <thead>\n",
       "    <tr style=\"text-align: right;\">\n",
       "      <th></th>\n",
       "      <th>date</th>\n",
       "      <th>hour</th>\n",
       "      <th>clusterUuid</th>\n",
       "      <th>clusterName</th>\n",
       "      <th>seconds_elapsed</th>\n",
       "    </tr>\n",
       "  </thead>\n",
       "  <tbody>\n",
       "    <tr>\n",
       "      <th>0</th>\n",
       "      <td>2025-02-12</td>\n",
       "      <td>17</td>\n",
       "      <td>68aac871-dac9-4534-9dba-b3b94adb4925</td>\n",
       "      <td>cluster-f6ef-ktklml7lgv4wa</td>\n",
       "      <td>167</td>\n",
       "    </tr>\n",
       "    <tr>\n",
       "      <th>1</th>\n",
       "      <td>2025-02-12</td>\n",
       "      <td>17</td>\n",
       "      <td>89d41015-4d24-4df6-b107-93dc80789a43</td>\n",
       "      <td>cluster-f6ef-ze7qchjeqbgpi</td>\n",
       "      <td>93</td>\n",
       "    </tr>\n",
       "    <tr>\n",
       "      <th>2</th>\n",
       "      <td>2025-02-12</td>\n",
       "      <td>18</td>\n",
       "      <td>05804ce3-9436-4ad5-b06e-03ec40136fc7</td>\n",
       "      <td>cluster-f6ef-ftpjdixscxjea</td>\n",
       "      <td>166</td>\n",
       "    </tr>\n",
       "    <tr>\n",
       "      <th>3</th>\n",
       "      <td>2025-02-12</td>\n",
       "      <td>18</td>\n",
       "      <td>e78bddb9-ca43-4c1b-96cf-b9427c35f1b8</td>\n",
       "      <td>cluster-f6ef-r4alnh7zqdhtm</td>\n",
       "      <td>130</td>\n",
       "    </tr>\n",
       "  </tbody>\n",
       "</table>\n",
       "</div>"
      ],
      "text/plain": [
       "         date  hour                           clusterUuid  \\\n",
       "0  2025-02-12    17  68aac871-dac9-4534-9dba-b3b94adb4925   \n",
       "1  2025-02-12    17  89d41015-4d24-4df6-b107-93dc80789a43   \n",
       "2  2025-02-12    18  05804ce3-9436-4ad5-b06e-03ec40136fc7   \n",
       "3  2025-02-12    18  e78bddb9-ca43-4c1b-96cf-b9427c35f1b8   \n",
       "\n",
       "                  clusterName  seconds_elapsed  \n",
       "0  cluster-f6ef-ktklml7lgv4wa              167  \n",
       "1  cluster-f6ef-ze7qchjeqbgpi               93  \n",
       "2  cluster-f6ef-ftpjdixscxjea              166  \n",
       "3  cluster-f6ef-r4alnh7zqdhtm              130  "
      ]
     },
     "execution_count": 59,
     "metadata": {},
     "output_type": "execute_result"
    }
   ],
   "source": [
    "df.head()"
   ]
  },
  {
   "cell_type": "code",
   "execution_count": null,
   "id": "79fefb2a-736a-4140-a6c5-45972551ea8c",
   "metadata": {},
   "outputs": [],
   "source": []
  }
 ],
 "metadata": {
  "environment": {
   "kernel": "conda-base-py",
   "name": "workbench-notebooks.m121",
   "type": "gcloud",
   "uri": "us-docker.pkg.dev/deeplearning-platform-release/gcr.io/workbench-notebooks:m121"
  },
  "kernelspec": {
   "display_name": "Python 3 (ipykernel) (Local)",
   "language": "python",
   "name": "conda-base-py"
  },
  "language_info": {
   "codemirror_mode": {
    "name": "ipython",
    "version": 3
   },
   "file_extension": ".py",
   "mimetype": "text/x-python",
   "name": "python",
   "nbconvert_exporter": "python",
   "pygments_lexer": "ipython3",
   "version": "3.10.14"
  }
 },
 "nbformat": 4,
 "nbformat_minor": 5
}
