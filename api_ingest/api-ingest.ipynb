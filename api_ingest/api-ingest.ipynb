{
 "cells": [
  {
   "cell_type": "code",
   "execution_count": 32,
   "id": "e552b8d2-e83e-4461-9dc9-d5d500c252ca",
   "metadata": {
    "tags": []
   },
   "outputs": [],
   "source": [
    "import requests\n",
    "import pandas as pd\n",
    "from google.cloud import bigquery"
   ]
  },
  {
   "cell_type": "markdown",
   "id": "55e04b63-8d27-427e-9534-a42677de7e77",
   "metadata": {},
   "source": [
    "### Request API"
   ]
  },
  {
   "cell_type": "code",
   "execution_count": 8,
   "id": "c565d209-9005-4c03-80fc-3f6fb69a5389",
   "metadata": {
    "tags": []
   },
   "outputs": [],
   "source": [
    "API_ENDPOINT = \"https://meowfacts.herokuapp.com/?count=3\"\n",
    "response = requests.get(API_ENDPOINT)"
   ]
  },
  {
   "cell_type": "markdown",
   "id": "425dd094-2d10-4e91-8f45-b5d297cd4c24",
   "metadata": {
    "tags": []
   },
   "source": [
    "### Procesamiento del dato del API"
   ]
  },
  {
   "cell_type": "code",
   "execution_count": 30,
   "id": "68fbd459-b9f4-4ec1-b5b9-5be0b312a152",
   "metadata": {
    "tags": []
   },
   "outputs": [],
   "source": [
    "data = pd.DataFrame(response.json()[\"data\"])\n",
    "data.columns = [\"fact\"]\n",
    "data[\"id\"] = data.index+1"
   ]
  },
  {
   "cell_type": "code",
   "execution_count": 28,
   "id": "63286333-cb38-48fd-8663-5afc2ac86d05",
   "metadata": {
    "tags": []
   },
   "outputs": [
    {
     "data": {
      "text/html": [
       "<div>\n",
       "<style scoped>\n",
       "    .dataframe tbody tr th:only-of-type {\n",
       "        vertical-align: middle;\n",
       "    }\n",
       "\n",
       "    .dataframe tbody tr th {\n",
       "        vertical-align: top;\n",
       "    }\n",
       "\n",
       "    .dataframe thead th {\n",
       "        text-align: right;\n",
       "    }\n",
       "</style>\n",
       "<table border=\"1\" class=\"dataframe\">\n",
       "  <thead>\n",
       "    <tr style=\"text-align: right;\">\n",
       "      <th></th>\n",
       "      <th>fact</th>\n",
       "      <th>id</th>\n",
       "    </tr>\n",
       "  </thead>\n",
       "  <tbody>\n",
       "    <tr>\n",
       "      <th>0</th>\n",
       "      <td>In ancient Egypt, killing a cat was a crime pu...</td>\n",
       "      <td>1</td>\n",
       "    </tr>\n",
       "    <tr>\n",
       "      <th>1</th>\n",
       "      <td>Like birds, cats have a homing ability that us...</td>\n",
       "      <td>2</td>\n",
       "    </tr>\n",
       "    <tr>\n",
       "      <th>2</th>\n",
       "      <td>Statistics indicate that animal lovers in rece...</td>\n",
       "      <td>3</td>\n",
       "    </tr>\n",
       "  </tbody>\n",
       "</table>\n",
       "</div>"
      ],
      "text/plain": [
       "                                                fact  id\n",
       "0  In ancient Egypt, killing a cat was a crime pu...   1\n",
       "1  Like birds, cats have a homing ability that us...   2\n",
       "2  Statistics indicate that animal lovers in rece...   3"
      ]
     },
     "execution_count": 28,
     "metadata": {},
     "output_type": "execute_result"
    }
   ],
   "source": [
    "data"
   ]
  },
  {
   "cell_type": "markdown",
   "id": "1ca56f18-4b19-421d-a1d1-a68d9d3c354f",
   "metadata": {},
   "source": [
    "### Save as CSV"
   ]
  },
  {
   "cell_type": "code",
   "execution_count": null,
   "id": "1004ee6d-4e0d-4c6c-b8cd-32a4b12cec7e",
   "metadata": {},
   "outputs": [],
   "source": []
  },
  {
   "cell_type": "markdown",
   "id": "a3347148-7b7b-4a70-a79c-ea4a92ef9665",
   "metadata": {},
   "source": [
    "### Save in BQ"
   ]
  },
  {
   "cell_type": "code",
   "execution_count": 34,
   "id": "5db8f494-de9b-4eea-9952-0082b8142ceb",
   "metadata": {
    "tags": []
   },
   "outputs": [],
   "source": [
    "client = bigquery.Client()\n",
    "dataset_id = \"dataset\"\n",
    "table_id = \"api_ingest\""
   ]
  },
  {
   "cell_type": "code",
   "execution_count": 36,
   "id": "23e37cd8-2545-41c4-b88a-2930d40da96c",
   "metadata": {
    "tags": []
   },
   "outputs": [],
   "source": [
    "job_config = bigquery.LoadJobConfig(\n",
    "    # Optional: Define schema if the table doesn't exist\n",
    "    # schema=[\n",
    "    #     bigquery.SchemaField('column1', 'INTEGER'),\n",
    "    #     bigquery.SchemaField('column2', 'STRING')\n",
    "    # ],\n",
    "    write_disposition='WRITE_TRUNCATE'  # Replace existing table, or use 'WRITE_APPEND'\n",
    ")\n",
    "\n",
    "job = client.load_table_from_dataframe(\n",
    "    data, \n",
    "    f'{dataset_id}.{table_id}', \n",
    "    job_config=job_config\n",
    ") "
   ]
  },
  {
   "cell_type": "code",
   "execution_count": 37,
   "id": "94cfc77f-9f09-45b9-bfbb-0ed59cdcdd58",
   "metadata": {
    "tags": []
   },
   "outputs": [
    {
     "data": {
      "text/plain": [
       "LoadJob<project=lgbaeza-202310, location=US, id=a5dc877f-1e24-4d5f-a57e-4eb936083cec>"
      ]
     },
     "execution_count": 37,
     "metadata": {},
     "output_type": "execute_result"
    }
   ],
   "source": [
    "job.result()"
   ]
  },
  {
   "cell_type": "code",
   "execution_count": null,
   "id": "b2a7ef2b-bfbd-49ed-a6e0-ebefeed9f119",
   "metadata": {},
   "outputs": [],
   "source": []
  }
 ],
 "metadata": {
  "environment": {
   "kernel": "conda-base-py",
   "name": "workbench-notebooks.m121",
   "type": "gcloud",
   "uri": "us-docker.pkg.dev/deeplearning-platform-release/gcr.io/workbench-notebooks:m121"
  },
  "kernelspec": {
   "display_name": "Python 3 (ipykernel) (Local)",
   "language": "python",
   "name": "conda-base-py"
  },
  "language_info": {
   "codemirror_mode": {
    "name": "ipython",
    "version": 3
   },
   "file_extension": ".py",
   "mimetype": "text/x-python",
   "name": "python",
   "nbconvert_exporter": "python",
   "pygments_lexer": "ipython3",
   "version": "3.10.14"
  }
 },
 "nbformat": 4,
 "nbformat_minor": 5
}
