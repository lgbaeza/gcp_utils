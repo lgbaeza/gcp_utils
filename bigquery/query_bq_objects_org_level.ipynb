{
 "cells": [
  {
   "cell_type": "markdown",
   "id": "9d446679-90d1-4687-9cc0-32a8630ebb77",
   "metadata": {},
   "source": [
    "# List BQ objects at the organization level\n",
    "\n",
    "Luis Gerardo Baeza, August 2024"
   ]
  },
  {
   "cell_type": "markdown",
   "id": "a6219ca1-43c0-40fc-8592-1cf0f011688c",
   "metadata": {
    "tags": []
   },
   "source": [
    "[The BigQuery Documentation](https://cloud.google.com/bigquery/docs/information-schema-views#required_permissions) explains how to retrieve objects (such as views and tables at the project level or dataset level). However, for large organizations handling several projects, sometimes this is needed at the organizational level. This scripts creates a pandas dataframe with the objects (tables or views) by iterating all projects.\n",
    "\n",
    "### Permissions required\n",
    "* Browser permission on the organization\n",
    "* BigQuery Metadata Viewer (roles/bigquery.metadataViewer) on each project"
   ]
  },
  {
   "cell_type": "code",
   "execution_count": null,
   "id": "b80a4079-dc62-435d-9a4f-97c8474ab630",
   "metadata": {
    "tags": []
   },
   "outputs": [],
   "source": [
    "pip install google-cloud-resource-manager"
   ]
  },
  {
   "cell_type": "code",
   "execution_count": 76,
   "id": "c96b49b5-fd0b-4202-a0fe-a14732a980cb",
   "metadata": {
    "tags": []
   },
   "outputs": [],
   "source": [
    "from google.cloud import bigquery\n",
    "from google.cloud import resourcemanager\n",
    "import pandas as pd"
   ]
  },
  {
   "cell_type": "code",
   "execution_count": 107,
   "id": "b7199c09-2b89-4342-b69f-24af49a3a4b2",
   "metadata": {
    "tags": []
   },
   "outputs": [],
   "source": [
    "rm_client = resourcemanager.ProjectsClient()\n",
    "bq_client = bigquery.Client()\n",
    "regions = [\"us-east1\", \"us\"] # Replace with your own region IDs\n",
    "org_id = \"\" # Insert with your organization ID\n",
    "object_type = \"TABLES\" # VIEWS or TABLES"
   ]
  },
  {
   "cell_type": "code",
   "execution_count": 103,
   "id": "b7ab5ba0-ff44-4246-b8a4-e9c2adf72457",
   "metadata": {
    "tags": []
   },
   "outputs": [],
   "source": [
    "projects_list = []\n",
    "projects = list(rm_client.list_projects(parent=f\"organizations/{org_id}\"))\n",
    "for project in projects:\n",
    "    projects_list.append(project.project_id)"
   ]
  },
  {
   "cell_type": "code",
   "execution_count": null,
   "id": "c90e9dc7-990e-474c-8816-282723901c81",
   "metadata": {
    "tags": []
   },
   "outputs": [],
   "source": [
    "all_bq_objects = []\n",
    "    \n",
    "for region in regions:\n",
    "    print(region)\n",
    "\n",
    "    for project_id in projects_list:\n",
    "        print(project_id)\n",
    "\n",
    "        query = f\"\"\"\n",
    "            SELECT \n",
    "              table_catalog as project_id,\n",
    "              table_schema as dataset,\n",
    "              table_name as view_name\n",
    "            FROM `{project_id}.region-{region}.INFORMATION_SCHEMA.{object_type}`\n",
    "        \"\"\"\n",
    "        print(query)\n",
    "\n",
    "        query_job = bq_client.query(query)\n",
    "        results = [dict(row) for row in query_job.result()]\n",
    "        all_bq_objects += results"
   ]
  },
  {
   "cell_type": "code",
   "execution_count": 110,
   "id": "12ff43da-824c-4035-a579-e3c8ee75a8a2",
   "metadata": {
    "tags": []
   },
   "outputs": [
    {
     "data": {
      "text/plain": [
       "'91 objects found across 7 projects in 2 regions'"
      ]
     },
     "execution_count": 110,
     "metadata": {},
     "output_type": "execute_result"
    }
   ],
   "source": [
    "f\"{len(all_bq_objects)} objects found across {len(projects)} projects in {len(region)} regions\""
   ]
  },
  {
   "cell_type": "code",
   "execution_count": null,
   "id": "25f41b60-51c7-46ad-aea3-3111613eaa13",
   "metadata": {
    "tags": []
   },
   "outputs": [],
   "source": [
    "bq_objects = pd.DataFrame(all_bq_objects)\n",
    "bq_objects"
   ]
  },
  {
   "cell_type": "code",
   "execution_count": null,
   "id": "47da626a-29e2-4541-8828-09512880240d",
   "metadata": {},
   "outputs": [],
   "source": []
  }
 ],
 "metadata": {
  "environment": {
   "kernel": "conda-base-py",
   "name": "workbench-notebooks.m121",
   "type": "gcloud",
   "uri": "us-docker.pkg.dev/deeplearning-platform-release/gcr.io/workbench-notebooks:m121"
  },
  "kernelspec": {
   "display_name": "Python 3 (ipykernel) (Local)",
   "language": "python",
   "name": "conda-base-py"
  },
  "language_info": {
   "codemirror_mode": {
    "name": "ipython",
    "version": 3
   },
   "file_extension": ".py",
   "mimetype": "text/x-python",
   "name": "python",
   "nbconvert_exporter": "python",
   "pygments_lexer": "ipython3",
   "version": "3.10.14"
  }
 },
 "nbformat": 4,
 "nbformat_minor": 5
}
