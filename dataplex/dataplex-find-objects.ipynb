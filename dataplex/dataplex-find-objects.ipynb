{
 "cells": [
  {
   "cell_type": "markdown",
   "id": "8d68d0f8-d6cc-43ec-8b8c-4ad798597e59",
   "metadata": {},
   "source": [
    "# Find objects in an organization or folder level\n",
    "Luis Gerardo Baeza, 31 Julio 2025"
   ]
  },
  {
   "cell_type": "code",
   "execution_count": null,
   "id": "0220b473-64c0-4708-8aa7-d9765d9eb1f1",
   "metadata": {
    "tags": []
   },
   "outputs": [],
   "source": [
    "org_id = \"folders/0000000\" #could be organization/123213 (id)\n",
    "location = \"us\""
   ]
  },
  {
   "cell_type": "code",
   "execution_count": null,
   "id": "42a74d79-dda0-4a30-9c27-9d790f03c20b",
   "metadata": {
    "tags": []
   },
   "outputs": [],
   "source": [
    "entry_group = \"@bigquery\"\n",
    "entry_type = \"bigquery-view\" # Object to find"
   ]
  },
  {
   "cell_type": "code",
   "execution_count": null,
   "id": "29bfa5e3-3bfc-4747-8599-ed619342d31a",
   "metadata": {
    "tags": []
   },
   "outputs": [],
   "source": [
    "from google.cloud import resourcemanager_v3\n",
    "from google.cloud import dataplex_v1\n",
    "\n",
    "rm_client = resourcemanager_v3.ProjectsClient()\n",
    "dplx_client = dataplex_v1.CatalogServiceClient()"
   ]
  },
  {
   "cell_type": "code",
   "execution_count": null,
   "id": "4127d374-3c64-4804-b20e-b67a95556d80",
   "metadata": {
    "tags": []
   },
   "outputs": [],
   "source": [
    "# Iterate over projects\n",
    "objects = []\n",
    "proj_list = rm_client.list_projects(parent=org_id)\n",
    "for project in proj_list:\n",
    "    proj_id = project.project_id\n",
    "    proj_number = project.name[project.name.find(\"/\")+1:]\n",
    "    \n",
    "    if proj_id == \"lgbaeza-202310\":\n",
    "        # Iterave over catalog\n",
    "        for entry in dplx_client.list_entries(parent=f\"projects/{proj_id}/locations/{location}/entryGroups/{entry_group}\"):\n",
    "            entry_type = entry.entry_type[entry.entry_type.find(\"entryTypes/\")+11:]\n",
    "            if entry_type == \"bigquery-view\":\n",
    "                entry_name = entry.name[entry.name.find(\"datasets/\"):]\n",
    "                objects.append(f\"projects/{proj_id}/{entry_name}\")"
   ]
  },
  {
   "cell_type": "code",
   "execution_count": null,
   "id": "d4120bac-80aa-4941-8bcb-8838cb8afb3b",
   "metadata": {
    "tags": []
   },
   "outputs": [],
   "source": [
    "objects"
   ]
  },
  {
   "cell_type": "code",
   "execution_count": null,
   "id": "24d2113f-6faf-4309-9ed7-c1a7676935c0",
   "metadata": {},
   "outputs": [],
   "source": []
  }
 ],
 "metadata": {
  "environment": {
   "kernel": "conda-base-py",
   "name": "workbench-notebooks.m131",
   "type": "gcloud",
   "uri": "us-docker.pkg.dev/deeplearning-platform-release/gcr.io/workbench-notebooks:m131"
  },
  "kernelspec": {
   "display_name": "Python 3 (ipykernel) (Local)",
   "language": "python",
   "name": "conda-base-py"
  },
  "language_info": {
   "codemirror_mode": {
    "name": "ipython",
    "version": 3
   },
   "file_extension": ".py",
   "mimetype": "text/x-python",
   "name": "python",
   "nbconvert_exporter": "python",
   "pygments_lexer": "ipython3",
   "version": "3.10.18"
  }
 },
 "nbformat": 4,
 "nbformat_minor": 5
}
