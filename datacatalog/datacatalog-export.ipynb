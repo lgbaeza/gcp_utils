{
 "cells": [
  {
   "cell_type": "markdown",
   "id": "69267bb9-438d-4d15-bee2-83f4eefc8091",
   "metadata": {},
   "source": [
    "# Data catalog export\n",
    "\n",
    "https://cloud.google.com/python/docs/reference/bigquery/latest/google.cloud.bigquery.client.Client#google_cloud_bigquery_client_Client_get_table\n",
    "\n",
    "Generated with Gemini and tested"
   ]
  },
  {
   "cell_type": "markdown",
   "id": "c6265cf2-4ec8-414a-a241-c0a0b8bcb728",
   "metadata": {
    "tags": []
   },
   "source": [
    "Luis Gerardo Baeza <br>\n",
    "Jun 18, 2024 <br>\n",
    "Use on your own responsibility"
   ]
  },
  {
   "cell_type": "code",
   "execution_count": null,
   "id": "8a19e94f-6745-411e-84a9-043c757e3507",
   "metadata": {
    "tags": []
   },
   "outputs": [],
   "source": [
    "pip install google-cloud-datacatalog"
   ]
  },
  {
   "cell_type": "code",
   "execution_count": null,
   "id": "2747d5d7-a70b-44a4-b713-2d25b3a80ed1",
   "metadata": {
    "tags": []
   },
   "outputs": [],
   "source": [
    "from google.cloud import bigquery\n",
    "from google.cloud import datacatalog_v1"
   ]
  },
  {
   "cell_type": "code",
   "execution_count": null,
   "id": "e56fbb73-426b-48df-bca2-398d4f4626d8",
   "metadata": {
    "tags": []
   },
   "outputs": [],
   "source": [
    "project_id = \"\"\n",
    "dataset_id = \"\"\n",
    "\n",
    "bq_client = bigquery.Client(project=project_id)\n",
    "datacatalog_client = datacatalog_v1.PolicyTagManagerClient()\n",
    "\n",
    "dataset_ref = bq_client.dataset(dataset_id)\n",
    "tables = bq_client.list_tables(dataset_ref)\n",
    "tables"
   ]
  },
  {
   "cell_type": "markdown",
   "id": "2ab15c8f-47a6-46f4-9d70-03ebf60f98fb",
   "metadata": {},
   "source": [
    "### Print table schema information"
   ]
  },
  {
   "cell_type": "code",
   "execution_count": null,
   "id": "c90ed9fa-c624-40e6-90a1-7b84f879da6a",
   "metadata": {
    "tags": []
   },
   "outputs": [],
   "source": [
    "table_info = []\n",
    "for table in tables:\n",
    "    table_ref = dataset_ref.table(table.table_id)\n",
    "    table_obj = bq_client.get_table(table_ref)  # Get table details\n",
    "    \n",
    "    # Extract Schema\n",
    "    schema_info = []\n",
    "    for field in table_obj.schema:\n",
    "        policy_tags = field.policy_tags.names if field.policy_tags else None\n",
    "        schema_info.append({\n",
    "            'name': field.name,\n",
    "            'type': field.field_type,\n",
    "            'mode': field.mode,\n",
    "            'policy_tags': policy_tags\n",
    "        })\n",
    "        \n",
    "        if policy_tags != None: \n",
    "            print(policy_tags)\n",
    "\n",
    "    # Store Table Information\n",
    "    table_info.append({\n",
    "        'table_id': table.table_id,\n",
    "        'schema': schema_info,\n",
    "    })"
   ]
  },
  {
   "cell_type": "markdown",
   "id": "99f5d815-e08e-4a9e-8f89-6b61a461777e",
   "metadata": {},
   "source": [
    "### Find the related policy tag information"
   ]
  },
  {
   "cell_type": "code",
   "execution_count": null,
   "id": "ddc2b076-127b-49f1-863b-88c3036b4c05",
   "metadata": {
    "tags": []
   },
   "outputs": [],
   "source": [
    "# Replace with the taxonomy id got from previous line in the form of \n",
    "# projects/project_id/locations/location/taxonomies/taxonomy_id\n",
    "taxonomy_path = ''"
   ]
  },
  {
   "cell_type": "code",
   "execution_count": null,
   "id": "70aa0704-335b-4a7a-8494-4ba65d76a9ba",
   "metadata": {
    "tags": []
   },
   "outputs": [],
   "source": [
    "# Replace with the policy tag id got from previous line in the form of \n",
    "# projects/project_id/locations/location/taxonomies/taxonomy_id/policyTags/tag_id\n",
    "policy_tag_path = ''"
   ]
  },
  {
   "cell_type": "code",
   "execution_count": null,
   "id": "af91daf2-8687-494e-bafb-cd99f340e9e0",
   "metadata": {
    "tags": []
   },
   "outputs": [],
   "source": [
    "# Get Taxonomy info\n",
    "datacatalog_client.get_taxonomy(name=taxonomy_path)"
   ]
  },
  {
   "cell_type": "code",
   "execution_count": null,
   "id": "1fbbd6f8-74e6-4a0a-8b5b-2bd32a1e3cc0",
   "metadata": {},
   "outputs": [],
   "source": [
    "# Get the policy tag name\n",
    "datacatalog_client.get_policy_tag(name=policy_tag_path)"
   ]
  },
  {
   "cell_type": "code",
   "execution_count": null,
   "id": "09e34e5e-0a41-4715-9b37-3cc1acc8ebc1",
   "metadata": {},
   "outputs": [],
   "source": []
  }
 ],
 "metadata": {
  "environment": {
   "kernel": "conda-base-py",
   "name": "workbench-notebooks.m121",
   "type": "gcloud",
   "uri": "us-docker.pkg.dev/deeplearning-platform-release/gcr.io/workbench-notebooks:m121"
  },
  "kernelspec": {
   "display_name": "Python 3 (ipykernel) (Local)",
   "language": "python",
   "name": "conda-base-py"
  },
  "language_info": {
   "codemirror_mode": {
    "name": "ipython",
    "version": 3
   },
   "file_extension": ".py",
   "mimetype": "text/x-python",
   "name": "python",
   "nbconvert_exporter": "python",
   "pygments_lexer": "ipython3",
   "version": "3.10.14"
  }
 },
 "nbformat": 4,
 "nbformat_minor": 5
}
