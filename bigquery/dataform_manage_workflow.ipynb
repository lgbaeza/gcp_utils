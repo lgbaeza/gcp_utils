{
 "cells": [
  {
   "cell_type": "markdown",
   "id": "9eec6cb1-b6f4-45c8-ab19-4cf0e21ae496",
   "metadata": {},
   "source": [
    "# Manage dataform workflow executions\n",
    "Using Dataform Python SDK:\n",
    "- [list_workflow_invocations](https://cloud.google.com/python/docs/reference/dataform/latest/google.cloud.dataform_v1.services.dataform.DataformClient#google_cloud_dataform_v1_services_dataform_DataformClient_list_workflow_invocations) method.\n",
    "- [query_workflow_invocation_actions](https://cloud.google.com/python/docs/reference/dataform/latest/google.cloud.dataform_v1.services.dataform.DataformClient#google_cloud_dataform_v1_services_dataform_DataformClient_query_workflow_invocation_actions) method.\n",
    "\n",
    "Luis Gerardo Baeza, Apr 14th"
   ]
  },
  {
   "cell_type": "markdown",
   "id": "6ecff2c0-562e-4f18-8b3a-f49cbf418890",
   "metadata": {
    "tags": []
   },
   "source": [
    "#### Install and import dependencies"
   ]
  },
  {
   "cell_type": "code",
   "execution_count": 87,
   "id": "22556ea9-f548-46a4-bc6a-0dc352586884",
   "metadata": {
    "tags": []
   },
   "outputs": [
    {
     "name": "stdout",
     "output_type": "stream",
     "text": [
      "Note: you may need to restart the kernel to use updated packages.\n"
     ]
    }
   ],
   "source": [
    "pip install --upgrade --quiet google-cloud-dataform"
   ]
  },
  {
   "cell_type": "markdown",
   "id": "202dca55-c6c9-42a3-b43f-8d2e4011a7e2",
   "metadata": {},
   "source": [
    "**Restart kernel**"
   ]
  },
  {
   "cell_type": "code",
   "execution_count": 1,
   "id": "46dbba51-ef11-4f43-a1b5-fbcc006e246f",
   "metadata": {
    "tags": []
   },
   "outputs": [],
   "source": [
    "from google.cloud import dataform_v1"
   ]
  },
  {
   "cell_type": "code",
   "execution_count": 27,
   "id": "7c653a70-48a8-40e1-afe3-0058dbeabbf7",
   "metadata": {
    "tags": []
   },
   "outputs": [],
   "source": [
    "GCP_PROJECT_ID = \"\" # Set your GCP Project ID\n",
    "GCP_LOCATION = \"southamerica-east1\" # Set your GCP region\n",
    "DATAFORM_REPOSITORY_ID = \"\" # Set your dataform repository ID"
   ]
  },
  {
   "cell_type": "code",
   "execution_count": 28,
   "id": "36e43766-cdb5-4b70-a271-3eb3d5b2c254",
   "metadata": {
    "tags": []
   },
   "outputs": [],
   "source": [
    "daf_client = dataform_v1.DataformClient()\n",
    "parent = f\"projects/{GCP_PROJECT_ID}/locations/{GCP_LOCATION}/repositories/{DATAFORM_REPOSITORY_ID}\""
   ]
  },
  {
   "cell_type": "code",
   "execution_count": 29,
   "id": "6ef7b80e-f218-4db5-a454-1cbc25c81f0c",
   "metadata": {
    "scrolled": true,
    "tags": []
   },
   "outputs": [],
   "source": [
    "page_result = daf_client.list_workflow_invocations(\n",
    "    parent = parent\n",
    ")"
   ]
  },
  {
   "cell_type": "markdown",
   "id": "2d5c6e91-9767-41f5-b83a-7c75dfd92cdd",
   "metadata": {},
   "source": [
    "#### Preview a workflow invocation response"
   ]
  },
  {
   "cell_type": "markdown",
   "id": "5d432327-0151-4d21-baf7-25118f75d7a1",
   "metadata": {},
   "source": [
    "**WorkflowInvocation**\n",
    "````json\n",
    "{\n",
    "  name: \"projects/xxxxx/locations/xxxxx/repositories/xxxxx/workflowInvocations/xxxxx\n",
    "  compilation_result: \"projects/xxxxx/locations/xxxxx/repositories/xxxxx/compilationResults/xxxxx\"\n",
    "  state: FAILED\n",
    "  invocation_timing {\n",
    "    start_time {\n",
    "      seconds: 1743631063\n",
    "      nanos: 107315000\n",
    "    }\n",
    "    end_time {\n",
    "      seconds: 1743631068\n",
    "      nanos: 949698556\n",
    "    }\n",
    "  }\n",
    "  resolved_compilation_result: \"projects/xxxxx/locations/xxxxx/repositories/xxxxx/compilationResults/xxxxx\"\n",
    "  internal_metadata: \"\"\n",
    "}\n",
    "````"
   ]
  },
  {
   "cell_type": "code",
   "execution_count": null,
   "id": "19ad52b4-a66b-4fdb-92e0-19af09dec67b",
   "metadata": {
    "tags": []
   },
   "outputs": [],
   "source": [
    "for page in page_result:\n",
    "    print(page)\n",
    "    break"
   ]
  },
  {
   "cell_type": "markdown",
   "id": "19b5bdfe-9231-41b5-9a65-225315564e14",
   "metadata": {},
   "source": [
    "#### Preview an action result from a failed invocation "
   ]
  },
  {
   "cell_type": "markdown",
   "id": "eba8015a-ae07-4929-a8be-c67b6b51c07e",
   "metadata": {
    "tags": []
   },
   "source": [
    "**WorkflowInvocationAction**\n",
    "````json\n",
    "{\n",
    "    target {\n",
    "      database: \"bq_project_id\"\n",
    "      schema: \"bq_dataset_id\"\n",
    "      name: \"bq_table_id\"\n",
    "    }\n",
    "    canonical_target {\n",
    "      database: \"bq_project_id\"\n",
    "      schema: \"bq_dataset_id\"\n",
    "      name: \"bq_dataset_id\"\n",
    "    }\n",
    "    state: FAILED\n",
    "    invocation_timing {\n",
    "      start_time {\n",
    "        seconds: 1743631063\n",
    "        nanos: 412573479\n",
    "      }\n",
    "      end_time {\n",
    "        seconds: 1743631068\n",
    "        nanos: 863949346\n",
    "      }\n",
    "    }\n",
    "    bigquery_action {\n",
    "      sql_script: \"    BEGIN\\n  CREATE SCHEMA IF NOT EXISTS... xxxxx;\"\n",
    "      job_id: \"dataform-gcp-xxxxx-0\"\n",
    "    }\n",
    "    failure_reason: \"Not found: Table was not found in ... xxxx \"\n",
    "    internal_metadata: \"\"\n",
    "}\n",
    "\n",
    "````"
   ]
  },
  {
   "cell_type": "code",
   "execution_count": null,
   "id": "48f0c7d2-2e65-4cb8-9f6f-fb9a55c21f3d",
   "metadata": {
    "scrolled": true,
    "tags": []
   },
   "outputs": [],
   "source": [
    "for response in page_result:\n",
    "    if(response.state) == dataform_v1.types.WorkflowInvocation.State.FAILED:\n",
    "        workflow_invocation_actions = df_client.query_workflow_invocation_actions(\n",
    "            {\"name\": response.name}\n",
    "        )\n",
    "        \n",
    "        for action in workflow_invocation_actions:\n",
    "            print(action)\n",
    "            break\n",
    "    \n",
    "    break"
   ]
  },
  {
   "cell_type": "code",
   "execution_count": null,
   "id": "0726ca31-58e1-4e17-ab96-9b9a1e0f84f5",
   "metadata": {},
   "outputs": [],
   "source": []
  }
 ],
 "metadata": {
  "environment": {
   "kernel": "conda-base-py",
   "name": "workbench-notebooks.m121",
   "type": "gcloud",
   "uri": "us-docker.pkg.dev/deeplearning-platform-release/gcr.io/workbench-notebooks:m121"
  },
  "kernelspec": {
   "display_name": "Python 3 (ipykernel) (Local)",
   "language": "python",
   "name": "conda-base-py"
  },
  "language_info": {
   "codemirror_mode": {
    "name": "ipython",
    "version": 3
   },
   "file_extension": ".py",
   "mimetype": "text/x-python",
   "name": "python",
   "nbconvert_exporter": "python",
   "pygments_lexer": "ipython3",
   "version": "3.10.14"
  }
 },
 "nbformat": 4,
 "nbformat_minor": 5
}
