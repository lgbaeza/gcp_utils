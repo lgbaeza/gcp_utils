{
 "cells": [
  {
   "cell_type": "markdown",
   "id": "69267bb9-438d-4d15-bee2-83f4eefc8091",
   "metadata": {},
   "source": [
    "# Data catalog export\n",
    "\n",
    "https://cloud.google.com/python/docs/reference/bigquery/latest/google.cloud.bigquery.client.Client#google_cloud_bigquery_client_Client_get_table",
    "Generated with Gemini and tested on Jun 18 2024"
   ]
  },
  {
   "cell_type": "code",
   "execution_count": null,
   "id": "2747d5d7-a70b-44a4-b713-2d25b3a80ed1",
   "metadata": {
    "tags": []
   },
   "outputs": [],
   "source": [
    "from google.cloud import bigquery"
   ]
  },
  {
   "cell_type": "code",
   "execution_count": null,
   "id": "e56fbb73-426b-48df-bca2-398d4f4626d8",
   "metadata": {
    "tags": []
   },
   "outputs": [],
   "source": [
    "project_id = \"\"\n",
    "dataset_id = \"\"\n",
    "\n",
    "client = bigquery.Client(project=project_id)\n",
    "\n",
    "dataset_ref = client.dataset(dataset_id)\n",
    "tables = client.list_tables(dataset_ref)\n",
    "tables"
   ]
  },
  {
   "cell_type": "code",
   "execution_count": null,
   "id": "c90ed9fa-c624-40e6-90a1-7b84f879da6a",
   "metadata": {
    "tags": []
   },
   "outputs": [],
   "source": [
    "\n",
    "table_info = []\n",
    "for table in tables:\n",
    "    table_ref = dataset_ref.table(table.table_id)\n",
    "    table_obj = client.get_table(table_ref)  # Get table details\n",
    "    \n",
    "    print(table_obj)\n",
    "    \n",
    "    # Extract Schema\n",
    "    schema_info = []\n",
    "    for field in table_obj.schema:\n",
    "        schema_info.append({\n",
    "            'name': field.name,\n",
    "            'type': field.field_type,\n",
    "            'mode': field.mode,\n",
    "            'policy_tags': field.policy_tags.names if field.policy_tags else None\n",
    "        })\n",
    "\n",
    "    # Store Table Information\n",
    "    table_info.append({\n",
    "        'table_id': table.table_id,\n",
    "        'schema': schema_info,\n",
    "    })\n",
    "    \n",
    "    print(table_info)"
   ]
  },
  {
   "cell_type": "code",
   "execution_count": null,
   "id": "1fbbd6f8-74e6-4a0a-8b5b-2bd32a1e3cc0",
   "metadata": {},
   "outputs": [],
   "source": [
    "\n",
    "\n",
    "    "
   ]
  }
 ],
 "metadata": {
  "environment": {
   "kernel": "conda-base-py",
   "name": "workbench-notebooks.m121",
   "type": "gcloud",
   "uri": "us-docker.pkg.dev/deeplearning-platform-release/gcr.io/workbench-notebooks:m121"
  },
  "kernelspec": {
   "display_name": "Python 3 (ipykernel) (Local)",
   "language": "python",
   "name": "conda-base-py"
  },
  "language_info": {
   "codemirror_mode": {
    "name": "ipython",
    "version": 3
   },
   "file_extension": ".py",
   "mimetype": "text/x-python",
   "name": "python",
   "nbconvert_exporter": "python",
   "pygments_lexer": "ipython3",
   "version": "3.10.14"
  }
 },
 "nbformat": 4,
 "nbformat_minor": 5
}
