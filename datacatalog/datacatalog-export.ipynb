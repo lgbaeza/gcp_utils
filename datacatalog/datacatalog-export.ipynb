{
 "cells": [
  {
   "cell_type": "markdown",
   "id": "69267bb9-438d-4d15-bee2-83f4eefc8091",
   "metadata": {},
   "source": [
    "# Data catalog export\n",
    "\n",
    "https://cloud.google.com/python/docs/reference/bigquery/latest/google.cloud.bigquery.client.Client#google_cloud_bigquery_client_Client_get_table\n",
    "\n",
    "Generated with Gemini and tested"
   ]
  },
  {
   "cell_type": "markdown",
   "id": "c6265cf2-4ec8-414a-a241-c0a0b8bcb728",
   "metadata": {
    "tags": []
   },
   "source": [
    "Luis Gerardo Baeza <br>\n",
    "Jun 18, 2024 <br>\n",
    "Use on your own responsibility"
   ]
  },
  {
   "cell_type": "code",
   "execution_count": null,
   "id": "8a19e94f-6745-411e-84a9-043c757e3507",
   "metadata": {
    "tags": []
   },
   "outputs": [],
   "source": [
    "pip install google-cloud-datacatalog"
   ]
  },
  {
   "cell_type": "code",
   "execution_count": null,
   "id": "2747d5d7-a70b-44a4-b713-2d25b3a80ed1",
   "metadata": {
    "tags": []
   },
   "outputs": [],
   "source": [
    "from google.cloud import bigquery\n",
    "from google.cloud import datacatalog_v1\n",
    "import pandas as pd\n",
    "import re"
   ]
  },
  {
   "cell_type": "code",
   "execution_count": null,
   "id": "e56fbb73-426b-48df-bca2-398d4f4626d8",
   "metadata": {
    "tags": []
   },
   "outputs": [],
   "source": [
    "project_id = \"\"\n",
    "dataset_id = \"\"\n",
    "\n",
    "bq_client = bigquery.Client(project=project_id)\n",
    "datacatalog_client = datacatalog_v1.PolicyTagManagerClient()\n",
    "\n",
    "dataset_ref = bq_client.dataset(dataset_id)\n",
    "tables = list(bq_client.list_tables(dataset_ref))"
   ]
  },
  {
   "cell_type": "code",
   "execution_count": null,
   "id": "9f526e27-4727-4b05-a065-d6dfe8e802f6",
   "metadata": {
    "tags": []
   },
   "outputs": [],
   "source": [
    "def get_policytags_info(parent):\n",
    "    taxonomy_path = parent[:re.search(r\"(.*/)(.*/)(.*/)(.*/)(.*/)(.*/)\", parent).end(5)-1]\n",
    "    taxonomy = datacatalog_client.get_taxonomy(name=taxonomy_path)\n",
    "    policy_tag = datacatalog_client.get_policy_tag(name=parent)\n",
    "    \n",
    "    return taxonomy.display_name, policy_tag.display_name"
   ]
  },
  {
   "cell_type": "markdown",
   "id": "2ab15c8f-47a6-46f4-9d70-03ebf60f98fb",
   "metadata": {},
   "source": [
    "### Print table schema information"
   ]
  },
  {
   "cell_type": "markdown",
   "id": "91568871-03fd-472b-bf64-985e850e17f8",
   "metadata": {},
   "source": [
    "### JSON format"
   ]
  },
  {
   "cell_type": "code",
   "execution_count": null,
   "id": "c90ed9fa-c624-40e6-90a1-7b84f879da6a",
   "metadata": {
    "tags": []
   },
   "outputs": [],
   "source": [
    "table_info = []\n",
    "for table in tables:\n",
    "    table_ref = dataset_ref.table(table.table_id)\n",
    "    table_obj = bq_client.get_table(table_ref)  # Get table details\n",
    "    \n",
    "    # Extract Schema\n",
    "    schema_info = []\n",
    "    for field in table_obj.schema:\n",
    "        policy_tags = []\n",
    "        if field.policy_tags:\n",
    "            tags = list(field.policy_tags.names) \n",
    "            policy_tags_names = []\n",
    "            for parent in tags:\n",
    "                taxonomy, p_tag = get_policytags_info(parent)\n",
    "                policy_tags_names.append(f\"{taxonomy}:{p_tag}\")\n",
    "            policy_tags = policy_tags_names\n",
    "\n",
    "        field_obj = {\n",
    "            'name': field.name,\n",
    "            'type': field.field_type,\n",
    "            'mode': field.mode,\n",
    "            'policy_tags': policy_tags\n",
    "        }\n",
    "        schema_info.append(field_obj)\n",
    "\n",
    "    # Store Table Information\n",
    "    table_info.append({\n",
    "        'table_id': table.table_id,\n",
    "        'schema': schema_info,\n",
    "    })\n",
    "table_info"
   ]
  },
  {
   "cell_type": "code",
   "execution_count": null,
   "id": "843657bb-cecb-44c3-9cb5-92eb71ea326d",
   "metadata": {
    "tags": []
   },
   "outputs": [],
   "source": [
    "df = pd.DataFrame(table_info)\n",
    "df.head()"
   ]
  },
  {
   "cell_type": "markdown",
   "id": "9f4f83f3-8871-4736-8cbc-d99ecb95d436",
   "metadata": {},
   "source": [
    "### Expanded Format"
   ]
  },
  {
   "cell_type": "code",
   "execution_count": null,
   "id": "91b0518d-d93f-46d1-b643-6551f2bbae78",
   "metadata": {
    "tags": []
   },
   "outputs": [],
   "source": [
    "table_info = []\n",
    "for table in tables:\n",
    "    table_ref = dataset_ref.table(table.table_id)\n",
    "    table_obj = bq_client.get_table(table_ref)  # Get table details\n",
    "    \n",
    "    # Extract Schema\n",
    "    schema_info = []\n",
    "    policy_tags = []\n",
    "    for field in table_obj.schema:\n",
    "        if field.policy_tags:\n",
    "            tags = list(field.policy_tags.names) \n",
    "            policy_tags_names = []\n",
    "            for parent in tags:\n",
    "                taxonomy, p_tag = get_policytags_info(parent)\n",
    "                policy_tags_names.append(f\"{taxonomy}:{p_tag}\")\n",
    "            policy_tags = policy_tags_names\n",
    "\n",
    "        field_obj = {\n",
    "            'table': table.table_id,\n",
    "            'column': field.name,\n",
    "            'type': field.field_type,\n",
    "            'mode': field.mode,\n",
    "            'policy_tags': policy_tags\n",
    "        }\n",
    "        table_info.append(field_obj)\n",
    "\n",
    "table_info"
   ]
  },
  {
   "cell_type": "code",
   "execution_count": null,
   "id": "5777516f-8ecb-4ac8-8cbe-554fe40489a2",
   "metadata": {
    "tags": []
   },
   "outputs": [],
   "source": [
    "df = pd.DataFrame(table_info)\n",
    "df.head(20)"
   ]
  },
  {
   "cell_type": "code",
   "execution_count": null,
   "id": "09e34e5e-0a41-4715-9b37-3cc1acc8ebc1",
   "metadata": {},
   "outputs": [],
   "source": []
  }
 ],
 "metadata": {
  "environment": {
   "kernel": "python3",
   "name": "tf2-cpu.2-11.m114",
   "type": "gcloud",
   "uri": "gcr.io/deeplearning-platform-release/tf2-cpu.2-11:m114"
  },
  "kernelspec": {
   "display_name": "Python 3 (Local)",
   "language": "python",
   "name": "python3"
  },
  "language_info": {
   "codemirror_mode": {
    "name": "ipython",
    "version": 3
   },
   "file_extension": ".py",
   "mimetype": "text/x-python",
   "name": "python",
   "nbconvert_exporter": "python",
   "pygments_lexer": "ipython3",
   "version": "3.10.13"
  }
 },
 "nbformat": 4,
 "nbformat_minor": 5
}
